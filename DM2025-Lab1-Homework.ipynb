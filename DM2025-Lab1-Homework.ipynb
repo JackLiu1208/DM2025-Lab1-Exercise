{
 "cells": [
  {
   "cell_type": "markdown",
   "metadata": {},
   "source": [
    "### Student Information\n",
    "Name:劉明捷\n",
    "\n",
    "Student ID:114033632\n",
    "\n",
    "GitHub ID:JackLiu1208"
   ]
  },
  {
   "cell_type": "markdown",
   "metadata": {},
   "source": [
    "---"
   ]
  },
  {
   "cell_type": "markdown",
   "metadata": {},
   "source": [
    "### Instructions"
   ]
  },
  {
   "cell_type": "markdown",
   "metadata": {},
   "source": [
    "### First Phase Submission"
   ]
  },
  {
   "cell_type": "markdown",
   "metadata": {},
   "source": [
    "1. First: do the **take home** exercises in the [DM2025-Lab1-Master](https://github.com/leoson-wu/DM2025-Lab1-Exercise/blob/main/DM2025-Lab1-Master.ipynb) that considered as **phase 1 (from exercise 1 to exercise 15)**. You can answer in the master file. __This part is worth 10% of your grade.__\n",
    "\n",
    "\n",
    "2. Second: follow the same process from the [DM2025-Lab1-Master](https://github.com/leoson-wu/DM2025-Lab1-Exercise/blob/main/DM2025-Lab1-Master.ipynb) on **the new dataset** up **until phase 1**. You can skip some exercises if you think some steps are not necessary. However main exercises should be completed. You don't need to explain all details as we did (some **minimal comments** explaining your code are useful though).  __This part is worth 15% of your grade.__\n",
    "    -  Use [the new dataset](https://github.com/leoson-wu/DM2025-Lab1-Exercise/blob/main/newdataset/Reddit-stock-sentiment.csv). The dataset contains a 16 columns including 'text' and 'label', with the sentiment labels being: 1.0 is positive, 0.0 is neutral and -1.0 is negative. You can simplify the dataset and use only the columns that you think are necessary. \n",
    "    \n",
    "    - You are allowed to use and modify the `helper` functions in the folder of the first lab session (notice they may need modification) or create your own.\n",
    "    - Use this file to complete the homework from the second part. Make sure the code can be run from the beginning till the end and has all the needed output.\n",
    "\n",
    "\n",
    "3. Third: please attempt the following tasks on **the new dataset**. __This part is worth 10% of your grade.__\n",
    "    - Generate meaningful **new data visualizations**. Refer to online resources and the Data Mining textbook for inspiration and ideas. \n",
    "    \n",
    "\n",
    "\n",
    "4. Fourth: It's hard for us to follow if your code is messy, so please **tidy up your notebook** and **add minimal comments where needed**. __This part is worth 5% of your grade.__\n",
    "\n",
    "You can submit your homework following these guidelines: [DM2025-Lab1-announcement](https://github.com/leoson-wu/DM2025-Lab1-Announcement/blob/main/README.md). Make sure to commit and save your changes to your repository __BEFORE the deadline (September 28th 11:59 pm, Sunday)__. "
   ]
  },
  {
   "cell_type": "markdown",
   "metadata": {},
   "source": [
    "### Second Phase Submission "
   ]
  },
  {
   "cell_type": "markdown",
   "metadata": {},
   "source": [
    "**You can keep the answer for phase 1 for easier running and update the phase 2 on the same page.**\n",
    "\n",
    "1. First: Continue doing the **take home** exercises in the [DM2025-Lab1-Master](https://github.com/leoson-wu/DM2025-Lab1-Exercise/blob/main/DM2025-Lab1-Master.ipynb) for **phase 2, starting from Finding frequent patterns**. Use the same master(.ipynb) file. Answer from phase 1 will not be considered at this stage. You can answer in the master file. __This part is worth 10% of your grade.__\n",
    "\n",
    "\n",
    "2. Second: Continue from first phase and do the same process from the [DM2025-Lab1-Master](https://github.com/leoson-wu/DM2025-Lab1-Exercise/blob/main/DM2025-Lab1-Master.ipynb) on **the new dataset** for phase 2, starting from Finding frequent pattern. You can skip some exercises if you think some steps are not necessary. However main exercises should be completed. You don't need to explain all details as we did (some **minimal comments** explaining your code are useful though).  __This part is worth 15% of your grade.__\n",
    "    - Continue using this file to complete the homework from the second part. Make sure the code can be run from the beginning till the end and has all the needed output. Use the same new dataset as in phase 1.\n",
    "    \n",
    "    - You are allowed to use and modify the `helper` functions in the folder of the first lab session (notice they may need modification) or create your own.\n",
    "\n",
    "3. Third: please attempt the following tasks on **the new dataset**. __This part is worth 20% of your grade.__\n",
    "    - Use this file to answer.\n",
    "    - Generate **TF-IDF features** from the tokens of each text. This will generating a document matrix, however, the weights will be computed differently (using the TF-IDF value of each word per document as opposed to the word frequency).  Refer to this Scikit-learn [guide](http://scikit-learn.org/stable/modules/generated/sklearn.feature_extraction.text.TfidfVectorizer.html) .\n",
    "    - Implement a simple **Naive Bayes classifier** that automatically classifies the records into their categories. Use both the TF-IDF features and word frequency features to build two seperate classifiers. Note that for the TF-IDF features you might need to use other type of NB classifier different than the one in the Master Notebook. Comment on the differences and when using augmentation with feature pattern.  Refer to this [article](https://hub.packtpub.com/implementing-3-naive-bayes-classifiers-in-scikit-learn/).\n",
    "\n",
    "\n",
    "4. Fourth: In the lab, we applied each step really quickly just to illustrate how to work with your dataset. There are somethings that are not ideal or the most efficient/meaningful. Each dataset can be handled differently as well. What are those inefficent parts you noticed? How can you improve the Data preprocessing for these specific datasets? __This part is worth 10% of your grade.__\n",
    "\n",
    "\n",
    "5. Fifth: It's hard for us to follow if your code is messy, so please **tidy up your notebook** and **add minimal comments where needed**. __This part is worth 5% of your grade.__\n",
    "\n",
    "\n",
    "You can submit your homework following these guidelines: [DM2025-Lab1-announcement](https://github.com/leoson-wu/DM2025-Lab1-Announcement/blob/main/README.md). Make sure to commit and save your changes to your repository __BEFORE the deadline (October 19th 11:59 pm, Sunday)__. "
   ]
  },
  {
   "cell_type": "markdown",
   "metadata": {},
   "source": [
    "# Phase 1"
   ]
  },
  {
   "cell_type": "markdown",
   "metadata": {},
   "source": [
    "## Second"
   ]
  },
  {
   "cell_type": "code",
   "execution_count": 96,
   "metadata": {},
   "outputs": [
    {
     "name": "stdout",
     "output_type": "stream",
     "text": [
      "The autoreload extension is already loaded. To reload it, use:\n",
      "  %reload_ext autoreload\n",
      "c:\\Users\\Administrator\\.virtualenvs\\DM2025-Lab1-Exercise-6CgUjXLp\\Scripts\\python.exe\n",
      "3.11.0 (main, Oct 24 2022, 18:26:48) [MSC v.1933 64 bit (AMD64)]\n"
     ]
    }
   ],
   "source": [
    "### Begin Assignment Here\n",
    "# envirronment setup\n",
    "import pandas as pd\n",
    "import numpy as np\n",
    "import matplotlib.pyplot as plt\n",
    "import seaborn as sns\n",
    "import plotly.express as px\n",
    "import plotly.graph_objects as go\n",
    "import math\n",
    "from sklearn.feature_extraction.text import CountVectorizer\n",
    "import helpers.data_mining_helpers as dmh\n",
    "\n",
    "# TEST necessary for when working with external scripts\n",
    "%load_ext autoreload\n",
    "%autoreload 2\n",
    "\n",
    "import sys\n",
    "print(sys.executable) # my pipenv path\n",
    "print(sys.version) #3.11.0"
   ]
  },
  {
   "cell_type": "markdown",
   "metadata": {},
   "source": [
    "### Data Preparation"
   ]
  },
  {
   "cell_type": "code",
   "execution_count": 97,
   "metadata": {},
   "outputs": [],
   "source": [
    "# use pandas to read csv file\n",
    "df = pd.read_csv('newdataset/Reddit-stock-sentiment.csv')"
   ]
  },
  {
   "cell_type": "code",
   "execution_count": 98,
   "metadata": {},
   "outputs": [
    {
     "data": {
      "text/html": [
       "<div>\n",
       "<style scoped>\n",
       "    .dataframe tbody tr th:only-of-type {\n",
       "        vertical-align: middle;\n",
       "    }\n",
       "\n",
       "    .dataframe tbody tr th {\n",
       "        vertical-align: top;\n",
       "    }\n",
       "\n",
       "    .dataframe thead th {\n",
       "        text-align: right;\n",
       "    }\n",
       "</style>\n",
       "<table border=\"1\" class=\"dataframe\">\n",
       "  <thead>\n",
       "    <tr style=\"text-align: right;\">\n",
       "      <th></th>\n",
       "      <th>type</th>\n",
       "      <th>datetime</th>\n",
       "      <th>post_id</th>\n",
       "      <th>subreddit</th>\n",
       "      <th>title</th>\n",
       "      <th>author</th>\n",
       "      <th>url</th>\n",
       "      <th>upvotes</th>\n",
       "      <th>downvotes</th>\n",
       "      <th>upvote_ratio</th>\n",
       "      <th>text</th>\n",
       "      <th>subjectivity</th>\n",
       "      <th>polarity</th>\n",
       "      <th>sentiment</th>\n",
       "      <th>entities</th>\n",
       "      <th>label</th>\n",
       "    </tr>\n",
       "  </thead>\n",
       "  <tbody>\n",
       "    <tr>\n",
       "      <th>0</th>\n",
       "      <td>comment</td>\n",
       "      <td>2025-04-11 17:29:56</td>\n",
       "      <td>mmli62w</td>\n",
       "      <td>wallstreetbets</td>\n",
       "      <td>Retardation is on the menu boys! WSB is so back</td>\n",
       "      <td>StickyTip420</td>\n",
       "      <td>https://i.redd.it/0yq2ftren8ue1.jpeg</td>\n",
       "      <td>0</td>\n",
       "      <td>NaN</td>\n",
       "      <td>NaN</td>\n",
       "      <td>Calls on retards</td>\n",
       "      <td>1.000000</td>\n",
       "      <td>-0.900000</td>\n",
       "      <td>-1.0</td>\n",
       "      <td>[]</td>\n",
       "      <td>-1.0</td>\n",
       "    </tr>\n",
       "    <tr>\n",
       "      <th>1</th>\n",
       "      <td>comment</td>\n",
       "      <td>2025-04-12 1:12:19</td>\n",
       "      <td>mmnu7v9</td>\n",
       "      <td>wallstreetbets</td>\n",
       "      <td>Retail giant TARGET has now declined for 10 co...</td>\n",
       "      <td>Comfortable-Dog-8437</td>\n",
       "      <td>https://i.redd.it/7tl6puv9waue1.jpeg</td>\n",
       "      <td>-15</td>\n",
       "      <td>NaN</td>\n",
       "      <td>NaN</td>\n",
       "      <td>Stunt as in like why did they even make a big ...</td>\n",
       "      <td>0.177778</td>\n",
       "      <td>0.083333</td>\n",
       "      <td>1.0</td>\n",
       "      <td>['Stunt', 'company', 'deal', 'place']</td>\n",
       "      <td>0.0</td>\n",
       "    </tr>\n",
       "    <tr>\n",
       "      <th>2</th>\n",
       "      <td>comment</td>\n",
       "      <td>2025-04-10 15:09:41</td>\n",
       "      <td>mmeevio</td>\n",
       "      <td>StockMarket</td>\n",
       "      <td>How do you feel about a sitting president maki...</td>\n",
       "      <td>Btankersly66</td>\n",
       "      <td>https://apnews.com/article/trump-truth-social-...</td>\n",
       "      <td>1</td>\n",
       "      <td>NaN</td>\n",
       "      <td>NaN</td>\n",
       "      <td>Seeing lots of red in the ticker.</td>\n",
       "      <td>0.000000</td>\n",
       "      <td>0.000000</td>\n",
       "      <td>0.0</td>\n",
       "      <td>['ticker']</td>\n",
       "      <td>0.0</td>\n",
       "    </tr>\n",
       "    <tr>\n",
       "      <th>3</th>\n",
       "      <td>post</td>\n",
       "      <td>2023-08-30 17:12:55</td>\n",
       "      <td>165kllm</td>\n",
       "      <td>stockstobuytoday</td>\n",
       "      <td>Who knows more? $VMAR</td>\n",
       "      <td>emiljenfn</td>\n",
       "      <td>https://www.reddit.com/r/stockstobuytoday/comm...</td>\n",
       "      <td>30</td>\n",
       "      <td>0.0</td>\n",
       "      <td>0.98</td>\n",
       "      <td>Vision Marine Technologies Inc. is rewriting t...</td>\n",
       "      <td>0.646970</td>\n",
       "      <td>0.216383</td>\n",
       "      <td>1.0</td>\n",
       "      <td>['watercraft', 'skill', 'power', ']', 'feat', ...</td>\n",
       "      <td>1.0</td>\n",
       "    </tr>\n",
       "    <tr>\n",
       "      <th>4</th>\n",
       "      <td>comment</td>\n",
       "      <td>2025-04-11 14:48:05</td>\n",
       "      <td>mmkl6bw</td>\n",
       "      <td>StockMarket</td>\n",
       "      <td>The Trump administration is begging Xi Jinping...</td>\n",
       "      <td>Just-Big6411</td>\n",
       "      <td>https://edition.cnn.com/2025/04/10/politics/tr...</td>\n",
       "      <td>1</td>\n",
       "      <td>NaN</td>\n",
       "      <td>NaN</td>\n",
       "      <td>He didn’t say thank you.</td>\n",
       "      <td>0.000000</td>\n",
       "      <td>0.000000</td>\n",
       "      <td>0.0</td>\n",
       "      <td>[]</td>\n",
       "      <td>-1.0</td>\n",
       "    </tr>\n",
       "    <tr>\n",
       "      <th>5</th>\n",
       "      <td>comment</td>\n",
       "      <td>2025-04-12 2:19:03</td>\n",
       "      <td>mmo4k9g</td>\n",
       "      <td>wallstreetbets</td>\n",
       "      <td>Weekend Discussion Thread for the Weekend of A...</td>\n",
       "      <td>PolarNimbus</td>\n",
       "      <td>https://www.reddit.com/r/wallstreetbets/commen...</td>\n",
       "      <td>16</td>\n",
       "      <td>NaN</td>\n",
       "      <td>NaN</td>\n",
       "      <td>Hoping to ejaculate in wet warm puss tonight, ...</td>\n",
       "      <td>0.500000</td>\n",
       "      <td>0.250000</td>\n",
       "      <td>1.0</td>\n",
       "      <td>['tonight', 'puss']</td>\n",
       "      <td>0.0</td>\n",
       "    </tr>\n",
       "  </tbody>\n",
       "</table>\n",
       "</div>"
      ],
      "text/plain": [
       "      type  ... label\n",
       "0  comment  ...  -1.0\n",
       "1  comment  ...   0.0\n",
       "2  comment  ...   0.0\n",
       "3     post  ...   1.0\n",
       "4  comment  ...  -1.0\n",
       "5  comment  ...   0.0\n",
       "\n",
       "[6 rows x 16 columns]"
      ]
     },
     "execution_count": 98,
     "metadata": {},
     "output_type": "execute_result"
    }
   ],
   "source": [
    "df.head(6)"
   ]
  },
  {
   "cell_type": "code",
   "execution_count": 99,
   "metadata": {},
   "outputs": [
    {
     "name": "stdout",
     "output_type": "stream",
     "text": [
      "Index(['type', 'datetime', 'post_id', 'subreddit', 'title', 'author', 'url',\n",
      "       'upvotes', 'downvotes', 'upvote_ratio', 'text', 'subjectivity',\n",
      "       'polarity', 'sentiment', 'entities', 'label'],\n",
      "      dtype='object')\n",
      "<class 'pandas.core.frame.DataFrame'>\n",
      "RangeIndex: 847 entries, 0 to 846\n",
      "Data columns (total 16 columns):\n",
      " #   Column        Non-Null Count  Dtype  \n",
      "---  ------        --------------  -----  \n",
      " 0   type          847 non-null    object \n",
      " 1   datetime      847 non-null    object \n",
      " 2   post_id       847 non-null    object \n",
      " 3   subreddit     847 non-null    object \n",
      " 4   title         847 non-null    object \n",
      " 5   author        847 non-null    object \n",
      " 6   url           847 non-null    object \n",
      " 7   upvotes       847 non-null    int64  \n",
      " 8   downvotes     64 non-null     float64\n",
      " 9   upvote_ratio  64 non-null     float64\n",
      " 10  text          847 non-null    object \n",
      " 11  subjectivity  847 non-null    float64\n",
      " 12  polarity      847 non-null    float64\n",
      " 13  sentiment     847 non-null    float64\n",
      " 14  entities      847 non-null    object \n",
      " 15  label         847 non-null    float64\n",
      "dtypes: float64(6), int64(1), object(9)\n",
      "memory usage: 106.0+ KB\n"
     ]
    }
   ],
   "source": [
    "print(df.columns)\n",
    "df.info()"
   ]
  },
  {
   "cell_type": "code",
   "execution_count": 100,
   "metadata": {},
   "outputs": [
    {
     "name": "stdout",
     "output_type": "stream",
     "text": [
      "Calls on retards\n",
      "Stunt as in like why did they even make a big deal about starting it in the first place? No company should ever talk about politics ever.\n",
      "Seeing lots of red in the ticker.\n"
     ]
    }
   ],
   "source": [
    "for t in df[\"text\"][:3]:\n",
    "    print(t)"
   ]
  },
  {
   "cell_type": "code",
   "execution_count": 101,
   "metadata": {},
   "outputs": [
    {
     "data": {
      "text/html": [
       "<div>\n",
       "<style scoped>\n",
       "    .dataframe tbody tr th:only-of-type {\n",
       "        vertical-align: middle;\n",
       "    }\n",
       "\n",
       "    .dataframe tbody tr th {\n",
       "        vertical-align: top;\n",
       "    }\n",
       "\n",
       "    .dataframe thead th {\n",
       "        text-align: right;\n",
       "    }\n",
       "</style>\n",
       "<table border=\"1\" class=\"dataframe\">\n",
       "  <thead>\n",
       "    <tr style=\"text-align: right;\">\n",
       "      <th></th>\n",
       "      <th>type</th>\n",
       "      <th>datetime</th>\n",
       "      <th>post_id</th>\n",
       "      <th>subreddit</th>\n",
       "      <th>title</th>\n",
       "      <th>author</th>\n",
       "      <th>url</th>\n",
       "      <th>upvotes</th>\n",
       "      <th>downvotes</th>\n",
       "      <th>upvote_ratio</th>\n",
       "      <th>text</th>\n",
       "      <th>subjectivity</th>\n",
       "      <th>polarity</th>\n",
       "      <th>sentiment</th>\n",
       "      <th>entities</th>\n",
       "      <th>label</th>\n",
       "    </tr>\n",
       "  </thead>\n",
       "  <tbody>\n",
       "    <tr>\n",
       "      <th>0</th>\n",
       "      <td>comment</td>\n",
       "      <td>2025-04-11 17:29:56</td>\n",
       "      <td>mmli62w</td>\n",
       "      <td>wallstreetbets</td>\n",
       "      <td>Retardation is on the menu boys! WSB is so back</td>\n",
       "      <td>StickyTip420</td>\n",
       "      <td>https://i.redd.it/0yq2ftren8ue1.jpeg</td>\n",
       "      <td>0</td>\n",
       "      <td>NaN</td>\n",
       "      <td>NaN</td>\n",
       "      <td>Calls on retards</td>\n",
       "      <td>1.000000</td>\n",
       "      <td>-0.900000</td>\n",
       "      <td>-1.0</td>\n",
       "      <td>[]</td>\n",
       "      <td>-1.0</td>\n",
       "    </tr>\n",
       "    <tr>\n",
       "      <th>1</th>\n",
       "      <td>comment</td>\n",
       "      <td>2025-04-12 1:12:19</td>\n",
       "      <td>mmnu7v9</td>\n",
       "      <td>wallstreetbets</td>\n",
       "      <td>Retail giant TARGET has now declined for 10 co...</td>\n",
       "      <td>Comfortable-Dog-8437</td>\n",
       "      <td>https://i.redd.it/7tl6puv9waue1.jpeg</td>\n",
       "      <td>-15</td>\n",
       "      <td>NaN</td>\n",
       "      <td>NaN</td>\n",
       "      <td>Stunt as in like why did they even make a big ...</td>\n",
       "      <td>0.177778</td>\n",
       "      <td>0.083333</td>\n",
       "      <td>1.0</td>\n",
       "      <td>['Stunt', 'company', 'deal', 'place']</td>\n",
       "      <td>0.0</td>\n",
       "    </tr>\n",
       "    <tr>\n",
       "      <th>2</th>\n",
       "      <td>comment</td>\n",
       "      <td>2025-04-10 15:09:41</td>\n",
       "      <td>mmeevio</td>\n",
       "      <td>StockMarket</td>\n",
       "      <td>How do you feel about a sitting president maki...</td>\n",
       "      <td>Btankersly66</td>\n",
       "      <td>https://apnews.com/article/trump-truth-social-...</td>\n",
       "      <td>1</td>\n",
       "      <td>NaN</td>\n",
       "      <td>NaN</td>\n",
       "      <td>Seeing lots of red in the ticker.</td>\n",
       "      <td>0.000000</td>\n",
       "      <td>0.000000</td>\n",
       "      <td>0.0</td>\n",
       "      <td>['ticker']</td>\n",
       "      <td>0.0</td>\n",
       "    </tr>\n",
       "    <tr>\n",
       "      <th>3</th>\n",
       "      <td>post</td>\n",
       "      <td>2023-08-30 17:12:55</td>\n",
       "      <td>165kllm</td>\n",
       "      <td>stockstobuytoday</td>\n",
       "      <td>Who knows more? $VMAR</td>\n",
       "      <td>emiljenfn</td>\n",
       "      <td>https://www.reddit.com/r/stockstobuytoday/comm...</td>\n",
       "      <td>30</td>\n",
       "      <td>0.0</td>\n",
       "      <td>0.98</td>\n",
       "      <td>Vision Marine Technologies Inc. is rewriting t...</td>\n",
       "      <td>0.646970</td>\n",
       "      <td>0.216383</td>\n",
       "      <td>1.0</td>\n",
       "      <td>['watercraft', 'skill', 'power', ']', 'feat', ...</td>\n",
       "      <td>1.0</td>\n",
       "    </tr>\n",
       "  </tbody>\n",
       "</table>\n",
       "</div>"
      ],
      "text/plain": [
       "      type  ... label\n",
       "0  comment  ...  -1.0\n",
       "1  comment  ...   0.0\n",
       "2  comment  ...   0.0\n",
       "3     post  ...   1.0\n",
       "\n",
       "[4 rows x 16 columns]"
      ]
     },
     "execution_count": 101,
     "metadata": {},
     "output_type": "execute_result"
    }
   ],
   "source": [
    "df.loc[:3]"
   ]
  },
  {
   "cell_type": "code",
   "execution_count": 102,
   "metadata": {},
   "outputs": [
    {
     "data": {
      "text/html": [
       "<div>\n",
       "<style scoped>\n",
       "    .dataframe tbody tr th:only-of-type {\n",
       "        vertical-align: middle;\n",
       "    }\n",
       "\n",
       "    .dataframe tbody tr th {\n",
       "        vertical-align: top;\n",
       "    }\n",
       "\n",
       "    .dataframe thead th {\n",
       "        text-align: right;\n",
       "    }\n",
       "</style>\n",
       "<table border=\"1\" class=\"dataframe\">\n",
       "  <thead>\n",
       "    <tr style=\"text-align: right;\">\n",
       "      <th></th>\n",
       "      <th>type</th>\n",
       "      <th>datetime</th>\n",
       "      <th>post_id</th>\n",
       "      <th>subreddit</th>\n",
       "      <th>title</th>\n",
       "      <th>author</th>\n",
       "      <th>url</th>\n",
       "      <th>upvotes</th>\n",
       "      <th>downvotes</th>\n",
       "      <th>upvote_ratio</th>\n",
       "      <th>text</th>\n",
       "      <th>subjectivity</th>\n",
       "      <th>polarity</th>\n",
       "      <th>sentiment</th>\n",
       "      <th>entities</th>\n",
       "      <th>label</th>\n",
       "    </tr>\n",
       "  </thead>\n",
       "  <tbody>\n",
       "    <tr>\n",
       "      <th>0</th>\n",
       "      <td>2025-04-11 17:29:56</td>\n",
       "      <td>comment</td>\n",
       "      <td>mmli62w</td>\n",
       "      <td>wallstreetbets</td>\n",
       "      <td>Retardation is on the menu boys! WSB is so back</td>\n",
       "      <td>StickyTip420</td>\n",
       "      <td>https://i.redd.it/0yq2ftren8ue1.jpeg</td>\n",
       "      <td>0</td>\n",
       "      <td>NaN</td>\n",
       "      <td>NaN</td>\n",
       "      <td>Calls on retards</td>\n",
       "      <td>1.000000</td>\n",
       "      <td>-0.900000</td>\n",
       "      <td>-1.0</td>\n",
       "      <td>[]</td>\n",
       "      <td>-1.0</td>\n",
       "    </tr>\n",
       "    <tr>\n",
       "      <th>1</th>\n",
       "      <td>2025-04-12 1:12:19</td>\n",
       "      <td>comment</td>\n",
       "      <td>mmnu7v9</td>\n",
       "      <td>wallstreetbets</td>\n",
       "      <td>Retail giant TARGET has now declined for 10 co...</td>\n",
       "      <td>Comfortable-Dog-8437</td>\n",
       "      <td>https://i.redd.it/7tl6puv9waue1.jpeg</td>\n",
       "      <td>-15</td>\n",
       "      <td>NaN</td>\n",
       "      <td>NaN</td>\n",
       "      <td>Stunt as in like why did they even make a big ...</td>\n",
       "      <td>0.177778</td>\n",
       "      <td>0.083333</td>\n",
       "      <td>1.0</td>\n",
       "      <td>['Stunt', 'company', 'deal', 'place']</td>\n",
       "      <td>0.0</td>\n",
       "    </tr>\n",
       "    <tr>\n",
       "      <th>2</th>\n",
       "      <td>2025-04-10 15:09:41</td>\n",
       "      <td>comment</td>\n",
       "      <td>mmeevio</td>\n",
       "      <td>StockMarket</td>\n",
       "      <td>How do you feel about a sitting president maki...</td>\n",
       "      <td>Btankersly66</td>\n",
       "      <td>https://apnews.com/article/trump-truth-social-...</td>\n",
       "      <td>1</td>\n",
       "      <td>NaN</td>\n",
       "      <td>NaN</td>\n",
       "      <td>Seeing lots of red in the ticker.</td>\n",
       "      <td>0.000000</td>\n",
       "      <td>0.000000</td>\n",
       "      <td>0.0</td>\n",
       "      <td>['ticker']</td>\n",
       "      <td>0.0</td>\n",
       "    </tr>\n",
       "    <tr>\n",
       "      <th>3</th>\n",
       "      <td>2023-08-30 17:12:55</td>\n",
       "      <td>post</td>\n",
       "      <td>165kllm</td>\n",
       "      <td>stockstobuytoday</td>\n",
       "      <td>Who knows more? $VMAR</td>\n",
       "      <td>emiljenfn</td>\n",
       "      <td>https://www.reddit.com/r/stockstobuytoday/comm...</td>\n",
       "      <td>30</td>\n",
       "      <td>0.0</td>\n",
       "      <td>0.98</td>\n",
       "      <td>Vision Marine Technologies Inc. is rewriting t...</td>\n",
       "      <td>0.646970</td>\n",
       "      <td>0.216383</td>\n",
       "      <td>1.0</td>\n",
       "      <td>['watercraft', 'skill', 'power', ']', 'feat', ...</td>\n",
       "      <td>1.0</td>\n",
       "    </tr>\n",
       "  </tbody>\n",
       "</table>\n",
       "</div>"
      ],
      "text/plain": [
       "                  type  ... label\n",
       "0  2025-04-11 17:29:56  ...  -1.0\n",
       "1   2025-04-12 1:12:19  ...   0.0\n",
       "2  2025-04-10 15:09:41  ...   0.0\n",
       "3  2023-08-30 17:12:55  ...   1.0\n",
       "\n",
       "[4 rows x 16 columns]"
      ]
     },
     "execution_count": 102,
     "metadata": {},
     "output_type": "execute_result"
    }
   ],
   "source": [
    "# ex2 swap the columns\n",
    "df2 = df.copy() # use copy to avoid modifying original df\n",
    "df2[['datetime','type']] = df2[['type', 'datetime']]\n",
    "df2.loc[:3]\n",
    "# compare with original df\n",
    "# the data in the two columns are swapped"
   ]
  },
  {
   "cell_type": "code",
   "execution_count": 103,
   "metadata": {},
   "outputs": [
    {
     "data": {
      "text/html": [
       "<div>\n",
       "<style scoped>\n",
       "    .dataframe tbody tr th:only-of-type {\n",
       "        vertical-align: middle;\n",
       "    }\n",
       "\n",
       "    .dataframe tbody tr th {\n",
       "        vertical-align: top;\n",
       "    }\n",
       "\n",
       "    .dataframe thead th {\n",
       "        text-align: right;\n",
       "    }\n",
       "</style>\n",
       "<table border=\"1\" class=\"dataframe\">\n",
       "  <thead>\n",
       "    <tr style=\"text-align: right;\">\n",
       "      <th></th>\n",
       "      <th>type</th>\n",
       "      <th>datetime</th>\n",
       "      <th>post_id</th>\n",
       "      <th>subreddit</th>\n",
       "      <th>title</th>\n",
       "      <th>author</th>\n",
       "      <th>url</th>\n",
       "      <th>upvotes</th>\n",
       "      <th>downvotes</th>\n",
       "      <th>upvote_ratio</th>\n",
       "      <th>text</th>\n",
       "      <th>subjectivity</th>\n",
       "      <th>polarity</th>\n",
       "      <th>sentiment</th>\n",
       "      <th>entities</th>\n",
       "      <th>label</th>\n",
       "    </tr>\n",
       "  </thead>\n",
       "  <tbody>\n",
       "    <tr>\n",
       "      <th>3</th>\n",
       "      <td>post</td>\n",
       "      <td>2023-08-30 17:12:55</td>\n",
       "      <td>165kllm</td>\n",
       "      <td>stockstobuytoday</td>\n",
       "      <td>Who knows more? $VMAR</td>\n",
       "      <td>emiljenfn</td>\n",
       "      <td>https://www.reddit.com/r/stockstobuytoday/comm...</td>\n",
       "      <td>30</td>\n",
       "      <td>0.0</td>\n",
       "      <td>0.98</td>\n",
       "      <td>Vision Marine Technologies Inc. is rewriting t...</td>\n",
       "      <td>0.646970</td>\n",
       "      <td>0.216383</td>\n",
       "      <td>1.0</td>\n",
       "      <td>['watercraft', 'skill', 'power', ']', 'feat', ...</td>\n",
       "      <td>1.0</td>\n",
       "    </tr>\n",
       "    <tr>\n",
       "      <th>118</th>\n",
       "      <td>comment</td>\n",
       "      <td>2025-04-10 15:31:57</td>\n",
       "      <td>mmejc27</td>\n",
       "      <td>stocks</td>\n",
       "      <td>PRESIDENT TRUMP JUST ASKED THE SUPREME COURT F...</td>\n",
       "      <td>mealucra</td>\n",
       "      <td>https://www.reddit.com/r/stocks/comments/1jvzr...</td>\n",
       "      <td>1</td>\n",
       "      <td>NaN</td>\n",
       "      <td>NaN</td>\n",
       "      <td>Yikes...\\r\\n\\r\\n\\r\\nThis shitshow continually ...</td>\n",
       "      <td>0.763889</td>\n",
       "      <td>-0.266667</td>\n",
       "      <td>-1.0</td>\n",
       "      <td>['shitshow', 'spine', 'drumpf', 'news', 'rabid...</td>\n",
       "      <td>1.0</td>\n",
       "    </tr>\n",
       "    <tr>\n",
       "      <th>254</th>\n",
       "      <td>comment</td>\n",
       "      <td>2025-04-11 14:06:57</td>\n",
       "      <td>mmkczab</td>\n",
       "      <td>StockMarket</td>\n",
       "      <td>Trump: We Are Doing Really Well On Our Tariff ...</td>\n",
       "      <td>Findest</td>\n",
       "      <td>https://i.redd.it/uajqu4kxl7ue1.png</td>\n",
       "      <td>3</td>\n",
       "      <td>NaN</td>\n",
       "      <td>NaN</td>\n",
       "      <td>Perfect some might say.</td>\n",
       "      <td>1.000000</td>\n",
       "      <td>1.000000</td>\n",
       "      <td>1.0</td>\n",
       "      <td>['Perfect']</td>\n",
       "      <td>1.0</td>\n",
       "    </tr>\n",
       "  </tbody>\n",
       "</table>\n",
       "</div>"
      ],
      "text/plain": [
       "        type  ... label\n",
       "3       post  ...   1.0\n",
       "118  comment  ...   1.0\n",
       "254  comment  ...   1.0\n",
       "\n",
       "[3 rows x 16 columns]"
      ]
     },
     "execution_count": 103,
     "metadata": {},
     "output_type": "execute_result"
    }
   ],
   "source": [
    "# EX3 find out specific number or type in a column\n",
    "df[df[\"label\"] == 1.0][::16][:3] # 顯示前 3 個 label = 1 的data的 16 個columes"
   ]
  },
  {
   "cell_type": "markdown",
   "metadata": {},
   "source": [
    "### Data mining\n",
    "#### mising value"
   ]
  },
  {
   "cell_type": "code",
   "execution_count": 104,
   "metadata": {},
   "outputs": [
    {
     "name": "stdout",
     "output_type": "stream",
     "text": [
      "type              0\n",
      "datetime          0\n",
      "post_id           0\n",
      "subreddit         0\n",
      "title             0\n",
      "author            0\n",
      "url               0\n",
      "upvotes           0\n",
      "downvotes       783\n",
      "upvote_ratio    783\n",
      "text              0\n",
      "subjectivity      0\n",
      "polarity          0\n",
      "sentiment         0\n",
      "entities          0\n",
      "label             0\n",
      "dtype: int64\n"
     ]
    }
   ],
   "source": [
    "print(df.isnull().sum()) # check missing value in each column\n",
    "# print(df.isnull())\n",
    "## 從結果可以看到在 downvotes, upvotes_ratio 兩個欄位有缺失值"
   ]
  },
  {
   "cell_type": "code",
   "execution_count": 105,
   "metadata": {},
   "outputs": [
    {
     "data": {
      "text/plain": [
       "0      (The amoung of missing records is: , 2)\n",
       "1      (The amoung of missing records is: , 2)\n",
       "2      (The amoung of missing records is: , 2)\n",
       "3      (The amoung of missing records is: , 0)\n",
       "4      (The amoung of missing records is: , 2)\n",
       "                        ...                   \n",
       "842    (The amoung of missing records is: , 2)\n",
       "843    (The amoung of missing records is: , 2)\n",
       "844    (The amoung of missing records is: , 0)\n",
       "845    (The amoung of missing records is: , 2)\n",
       "846    (The amoung of missing records is: , 2)\n",
       "Length: 847, dtype: object"
      ]
     },
     "execution_count": 105,
     "metadata": {},
     "output_type": "execute_result"
    }
   ],
   "source": [
    "# EX4\n",
    "df.isnull().apply(lambda df: dmh.check_missing_values(df),axis=1)"
   ]
  },
  {
   "cell_type": "markdown",
   "metadata": {},
   "source": [
    "#### duplicate data"
   ]
  },
  {
   "cell_type": "code",
   "execution_count": 106,
   "metadata": {},
   "outputs": [
    {
     "data": {
      "text/plain": [
       "0      False\n",
       "1      False\n",
       "2      False\n",
       "3      False\n",
       "4      False\n",
       "       ...  \n",
       "842    False\n",
       "843    False\n",
       "844    False\n",
       "845    False\n",
       "846    False\n",
       "Length: 847, dtype: bool"
      ]
     },
     "execution_count": 106,
     "metadata": {},
     "output_type": "execute_result"
    }
   ],
   "source": [
    "df.duplicated()"
   ]
  },
  {
   "cell_type": "code",
   "execution_count": 107,
   "metadata": {},
   "outputs": [
    {
     "data": {
      "text/plain": [
       "847"
      ]
     },
     "execution_count": 107,
     "metadata": {},
     "output_type": "execute_result"
    }
   ],
   "source": [
    "df.drop_duplicates(keep=False, inplace=True) # drop all duplicates\n",
    "len(df)"
   ]
  },
  {
   "cell_type": "markdown",
   "metadata": {},
   "source": [
    "### Data preprocessing"
   ]
  },
  {
   "cell_type": "markdown",
   "metadata": {},
   "source": [
    "#### sampling"
   ]
  },
  {
   "cell_type": "code",
   "execution_count": 108,
   "metadata": {},
   "outputs": [
    {
     "data": {
      "text/html": [
       "<div>\n",
       "<style scoped>\n",
       "    .dataframe tbody tr th:only-of-type {\n",
       "        vertical-align: middle;\n",
       "    }\n",
       "\n",
       "    .dataframe tbody tr th {\n",
       "        vertical-align: top;\n",
       "    }\n",
       "\n",
       "    .dataframe thead th {\n",
       "        text-align: right;\n",
       "    }\n",
       "</style>\n",
       "<table border=\"1\" class=\"dataframe\">\n",
       "  <thead>\n",
       "    <tr style=\"text-align: right;\">\n",
       "      <th></th>\n",
       "      <th>type</th>\n",
       "      <th>datetime</th>\n",
       "      <th>post_id</th>\n",
       "      <th>subreddit</th>\n",
       "      <th>title</th>\n",
       "      <th>author</th>\n",
       "      <th>url</th>\n",
       "      <th>upvotes</th>\n",
       "      <th>downvotes</th>\n",
       "      <th>upvote_ratio</th>\n",
       "      <th>text</th>\n",
       "      <th>subjectivity</th>\n",
       "      <th>polarity</th>\n",
       "      <th>sentiment</th>\n",
       "      <th>entities</th>\n",
       "      <th>label</th>\n",
       "    </tr>\n",
       "  </thead>\n",
       "  <tbody>\n",
       "    <tr>\n",
       "      <th>457</th>\n",
       "      <td>comment</td>\n",
       "      <td>2025-04-11 15:42:58</td>\n",
       "      <td>mmkwda9</td>\n",
       "      <td>StockMarket</td>\n",
       "      <td>Trump: We Are Doing Really Well On Our Tariff ...</td>\n",
       "      <td>IamNotaMonkeyRobot</td>\n",
       "      <td>https://i.redd.it/uajqu4kxl7ue1.png</td>\n",
       "      <td>1</td>\n",
       "      <td>NaN</td>\n",
       "      <td>NaN</td>\n",
       "      <td>\"We\" who?</td>\n",
       "      <td>0.00</td>\n",
       "      <td>0.0</td>\n",
       "      <td>0.0</td>\n",
       "      <td>[]</td>\n",
       "      <td>0.0</td>\n",
       "    </tr>\n",
       "    <tr>\n",
       "      <th>342</th>\n",
       "      <td>comment</td>\n",
       "      <td>2025-04-12 3:04:05</td>\n",
       "      <td>mmob98a</td>\n",
       "      <td>wallstreetbets</td>\n",
       "      <td>Retail giant TARGET has now declined for 10 co...</td>\n",
       "      <td>iPlayedHockeInHS</td>\n",
       "      <td>https://i.redd.it/7tl6puv9waue1.jpeg</td>\n",
       "      <td>1</td>\n",
       "      <td>NaN</td>\n",
       "      <td>NaN</td>\n",
       "      <td>Chicken jockey</td>\n",
       "      <td>0.95</td>\n",
       "      <td>-0.6</td>\n",
       "      <td>-1.0</td>\n",
       "      <td>['jockey', 'Chicken']</td>\n",
       "      <td>0.0</td>\n",
       "    </tr>\n",
       "    <tr>\n",
       "      <th>280</th>\n",
       "      <td>comment</td>\n",
       "      <td>2025-04-10 14:40:26</td>\n",
       "      <td>mme8wxn</td>\n",
       "      <td>StockMarket</td>\n",
       "      <td>How do you feel about a sitting president maki...</td>\n",
       "      <td>Narradisall</td>\n",
       "      <td>https://apnews.com/article/trump-truth-social-...</td>\n",
       "      <td>2</td>\n",
       "      <td>NaN</td>\n",
       "      <td>NaN</td>\n",
       "      <td>Not great Bob</td>\n",
       "      <td>0.75</td>\n",
       "      <td>0.8</td>\n",
       "      <td>1.0</td>\n",
       "      <td>['Bob']</td>\n",
       "      <td>-1.0</td>\n",
       "    </tr>\n",
       "  </tbody>\n",
       "</table>\n",
       "</div>"
      ],
      "text/plain": [
       "        type             datetime  ...               entities label\n",
       "457  comment  2025-04-11 15:42:58  ...                     []   0.0\n",
       "342  comment   2025-04-12 3:04:05  ...  ['jockey', 'Chicken']   0.0\n",
       "280  comment  2025-04-10 14:40:26  ...                ['Bob']  -1.0\n",
       "\n",
       "[3 rows x 16 columns]"
      ]
     },
     "execution_count": 108,
     "metadata": {},
     "output_type": "execute_result"
    }
   ],
   "source": [
    "df_sample = df.sample(n = 500, random_state = 42) # sample 500 data from df\n",
    "df_sample[0:3]"
   ]
  },
  {
   "cell_type": "code",
   "execution_count": 109,
   "metadata": {},
   "outputs": [
    {
     "data": {
      "text/plain": [
       "<Axes: title={'center': 'Bar chart of label'}, xlabel='type', ylabel='count'>"
      ]
     },
     "execution_count": 109,
     "metadata": {},
     "output_type": "execute_result"
    },
    {
     "data": {
      "image/png": "[encoded data removed]",
      "text/plain": [
       "<Figure size 640x480 with 1 Axes>"
      ]
     },
     "metadata": {},
     "output_type": "display_data"
    }
   ],
   "source": [
    "# EX7 bar chart\n",
    "df_sample.label.value_counts().plot(kind='bar'\n",
    "    , title='Bar chart of label'\n",
    "    , xlabel='type'\n",
    "    , ylabel='count'\n",
    "    , color=['lightblue', 'orange']\n",
    "    , rot=0)"
   ]
  },
  {
   "cell_type": "code",
   "execution_count": null,
   "metadata": {},
   "outputs": [
    {
     "data": {
      "image/png": "[encoded data removed]",
      "text/plain": [
       "<Figure size 700x500 with 1 Axes>"
      ]
     },
     "metadata": {},
     "output_type": "display_data"
    }
   ],
   "source": [
    "# EX8 camparison between df and df_sample\n",
    "bar_width = 0.2 # width of each bar\n",
    "df_index = np.arange(-1,2,1)\n",
    "fig ,ax = plt.subplots(figsize=(7,5))\n",
    "ax.bar(df_index, df.label.value_counts(), bar_width, label='df', color='blue') # first bar(df)\n",
    "ax.bar(df_index + bar_width, df_sample.label.value_counts(), bar_width, label='df_sample', color='orange') # second bar(df_sample)\n",
    "ax.set_xlabel('label')\n",
    "ax.set_ylabel('count')\n",
    "ax.set_title('Comparison of label counts between df and df_sample')\n",
    "ax.set_xticks(df_index + bar_width / 2)\n",
    "ax.set_xticklabels(['-1', '0', '1'])\n",
    "ax.legend()\n",
    "plt.show()"
   ]
  },
  {
   "cell_type": "markdown",
   "metadata": {},
   "source": [
    "#### feature subset selection"
   ]
  },
  {
   "cell_type": "code",
   "execution_count": 111,
   "metadata": {},
   "outputs": [
    {
     "name": "stdout",
     "output_type": "stream",
     "text": [
      "<Compressed Sparse Row sparse matrix of dtype 'int64'\n",
      "\twith 23 stored elements and shape (1, 4346)>\n",
      "  Coords\tValues\n",
      "  (0, 3696)\t1\n",
      "  (0, 388)\t1\n",
      "  (0, 2024)\t2\n",
      "  (0, 2310)\t1\n",
      "  (0, 4244)\t1\n",
      "  (0, 1168)\t1\n",
      "  (0, 3858)\t1\n",
      "  (0, 1409)\t1\n",
      "  (0, 2402)\t1\n",
      "  (0, 538)\t1\n",
      "  (0, 1083)\t1\n",
      "  (0, 175)\t2\n",
      "  (0, 3628)\t1\n",
      "  (0, 2161)\t1\n",
      "  (0, 3848)\t1\n",
      "  (0, 1568)\t1\n",
      "  (0, 2878)\t1\n",
      "  (0, 2645)\t1\n",
      "  (0, 887)\t1\n",
      "  (0, 3477)\t1\n",
      "  (0, 1412)\t2\n",
      "  (0, 3795)\t1\n",
      "  (0, 2918)\t1\n"
     ]
    },
    {
     "name": "stderr",
     "output_type": "stream",
     "text": [
      "[nltk_data] Downloading package punkt to\n",
      "[nltk_data]     C:\\Users\\Administrator\\AppData\\Roaming\\nltk_data...\n",
      "[nltk_data]   Package punkt is already up-to-date!\n",
      "[nltk_data] Downloading package punkt_tab to\n",
      "[nltk_data]     C:\\Users\\Administrator\\AppData\\Roaming\\nltk_data...\n",
      "[nltk_data]   Package punkt_tab is already up-to-date!\n"
     ]
    }
   ],
   "source": [
    "import nltk\n",
    "nltk.download('punkt')\n",
    "nltk.download('punkt_tab')\n",
    "from sklearn.feature_extraction.text import CountVectorizer\n",
    "\n",
    "count_vect = CountVectorizer()\n",
    "df_count = count_vect.fit_transform(df['text'])\n",
    "print(df_count[1])"
   ]
  },
  {
   "cell_type": "code",
   "execution_count": 112,
   "metadata": {},
   "outputs": [
    {
     "name": "stdout",
     "output_type": "stream",
     "text": [
      "['stunt', 'as', 'in', 'like', 'why', 'did', 'they', 'even', 'make', 'big', 'deal', 'about', 'starting', 'it', 'in', 'the', 'first', 'place', 'no', 'company', 'should', 'ever', 'talk', 'about', 'politics', 'ever']\n"
     ]
    }
   ],
   "source": [
    "analyze = count_vect.build_analyzer()\n",
    "print(analyze(df['text'][1]))"
   ]
  },
  {
   "cell_type": "code",
   "execution_count": 113,
   "metadata": {},
   "outputs": [
    {
     "data": {
      "text/plain": [
       "['stunt',\n",
       " 'as',\n",
       " 'in',\n",
       " 'like',\n",
       " 'why',\n",
       " 'did',\n",
       " 'they',\n",
       " 'even',\n",
       " 'make',\n",
       " 'big',\n",
       " 'deal',\n",
       " 'about',\n",
       " 'starting',\n",
       " 'it',\n",
       " 'in',\n",
       " 'the',\n",
       " 'first',\n",
       " 'place',\n",
       " 'no',\n",
       " 'company',\n",
       " 'should',\n",
       " 'ever',\n",
       " 'talk',\n",
       " 'about',\n",
       " 'politics',\n",
       " 'ever']"
      ]
     },
     "execution_count": 113,
     "metadata": {},
     "output_type": "execute_result"
    }
   ],
   "source": [
    "analyze(df['text'][1])"
   ]
  },
  {
   "cell_type": "code",
   "execution_count": 114,
   "metadata": {},
   "outputs": [
    {
     "data": {
      "text/plain": [
       "(847, 4346)"
      ]
     },
     "execution_count": 114,
     "metadata": {},
     "output_type": "execute_result"
    }
   ],
   "source": [
    "df_count.shape"
   ]
  },
  {
   "cell_type": "code",
   "execution_count": 115,
   "metadata": {},
   "outputs": [
    {
     "name": "stdout",
     "output_type": "stream",
     "text": [
      "[ 1  1  3  3  3  3  3  3  3  3  3  3  6  6  6  6  6  7  8  8  8  9  9  9\n",
      " 13 13 13 13 13 13 14 17 17 17 17 17 18 19 19 19 19 19 19 19 19 19 19 19\n",
      " 19 23 23 23 23 23 23 25 27 30 30 30 31 31 31 31 31 31 31 31 31 31 31 31\n",
      " 31 31 31 31 31 31 31 31 31 31 31 31 31 31 31 31 31 31 31 31 34 34 35 35\n",
      " 35 35 36 36 38 39 39 39 40 40 40 41 42 42 44 44 44 44 45 46 46 47 47 49\n",
      " 49]\n",
      "[175 388  18 175 195 196 197 320 327 404 406 486 225 289 327 374 486 496\n",
      " 133 305 473   8 327 497   8  29  77 100 346 496 499 327 343 388 486 492\n",
      " 327 213 301 305 314 320 327 342 374 388 400 406 486 278 327 374 383 406\n",
      " 453 473 346 176 320 441   1   9  22  38  66  80  88  90  97 100 118 149\n",
      " 213 220 221 248 289 313 327 330 341 347 374 385 387 388 406 446 474 486\n",
      " 487 497 374 448  61 175 327 444 303 327 486 289 346 406 230 274 374 327\n",
      " 374 448  56  81 304 327   9 175 450 158 406 327 374]\n"
     ]
    },
    {
     "data": {
      "text/plain": [
       "'about'"
      ]
     },
     "execution_count": 115,
     "metadata": {},
     "output_type": "execute_result"
    }
   ],
   "source": [
    "# EX10 find out where the non-zero elements are\n",
    "row, col = df_count[:50,:500].toarray().nonzero()\n",
    "print(row)\n",
    "print(col)\n",
    "count_vect.get_feature_names_out()[col[0]]"
   ]
  },
  {
   "cell_type": "code",
   "execution_count": null,
   "metadata": {},
   "outputs": [
    {
     "data": {
      "image/png": "[encoded data removed]",
      "text/plain": [
       "<Figure size 900x700 with 2 Axes>"
      ]
     },
     "metadata": {},
     "output_type": "display_data"
    }
   ],
   "source": [
    "# EX11 使用.nonzero()找出前50筆文件中，所有出現過的前20個大於等於1的term有哪些及其index，並繪製成heatmap\n",
    "row, col = df_count[:50,:500].toarray().nonzero()\n",
    "# 設定heatmap的x,y軸及z值\n",
    "# 只取前50個term來畫圖\n",
    "plot_x = [\"term_\"+str(i) for i in count_vect.get_feature_names_out()[col[0:50]]]\n",
    "plot_y = [\"doc_\"+ str(i) for i in list(df.index)[0:50]]\n",
    "plot_z = df_count[0:50, col[0:50]].toarray() \n",
    "# draw heatmap\n",
    "df_todraw = pd.DataFrame(plot_z, columns = plot_x, index = plot_y)\n",
    "plt.subplots(figsize=(9, 7))\n",
    "ax = sns.heatmap(df_todraw,\n",
    "                 cmap=\"PuRd\",\n",
    "                 vmin=0, vmax=1, annot=True)"
   ]
  },
  {
   "cell_type": "markdown",
   "metadata": {},
   "source": [
    "#### Attribute Transformation / Aggregation"
   ]
  },
  {
   "cell_type": "code",
   "execution_count": 117,
   "metadata": {},
   "outputs": [
    {
     "data": {
      "text/plain": [
       "np.int64(4)"
      ]
     },
     "execution_count": 117,
     "metadata": {},
     "output_type": "execute_result"
    }
   ],
   "source": [
    "term_freq = []\n",
    "for i in range(0, df_count.shape[1]):\n",
    "    term_freq.append(sum(df_count[:,i]).toarray())\n",
    "term_freq = np.asarray(df_count.sum(axis=0))[0]\n",
    "term_freq[0]"
   ]
  },
  {
   "cell_type": "code",
   "execution_count": 118,
   "metadata": {},
   "outputs": [
    {
     "data": {
      "application/vnd.plotly.v1+json": {
       "config": {
        "plotlyServerURL": "https://plot.ly"
       },
       "data": [
        {
         "hovertemplate": "term=%{x}<br>frequency=%{y}<extra></extra>",
         "legendgroup": "",
         "marker": {
          "color": "#636efa",
          "pattern": {
           "shape": ""
          }
         },
         "name": "",
         "orientation": "v",
         "showlegend": false,
         "textposition": "auto",
         "type": "bar",
         "x": [
          "00",
          "000",
          "01378",
          "02",
          "027",
          "03",
          "06",
          "08",
          "10",
          "100",
          "1000",
          "10000",
          "100k",
          "100x",
          "10k",
          "10ks",
          "10yr",
          "11",
          "116",
          "118",
          "12",
          "1242",
          "125",
          "12855584",
          "13",
          "14",
          "140",
          "145",
          "14th",
          "15",
          "150",
          "153",
          "15m",
          "16",
          "160",
          "17",
          "1700",
          "1728",
          "17th",
          "18",
          "186",
          "18630",
          "1870",
          "1934",
          "1945",
          "1947",
          "1953",
          "1961",
          "1969",
          "1973",
          "1974",
          "1981",
          "1992",
          "1999",
          "1k",
          "1m",
          "20",
          "200",
          "2007",
          "200k",
          "2011",
          "2012",
          "2017",
          "2021",
          "20211209",
          "2024",
          "2025",
          "2028",
          "2045",
          "208",
          "21",
          "22",
          "22rate",
          "23",
          "234",
          "235",
          "24",
          "25",
          "250",
          "25bps",
          "25k",
          "27",
          "28",
          "296895",
          "2c_books",
          "2c_wiki_recommendations",
          "2fapps",
          "2k",
          "2nd",
          "2s",
          "30",
          "300",
          "3000",
          "31",
          "31224",
          "31225",
          "31f",
          "33",
          "3306",
          "34",
          "35",
          "350",
          "36",
          "3a",
          "3d",
          "3f",
          "3k",
          "3oz8xzgfhartvh99yi",
          "40",
          "401k",
          "404",
          "41",
          "42",
          "4260",
          "4267",
          "4271",
          "4359",
          "45",
          "4500",
          "456",
          "46",
          "4675",
          "47",
          "4900",
          "4d",
          "4m",
          "4th",
          "4x",
          "50",
          "500",
          "5000",
          "50k",
          "50x",
          "52",
          "522",
          "540",
          "55",
          "58",
          "60",
          "600k",
          "6026762",
          "64",
          "65",
          "66",
          "6969",
          "6k",
          "6th",
          "70",
          "75",
          "7500",
          "77",
          "7k",
          "7s",
          "80",
          "81",
          "83",
          "87",
          "8882",
          "8883",
          "89",
          "90",
          "9000",
          "90k",
          "95",
          "97",
          "98",
          "98th",
          "99",
          "9k",
          "_are",
          "_so",
          "aapl",
          "ability",
          "able",
          "abolish",
          "about",
          "above",
          "absolute",
          "absolutely",
          "abuse",
          "abusing",
          "abysmal",
          "accelerate",
          "accept",
          "acceptable",
          "accepted",
          "access",
          "according",
          "account",
          "accretive",
          "acct",
          "accurate",
          "accurately",
          "aces",
          "acgl",
          "achieved",
          "achievement",
          "achieves",
          "achilles",
          "acn",
          "acquires",
          "acquisition",
          "acquisitions",
          "across",
          "act",
          "action",
          "actionable",
          "actions",
          "actively",
          "activity",
          "actors",
          "acts",
          "actual",
          "actually",
          "ad",
          "adausd",
          "add",
          "added",
          "addicted",
          "addicts",
          "adding",
          "addition",
          "additional",
          "addressed",
          "adjacent",
          "adjust",
          "admin",
          "administration",
          "administrations",
          "admins",
          "admit",
          "admitted",
          "adobe",
          "adp",
          "adult",
          "advanced",
          "advantage",
          "adversaries",
          "advertisements",
          "advice",
          "advise",
          "advised",
          "advisor",
          "advisors",
          "advocating",
          "aerc",
          "aerocontractors",
          "affect",
          "affected",
          "affects",
          "afford",
          "afraid",
          "africa",
          "after",
          "afternoon",
          "afterwards",
          "again",
          "against",
          "agane",
          "age",
          "aged",
          "agencies",
          "agenda",
          "agentnlp",
          "aggressively",
          "aggressor",
          "agnew",
          "ago",
          "agolf",
          "agree",
          "agreed",
          "agreement",
          "agriculture",
          "ahead",
          "ai",
          "aid",
          "aimed",
          "aiming",
          "ain",
          "air",
          "aircraft",
          "airline",
          "airlines",
          "airplane",
          "airplanes",
          "aka",
          "aladeen",
          "albeit",
          "alerts",
          "all",
          "allies",
          "allocating",
          "allocation",
          "allowed",
          "allowing",
          "allows",
          "ally",
          "almasria",
          "almost",
          "alone"
         ],
         "xaxis": "x",
         "y": {
          "bdata": "BAYBAQEBAQEVCwEBAQEBAQEFAwEIAQIBAgEBAQEIAgEBAQEBAQECAgEDAQECAQEBAQEBAQEBAQEHAgEBAQEBAgECBgEBAQIEAQMBAQIHAwECAQIBAQEBAQIBCQEBAQEBAQECAQMCAgECAQEBBAEBAQICAQcBAQEBAQEBAQEBAQEMBAQBAQEBAQEBAgEBAgIBAQEBAgIBAgEBAwEBAQECAQUBAQEBAgEBAQEBAwIGAUgEAQMBAQEBAQIBAQEBAQEFAQEBAQEBAQMBAwEDAgEDAQEEAQIFCwEBAQEBAQMCBAEBAwIKAQEBAQEBAQEBAQEHAQEBAwIBAwMCAQEBARsBAQ4HAQEBAQEBAQEBDAEEAQEBAgUBAQECAwIBBgEBAQEBAmEHAQYDAQMCAwYE",
          "dtype": "i1"
         },
         "yaxis": "y"
        }
       ],
       "layout": {
        "barmode": "relative",
        "legend": {
         "tracegroupgap": 0
        },
        "template": {
         "data": {
          "bar": [
           {
            "error_x": {
             "color": "#2a3f5f"
            },
            "error_y": {
             "color": "#2a3f5f"
            },
            "marker": {
             "line": {
              "color": "#E5ECF6",
              "width": 0.5
             },
             "pattern": {
              "fillmode": "overlay",
              "size": 10,
              "solidity": 0.2
             }
            },
            "type": "bar"
           }
          ],
          "barpolar": [
           {
            "marker": {
             "line": {
              "color": "#E5ECF6",
              "width": 0.5
             },
             "pattern": {
              "fillmode": "overlay",
              "size": 10,
              "solidity": 0.2
             }
            },
            "type": "barpolar"
           }
          ],
          "carpet": [
           {
            "aaxis": {
             "endlinecolor": "#2a3f5f",
             "gridcolor": "white",
             "linecolor": "white",
             "minorgridcolor": "white",
             "startlinecolor": "#2a3f5f"
            },
            "baxis": {
             "endlinecolor": "#2a3f5f",
             "gridcolor": "white",
             "linecolor": "white",
             "minorgridcolor": "white",
             "startlinecolor": "#2a3f5f"
            },
            "type": "carpet"
           }
          ],
          "choropleth": [
           {
            "colorbar": {
             "outlinewidth": 0,
             "ticks": ""
            },
            "type": "choropleth"
           }
          ],
          "contour": [
           {
            "colorbar": {
             "outlinewidth": 0,
             "ticks": ""
            },
            "colorscale": [
             [
              0,
              "#0d0887"
             ],
             [
              0.1111111111111111,
              "#46039f"
             ],
             [
              0.2222222222222222,
              "#7201a8"
             ],
             [
              0.3333333333333333,
              "#9c179e"
             ],
             [
              0.4444444444444444,
              "#bd3786"
             ],
             [
              0.5555555555555556,
              "#d8576b"
             ],
             [
              0.6666666666666666,
              "#ed7953"
             ],
             [
              0.7777777777777778,
              "#fb9f3a"
             ],
             [
              0.8888888888888888,
              "#fdca26"
             ],
             [
              1,
              "#f0f921"
             ]
            ],
            "type": "contour"
           }
          ],
          "contourcarpet": [
           {
            "colorbar": {
             "outlinewidth": 0,
             "ticks": ""
            },
            "type": "contourcarpet"
           }
          ],
          "heatmap": [
           {
            "colorbar": {
             "outlinewidth": 0,
             "ticks": ""
            },
            "colorscale": [
             [
              0,
              "#0d0887"
             ],
             [
              0.1111111111111111,
              "#46039f"
             ],
             [
              0.2222222222222222,
              "#7201a8"
             ],
             [
              0.3333333333333333,
              "#9c179e"
             ],
             [
              0.4444444444444444,
              "#bd3786"
             ],
             [
              0.5555555555555556,
              "#d8576b"
             ],
             [
              0.6666666666666666,
              "#ed7953"
             ],
             [
              0.7777777777777778,
              "#fb9f3a"
             ],
             [
              0.8888888888888888,
              "#fdca26"
             ],
             [
              1,
              "#f0f921"
             ]
            ],
            "type": "heatmap"
           }
          ],
          "histogram": [
           {
            "marker": {
             "pattern": {
              "fillmode": "overlay",
              "size": 10,
              "solidity": 0.2
             }
            },
            "type": "histogram"
           }
          ],
          "histogram2d": [
           {
            "colorbar": {
             "outlinewidth": 0,
             "ticks": ""
            },
            "colorscale": [
             [
              0,
              "#0d0887"
             ],
             [
              0.1111111111111111,
              "#46039f"
             ],
             [
              0.2222222222222222,
              "#7201a8"
             ],
             [
              0.3333333333333333,
              "#9c179e"
             ],
             [
              0.4444444444444444,
              "#bd3786"
             ],
             [
              0.5555555555555556,
              "#d8576b"
             ],
             [
              0.6666666666666666,
              "#ed7953"
             ],
             [
              0.7777777777777778,
              "#fb9f3a"
             ],
             [
              0.8888888888888888,
              "#fdca26"
             ],
             [
              1,
              "#f0f921"
             ]
            ],
            "type": "histogram2d"
           }
          ],
          "histogram2dcontour": [
           {
            "colorbar": {
             "outlinewidth": 0,
             "ticks": ""
            },
            "colorscale": [
             [
              0,
              "#0d0887"
             ],
             [
              0.1111111111111111,
              "#46039f"
             ],
             [
              0.2222222222222222,
              "#7201a8"
             ],
             [
              0.3333333333333333,
              "#9c179e"
             ],
             [
              0.4444444444444444,
              "#bd3786"
             ],
             [
              0.5555555555555556,
              "#d8576b"
             ],
             [
              0.6666666666666666,
              "#ed7953"
             ],
             [
              0.7777777777777778,
              "#fb9f3a"
             ],
             [
              0.8888888888888888,
              "#fdca26"
             ],
             [
              1,
              "#f0f921"
             ]
            ],
            "type": "histogram2dcontour"
           }
          ],
          "mesh3d": [
           {
            "colorbar": {
             "outlinewidth": 0,
             "ticks": ""
            },
            "type": "mesh3d"
           }
          ],
          "parcoords": [
           {
            "line": {
             "colorbar": {
              "outlinewidth": 0,
              "ticks": ""
             }
            },
            "type": "parcoords"
           }
          ],
          "pie": [
           {
            "automargin": true,
            "type": "pie"
           }
          ],
          "scatter": [
           {
            "fillpattern": {
             "fillmode": "overlay",
             "size": 10,
             "solidity": 0.2
            },
            "type": "scatter"
           }
          ],
          "scatter3d": [
           {
            "line": {
             "colorbar": {
              "outlinewidth": 0,
              "ticks": ""
             }
            },
            "marker": {
             "colorbar": {
              "outlinewidth": 0,
              "ticks": ""
             }
            },
            "type": "scatter3d"
           }
          ],
          "scattercarpet": [
           {
            "marker": {
             "colorbar": {
              "outlinewidth": 0,
              "ticks": ""
             }
            },
            "type": "scattercarpet"
           }
          ],
          "scattergeo": [
           {
            "marker": {
             "colorbar": {
              "outlinewidth": 0,
              "ticks": ""
             }
            },
            "type": "scattergeo"
           }
          ],
          "scattergl": [
           {
            "marker": {
             "colorbar": {
              "outlinewidth": 0,
              "ticks": ""
             }
            },
            "type": "scattergl"
           }
          ],
          "scattermap": [
           {
            "marker": {
             "colorbar": {
              "outlinewidth": 0,
              "ticks": ""
             }
            },
            "type": "scattermap"
           }
          ],
          "scattermapbox": [
           {
            "marker": {
             "colorbar": {
              "outlinewidth": 0,
              "ticks": ""
             }
            },
            "type": "scattermapbox"
           }
          ],
          "scatterpolar": [
           {
            "marker": {
             "colorbar": {
              "outlinewidth": 0,
              "ticks": ""
             }
            },
            "type": "scatterpolar"
           }
          ],
          "scatterpolargl": [
           {
            "marker": {
             "colorbar": {
              "outlinewidth": 0,
              "ticks": ""
             }
            },
            "type": "scatterpolargl"
           }
          ],
          "scatterternary": [
           {
            "marker": {
             "colorbar": {
              "outlinewidth": 0,
              "ticks": ""
             }
            },
            "type": "scatterternary"
           }
          ],
          "surface": [
           {
            "colorbar": {
             "outlinewidth": 0,
             "ticks": ""
            },
            "colorscale": [
             [
              0,
              "#0d0887"
             ],
             [
              0.1111111111111111,
              "#46039f"
             ],
             [
              0.2222222222222222,
              "#7201a8"
             ],
             [
              0.3333333333333333,
              "#9c179e"
             ],
             [
              0.4444444444444444,
              "#bd3786"
             ],
             [
              0.5555555555555556,
              "#d8576b"
             ],
             [
              0.6666666666666666,
              "#ed7953"
             ],
             [
              0.7777777777777778,
              "#fb9f3a"
             ],
             [
              0.8888888888888888,
              "#fdca26"
             ],
             [
              1,
              "#f0f921"
             ]
            ],
            "type": "surface"
           }
          ],
          "table": [
           {
            "cells": {
             "fill": {
              "color": "#EBF0F8"
             },
             "line": {
              "color": "white"
             }
            },
            "header": {
             "fill": {
              "color": "#C8D4E3"
             },
             "line": {
              "color": "white"
             }
            },
            "type": "table"
           }
          ]
         },
         "layout": {
          "annotationdefaults": {
           "arrowcolor": "#2a3f5f",
           "arrowhead": 0,
           "arrowwidth": 1
          },
          "autotypenumbers": "strict",
          "coloraxis": {
           "colorbar": {
            "outlinewidth": 0,
            "ticks": ""
           }
          },
          "colorscale": {
           "diverging": [
            [
             0,
             "#8e0152"
            ],
            [
             0.1,
             "#c51b7d"
            ],
            [
             0.2,
             "#de77ae"
            ],
            [
             0.3,
             "#f1b6da"
            ],
            [
             0.4,
             "#fde0ef"
            ],
            [
             0.5,
             "#f7f7f7"
            ],
            [
             0.6,
             "#e6f5d0"
            ],
            [
             0.7,
             "#b8e186"
            ],
            [
             0.8,
             "#7fbc41"
            ],
            [
             0.9,
             "#4d9221"
            ],
            [
             1,
             "#276419"
            ]
           ],
           "sequential": [
            [
             0,
             "#0d0887"
            ],
            [
             0.1111111111111111,
             "#46039f"
            ],
            [
             0.2222222222222222,
             "#7201a8"
            ],
            [
             0.3333333333333333,
             "#9c179e"
            ],
            [
             0.4444444444444444,
             "#bd3786"
            ],
            [
             0.5555555555555556,
             "#d8576b"
            ],
            [
             0.6666666666666666,
             "#ed7953"
            ],
            [
             0.7777777777777778,
             "#fb9f3a"
            ],
            [
             0.8888888888888888,
             "#fdca26"
            ],
            [
             1,
             "#f0f921"
            ]
           ],
           "sequentialminus": [
            [
             0,
             "#0d0887"
            ],
            [
             0.1111111111111111,
             "#46039f"
            ],
            [
             0.2222222222222222,
             "#7201a8"
            ],
            [
             0.3333333333333333,
             "#9c179e"
            ],
            [
             0.4444444444444444,
             "#bd3786"
            ],
            [
             0.5555555555555556,
             "#d8576b"
            ],
            [
             0.6666666666666666,
             "#ed7953"
            ],
            [
             0.7777777777777778,
             "#fb9f3a"
            ],
            [
             0.8888888888888888,
             "#fdca26"
            ],
            [
             1,
             "#f0f921"
            ]
           ]
          },
          "colorway": [
           "#636efa",
           "#EF553B",
           "#00cc96",
           "#ab63fa",
           "#FFA15A",
           "#19d3f3",
           "#FF6692",
           "#B6E880",
           "#FF97FF",
           "#FECB52"
          ],
          "font": {
           "color": "#2a3f5f"
          },
          "geo": {
           "bgcolor": "white",
           "lakecolor": "white",
           "landcolor": "#E5ECF6",
           "showlakes": true,
           "showland": true,
           "subunitcolor": "white"
          },
          "hoverlabel": {
           "align": "left"
          },
          "hovermode": "closest",
          "mapbox": {
           "style": "light"
          },
          "paper_bgcolor": "white",
          "plot_bgcolor": "#E5ECF6",
          "polar": {
           "angularaxis": {
            "gridcolor": "white",
            "linecolor": "white",
            "ticks": ""
           },
           "bgcolor": "#E5ECF6",
           "radialaxis": {
            "gridcolor": "white",
            "linecolor": "white",
            "ticks": ""
           }
          },
          "scene": {
           "xaxis": {
            "backgroundcolor": "#E5ECF6",
            "gridcolor": "white",
            "gridwidth": 2,
            "linecolor": "white",
            "showbackground": true,
            "ticks": "",
            "zerolinecolor": "white"
           },
           "yaxis": {
            "backgroundcolor": "#E5ECF6",
            "gridcolor": "white",
            "gridwidth": 2,
            "linecolor": "white",
            "showbackground": true,
            "ticks": "",
            "zerolinecolor": "white"
           },
           "zaxis": {
            "backgroundcolor": "#E5ECF6",
            "gridcolor": "white",
            "gridwidth": 2,
            "linecolor": "white",
            "showbackground": true,
            "ticks": "",
            "zerolinecolor": "white"
           }
          },
          "shapedefaults": {
           "line": {
            "color": "#2a3f5f"
           }
          },
          "ternary": {
           "aaxis": {
            "gridcolor": "white",
            "linecolor": "white",
            "ticks": ""
           },
           "baxis": {
            "gridcolor": "white",
            "linecolor": "white",
            "ticks": ""
           },
           "bgcolor": "#E5ECF6",
           "caxis": {
            "gridcolor": "white",
            "linecolor": "white",
            "ticks": ""
           }
          },
          "title": {
           "x": 0.05
          },
          "xaxis": {
           "automargin": true,
           "gridcolor": "white",
           "linecolor": "white",
           "ticks": "",
           "title": {
            "standoff": 15
           },
           "zerolinecolor": "white",
           "zerolinewidth": 2
          },
          "yaxis": {
           "automargin": true,
           "gridcolor": "white",
           "linecolor": "white",
           "ticks": "",
           "title": {
            "standoff": 15
           },
           "zerolinecolor": "white",
           "zerolinewidth": 2
          }
         }
        },
        "title": {
         "text": "First 300 terms frequency distribution"
        },
        "xaxis": {
         "anchor": "y",
         "domain": [
          0,
          1
         ],
         "title": {
          "text": "term"
         }
        },
        "yaxis": {
         "anchor": "x",
         "domain": [
          0,
          1
         ],
         "title": {
          "text": "frequency"
         }
        }
       }
      }
     },
     "metadata": {},
     "output_type": "display_data"
    }
   ],
   "source": [
    "# EX12 use poltly to draw the term frequency distribution\n",
    "term_freq_df = pd.DataFrame({'term': count_vect.get_feature_names_out()[:300], 'frequency': term_freq[:300]})\n",
    "fig = px.bar(term_freq_df, x='term', y='frequency', title='First 300 terms frequency distribution')\n",
    "fig.show()"
   ]
  },
  {
   "cell_type": "code",
   "execution_count": null,
   "metadata": {},
   "outputs": [
    {
     "data": {
      "application/vnd.plotly.v1+json": {
       "config": {
        "plotlyServerURL": "https://plot.ly"
       },
       "data": [
        {
         "hovertemplate": "term=%{x}<br>frequency=%{y}<extra></extra>",
         "legendgroup": "",
         "marker": {
          "color": "#636efa",
          "pattern": {
           "shape": ""
          }
         },
         "name": "",
         "orientation": "v",
         "showlegend": false,
         "textposition": "auto",
         "type": "bar",
         "x": [
          "000",
          "10",
          "100",
          "11",
          "12",
          "15",
          "20",
          "2025",
          "25",
          "30",
          "4271",
          "50",
          "90",
          "able",
          "about",
          "accurate",
          "actual",
          "actually",
          "administration",
          "advice",
          "after",
          "again",
          "against",
          "ago",
          "ai",
          "airlines",
          "all",
          "allies",
          "allocation",
          "almost",
          "already",
          "also",
          "always",
          "am",
          "amc",
          "america",
          "american",
          "americans",
          "an",
          "analysis",
          "and",
          "another",
          "any",
          "anymore",
          "anyone",
          "anything",
          "anyway",
          "apple",
          "april",
          "are",
          "around",
          "art",
          "as",
          "ask",
          "ass",
          "assets",
          "at",
          "aviation",
          "avoid",
          "away",
          "back",
          "bad",
          "bank",
          "base",
          "based",
          "basically",
          "be",
          "because",
          "been",
          "before",
          "being",
          "believe",
          "best",
          "better",
          "between",
          "big",
          "bigger",
          "biggest",
          "bit",
          "bond",
          "bonds",
          "both",
          "bought",
          "brain",
          "btcusd",
          "build",
          "bull",
          "bullshit",
          "business",
          "but",
          "buy",
          "buying",
          "by",
          "call",
          "called",
          "calls",
          "can",
          "cannot",
          "cap",
          "capital",
          "car",
          "cards",
          "care",
          "cash",
          "ccp",
          "change",
          "charging",
          "chart",
          "charts",
          "chatgpt",
          "check",
          "china",
          "chinese",
          "citizens",
          "clown",
          "cnbc",
          "coin",
          "coinbase",
          "com",
          "come",
          "comes",
          "coming",
          "companies",
          "company",
          "completely",
          "confident",
          "congress",
          "corp",
          "cost",
          "could",
          "countries",
          "country",
          "couple",
          "crash",
          "crazy",
          "cryptocurrency",
          "cse",
          "current",
          "currently",
          "cut",
          "daily",
          "data",
          "day",
          "days",
          "dd",
          "deal",
          "debt",
          "decline",
          "delusional",
          "demand",
          "democracy",
          "did",
          "didn",
          "different",
          "dividend",
          "do",
          "does",
          "doesn",
          "doing",
          "dollar",
          "dollars",
          "don",
          "done",
          "dont",
          "down",
          "downgrades",
          "drop",
          "dude",
          "due",
          "dumb",
          "during",
          "earnings",
          "easily",
          "economic",
          "economy",
          "electric",
          "else",
          "emote",
          "end",
          "energy",
          "enough",
          "entire",
          "especially",
          "etfs",
          "ethusd",
          "euro",
          "ev",
          "even",
          "ever",
          "every",
          "everyone",
          "everything",
          "evgo",
          "exactly",
          "except",
          "expect",
          "expectations",
          "expecting",
          "face",
          "fair",
          "fall",
          "falling",
          "far",
          "fast",
          "fed",
          "feel",
          "few",
          "financial",
          "find",
          "fire",
          "first",
          "following",
          "for",
          "foreign",
          "forward",
          "found",
          "free",
          "friends",
          "from",
          "fuck",
          "fucked",
          "fucking",
          "full",
          "funds",
          "future",
          "futures",
          "game",
          "gappers",
          "gas",
          "get",
          "gets",
          "getting",
          "give",
          "giving",
          "gme",
          "go",
          "goes",
          "going",
          "gold",
          "gonna",
          "good",
          "goods",
          "gop",
          "got",
          "government",
          "graphite",
          "great",
          "green",
          "group",
          "growth",
          "guy",
          "guys",
          "ha",
          "had",
          "half",
          "happen",
          "happened",
          "happening",
          "happens",
          "hard",
          "has",
          "have",
          "haven",
          "he",
          "hear",
          "help",
          "her",
          "here",
          "hey",
          "high",
          "higher",
          "highest",
          "highlights",
          "him",
          "himself",
          "his",
          "hold",
          "holds",
          "hours",
          "how",
          "however",
          "hurt",
          "idea",
          "idiot",
          "if",
          "imagine",
          "img",
          "important",
          "in",
          "inc",
          "indicate",
          "industry",
          "inflation",
          "inflight",
          "influence",
          "insider",
          "insights",
          "instead",
          "interest",
          "interesting",
          "international",
          "into",
          "invest",
          "investing",
          "investment",
          "investor",
          "investors",
          "is",
          "isn",
          "it",
          "its",
          "japan",
          "jasmyusd",
          "job",
          "just",
          "keep",
          "kind",
          "know",
          "knows",
          "last",
          "late",
          "law",
          "learn",
          "least",
          "left",
          "less",
          "let",
          "level",
          "life",
          "like",
          "likely",
          "line",
          "list",
          "literally",
          "lithium",
          "little",
          "live",
          "ll",
          "lmao",
          "local",
          "lol",
          "long",
          "look",
          "looking",
          "looks",
          "lose",
          "losing",
          "lost",
          "lot",
          "lots",
          "love",
          "lower",
          "made",
          "maga",
          "majority",
          "make",
          "makes",
          "making",
          "man",
          "many",
          "market",
          "markets",
          "massive",
          "matter",
          "may",
          "maybe",
          "me",
          "mean",
          "media",
          "mentioned",
          "might",
          "million",
          "mind",
          "monday",
          "money",
          "month",
          "months",
          "more",
          "morning",
          "most",
          "mostly",
          "move",
          "moving",
          "much",
          "my",
          "nasdaq",
          "natural",
          "need",
          "needs",
          "never",
          "new",
          "news",
          "next",
          "nice",
          "no",
          "nobody",
          "northern",
          "not",
          "note",
          "nothing",
          "now",
          "nvda",
          "nvidia",
          "of",
          "off",
          "office",
          "oil",
          "ok",
          "old",
          "on",
          "once",
          "one",
          "only",
          "or",
          "orange",
          "other",
          "others",
          "our",
          "out",
          "over",
          "own",
          "paper",
          "part",
          "parts",
          "past",
          "people",
          "pepeusd",
          "person",
          "physical",
          "place",
          "plan",
          "play",
          "playing",
          "please",
          "point",
          "policy",
          "political",
          "portfolio",
          "portfolios",
          "position",
          "post",
          "potential",
          "powell",
          "power",
          "predict",
          "president",
          "pretty",
          "price",
          "prices",
          "prison",
          "probably",
          "product",
          "put",
          "puts",
          "question",
          "rates",
          "re",
          "read",
          "reading",
          "real",
          "really",
          "reason",
          "recent",
          "recently",
          "recession",
          "record",
          "red",
          "reddit",
          "remember",
          "removed",
          "report",
          "republican",
          "rest",
          "retard",
          "retarded",
          "revenue",
          "rich",
          "right",
          "rise",
          "risk",
          "safe",
          "safety",
          "said",
          "sales",
          "same",
          "save",
          "say",
          "saying",
          "sector",
          "see",
          "seeing",
          "seems",
          "seen",
          "sell",
          "selling",
          "sense",
          "sentiment",
          "share",
          "shares",
          "she",
          "shit",
          "short",
          "shorts",
          "should",
          "show",
          "significant",
          "silver",
          "similar",
          "since",
          "situation",
          "small",
          "smart",
          "so",
          "some",
          "someone",
          "something",
          "soon",
          "sort",
          "spike",
          "spy",
          "squeeze",
          "stable",
          "star",
          "start",
          "started",
          "state",
          "still",
          "stock",
          "stockbuyvest",
          "stocks",
          "stop",
          "store",
          "strategy",
          "strong",
          "stuff",
          "stupid",
          "such",
          "support",
          "sure",
          "switch",
          "system",
          "systems",
          "t5_2th52",
          "take",
          "talk",
          "talking",
          "target",
          "tariff",
          "tariffs",
          "tech",
          "technology",
          "tell",
          "term",
          "tesla",
          "than",
          "thank",
          "thanks",
          "that",
          "the",
          "their",
          "them",
          "then",
          "there",
          "these",
          "they",
          "thing",
          "things",
          "think",
          "thinking",
          "this",
          "those",
          "though",
          "thought",
          "thoughts",
          "thread",
          "through",
          "time",
          "times",
          "to",
          "today",
          "too",
          "top",
          "trade",
          "trading",
          "trap",
          "treasuries",
          "treasury",
          "trend",
          "trends",
          "true",
          "trump",
          "trust",
          "try",
          "trying",
          "two",
          "uk",
          "under",
          "understand",
          "unfortunately",
          "until",
          "up",
          "updated",
          "upgrades",
          "uptrend",
          "us",
          "usa",
          "usd",
          "use",
          "used",
          "using",
          "ve",
          "version",
          "very",
          "vote",
          "voted",
          "vs",
          "wait",
          "waiting",
          "walmart",
          "want",
          "wanted",
          "wants",
          "war",
          "warning",
          "was",
          "wasn",
          "watch",
          "water",
          "way",
          "we",
          "week",
          "weekly",
          "weeks",
          "well",
          "went",
          "were",
          "what",
          "when",
          "where",
          "which",
          "while",
          "white",
          "who",
          "whole",
          "why",
          "wild",
          "will",
          "win",
          "wise",
          "with",
          "without",
          "won",
          "wonder",
          "work",
          "working",
          "world",
          "worse",
          "worst",
          "worth",
          "would",
          "wouldn",
          "wrong",
          "wsb",
          "x200b",
          "xi",
          "yeah",
          "year",
          "years",
          "yes",
          "yet",
          "yields",
          "yo",
          "you",
          "your",
          "zero"
         ],
         "xaxis": "x",
         "y": {
          "bdata": "BgAVAAsABQAIAAgABwAGAAcACQAHAAwABQAGAEgABQAFAAsACgAHABsADgAHAAwABQAGAGEABwAGAAYAEgAaAA8AEAAFABAAEwAJAC8ACgDoAQ0ALQAIAA0AEQAFAAUABgCbAAoABwBzAAcABwAGAFwACAAGAAcAFQAUAAYABQAHAAcAhgAeACUAEAAKAAsABwAUAAcAEAAFAAYABQAQABAACgAIAAUABgAIAAgABQAHAGwAGAANADoAEwALAA4AVQAGAAYABgAGAAUACAALAAYABgAGAAcABQAFAAcASAANAAcABQAFAAcABQAWAA0ACQAIABcAHQAIAAUABwAFAAgAHwANAA8ABQAGAAcABQAFAAkADAAGAA8ADQAbAAoABQANAAgABgAFAAUABQAZAA4ABwAIADUAFgAYACAAGAAGACIADAAHACAABgAIAAYABgAGAAgACgAGAAgAGgAIAAwAEgAPAAYABwAFAAYABQAGAAUACAA0AAsAEwAVAA0ABgAFAAUACQAHAAgACAAGAAUABgAMAAYACwAPAA4ABQAHAAUAGQAFANYABQAFAAcACwAFAD8AEgAFAAgABwAHAA4AHgAGAAYABQAlAAUACwAFAAYACQAbAAgAMgAOAAsALgAHAAUAEAAKAAkADAAFAAoACwAIAAgABQAQAAYACwAFAAwABgAHAEwAYQAKAIQABQAKAAUAGgAIABIADwAFAAgAJAAGADMADwAGAAcANwAFAAgACgAGAHcABQASAAYAHgEGAAUADAAGAAcABQAIAAcABQAGAAUABQAiAA8ACQALAAcAEACSAREAXgEWAAUABQAFAF8ABgAFABcABwAYAAcABgAFAA0ACAAHABEABQALAFMACQAIAAcAEAALAAoABwAUAAkABgALABcAEwATAAYADAAHAAcADAAHAAoADAAOAAYABQAkAAgACwAIABEAbwAKAAgACAARAAoAIgAJAAgABQANAAgABQAFAC4ACQAIAEMABwAXAAYABQALABkAWQAFAAUAEgAFABIAFgAQAA4ABQA9AAYABQBrAAoADgA+AAUABQA3ARcABgAIAAcACQCrAAUANgAnAFEABQAkAAYAGwAtACAAEgAKAAkABQAJADMABgAHAAcACgAMAAcABwAMABEABgAGAA4ABQAGAAYACQAJAAwABQAQAA0AJAAJAAcACwAGAA4ADAAFAAsAOQAJAAUADAAYAA8ABwAHAAYABwAIAA0ABgAGAAkACQALAAcABgAGAAYAHQAIAAsACAAHAAwABwATAAUAEgAHAAcAKwAFABAACwAVABAABgAHAAkABgANABAACgAHABsACAAIAB4ABgAVAAUABwAHAGcANAASAA4ABwAGAAUADAAJAAUACwAIAAgACQAcADMAFgAZAAkABQAGAAUACQAGAAYACgAOAAUACAAGABIAEQAIAAgADAANACcABQAOAAUAEgAGACkABwAKAO4AmANIADQAIQA+ABYAlgARABIANAAFANUACgAKAAgABgAFAAkAJAAGADYCGgAXAAUAFQARAAUACQAHAAYABwAHAFwACQAHAAcABwAGAAcABwAFAAoANwANAAgABQBgAA8ADAAKAAkACAAUAAUACwAGAAUABgAHAAUABQAjAAcAEgAPAAUAXgAHAAUACQAYAFEAFgAJAAYAFwAMABcAWAAqABAAFAALAAgAKQAGACYABQB/AAcABQB+AA0ADAAFAAwABwAaAA0ABgAHAC0ABQAJAAYAHAATAAkAFQAbAAYACAAIAAUAwwAwAAUA",
          "dtype": "i2"
         },
         "yaxis": "y"
        }
       ],
       "layout": {
        "barmode": "relative",
        "legend": {
         "tracegroupgap": 0
        },
        "template": {
         "data": {
          "bar": [
           {
            "error_x": {
             "color": "#2a3f5f"
            },
            "error_y": {
             "color": "#2a3f5f"
            },
            "marker": {
             "line": {
              "color": "#E5ECF6",
              "width": 0.5
             },
             "pattern": {
              "fillmode": "overlay",
              "size": 10,
              "solidity": 0.2
             }
            },
            "type": "bar"
           }
          ],
          "barpolar": [
           {
            "marker": {
             "line": {
              "color": "#E5ECF6",
              "width": 0.5
             },
             "pattern": {
              "fillmode": "overlay",
              "size": 10,
              "solidity": 0.2
             }
            },
            "type": "barpolar"
           }
          ],
          "carpet": [
           {
            "aaxis": {
             "endlinecolor": "#2a3f5f",
             "gridcolor": "white",
             "linecolor": "white",
             "minorgridcolor": "white",
             "startlinecolor": "#2a3f5f"
            },
            "baxis": {
             "endlinecolor": "#2a3f5f",
             "gridcolor": "white",
             "linecolor": "white",
             "minorgridcolor": "white",
             "startlinecolor": "#2a3f5f"
            },
            "type": "carpet"
           }
          ],
          "choropleth": [
           {
            "colorbar": {
             "outlinewidth": 0,
             "ticks": ""
            },
            "type": "choropleth"
           }
          ],
          "contour": [
           {
            "colorbar": {
             "outlinewidth": 0,
             "ticks": ""
            },
            "colorscale": [
             [
              0,
              "#0d0887"
             ],
             [
              0.1111111111111111,
              "#46039f"
             ],
             [
              0.2222222222222222,
              "#7201a8"
             ],
             [
              0.3333333333333333,
              "#9c179e"
             ],
             [
              0.4444444444444444,
              "#bd3786"
             ],
             [
              0.5555555555555556,
              "#d8576b"
             ],
             [
              0.6666666666666666,
              "#ed7953"
             ],
             [
              0.7777777777777778,
              "#fb9f3a"
             ],
             [
              0.8888888888888888,
              "#fdca26"
             ],
             [
              1,
              "#f0f921"
             ]
            ],
            "type": "contour"
           }
          ],
          "contourcarpet": [
           {
            "colorbar": {
             "outlinewidth": 0,
             "ticks": ""
            },
            "type": "contourcarpet"
           }
          ],
          "heatmap": [
           {
            "colorbar": {
             "outlinewidth": 0,
             "ticks": ""
            },
            "colorscale": [
             [
              0,
              "#0d0887"
             ],
             [
              0.1111111111111111,
              "#46039f"
             ],
             [
              0.2222222222222222,
              "#7201a8"
             ],
             [
              0.3333333333333333,
              "#9c179e"
             ],
             [
              0.4444444444444444,
              "#bd3786"
             ],
             [
              0.5555555555555556,
              "#d8576b"
             ],
             [
              0.6666666666666666,
              "#ed7953"
             ],
             [
              0.7777777777777778,
              "#fb9f3a"
             ],
             [
              0.8888888888888888,
              "#fdca26"
             ],
             [
              1,
              "#f0f921"
             ]
            ],
            "type": "heatmap"
           }
          ],
          "histogram": [
           {
            "marker": {
             "pattern": {
              "fillmode": "overlay",
              "size": 10,
              "solidity": 0.2
             }
            },
            "type": "histogram"
           }
          ],
          "histogram2d": [
           {
            "colorbar": {
             "outlinewidth": 0,
             "ticks": ""
            },
            "colorscale": [
             [
              0,
              "#0d0887"
             ],
             [
              0.1111111111111111,
              "#46039f"
             ],
             [
              0.2222222222222222,
              "#7201a8"
             ],
             [
              0.3333333333333333,
              "#9c179e"
             ],
             [
              0.4444444444444444,
              "#bd3786"
             ],
             [
              0.5555555555555556,
              "#d8576b"
             ],
             [
              0.6666666666666666,
              "#ed7953"
             ],
             [
              0.7777777777777778,
              "#fb9f3a"
             ],
             [
              0.8888888888888888,
              "#fdca26"
             ],
             [
              1,
              "#f0f921"
             ]
            ],
            "type": "histogram2d"
           }
          ],
          "histogram2dcontour": [
           {
            "colorbar": {
             "outlinewidth": 0,
             "ticks": ""
            },
            "colorscale": [
             [
              0,
              "#0d0887"
             ],
             [
              0.1111111111111111,
              "#46039f"
             ],
             [
              0.2222222222222222,
              "#7201a8"
             ],
             [
              0.3333333333333333,
              "#9c179e"
             ],
             [
              0.4444444444444444,
              "#bd3786"
             ],
             [
              0.5555555555555556,
              "#d8576b"
             ],
             [
              0.6666666666666666,
              "#ed7953"
             ],
             [
              0.7777777777777778,
              "#fb9f3a"
             ],
             [
              0.8888888888888888,
              "#fdca26"
             ],
             [
              1,
              "#f0f921"
             ]
            ],
            "type": "histogram2dcontour"
           }
          ],
          "mesh3d": [
           {
            "colorbar": {
             "outlinewidth": 0,
             "ticks": ""
            },
            "type": "mesh3d"
           }
          ],
          "parcoords": [
           {
            "line": {
             "colorbar": {
              "outlinewidth": 0,
              "ticks": ""
             }
            },
            "type": "parcoords"
           }
          ],
          "pie": [
           {
            "automargin": true,
            "type": "pie"
           }
          ],
          "scatter": [
           {
            "fillpattern": {
             "fillmode": "overlay",
             "size": 10,
             "solidity": 0.2
            },
            "type": "scatter"
           }
          ],
          "scatter3d": [
           {
            "line": {
             "colorbar": {
              "outlinewidth": 0,
              "ticks": ""
             }
            },
            "marker": {
             "colorbar": {
              "outlinewidth": 0,
              "ticks": ""
             }
            },
            "type": "scatter3d"
           }
          ],
          "scattercarpet": [
           {
            "marker": {
             "colorbar": {
              "outlinewidth": 0,
              "ticks": ""
             }
            },
            "type": "scattercarpet"
           }
          ],
          "scattergeo": [
           {
            "marker": {
             "colorbar": {
              "outlinewidth": 0,
              "ticks": ""
             }
            },
            "type": "scattergeo"
           }
          ],
          "scattergl": [
           {
            "marker": {
             "colorbar": {
              "outlinewidth": 0,
              "ticks": ""
             }
            },
            "type": "scattergl"
           }
          ],
          "scattermap": [
           {
            "marker": {
             "colorbar": {
              "outlinewidth": 0,
              "ticks": ""
             }
            },
            "type": "scattermap"
           }
          ],
          "scattermapbox": [
           {
            "marker": {
             "colorbar": {
              "outlinewidth": 0,
              "ticks": ""
             }
            },
            "type": "scattermapbox"
           }
          ],
          "scatterpolar": [
           {
            "marker": {
             "colorbar": {
              "outlinewidth": 0,
              "ticks": ""
             }
            },
            "type": "scatterpolar"
           }
          ],
          "scatterpolargl": [
           {
            "marker": {
             "colorbar": {
              "outlinewidth": 0,
              "ticks": ""
             }
            },
            "type": "scatterpolargl"
           }
          ],
          "scatterternary": [
           {
            "marker": {
             "colorbar": {
              "outlinewidth": 0,
              "ticks": ""
             }
            },
            "type": "scatterternary"
           }
          ],
          "surface": [
           {
            "colorbar": {
             "outlinewidth": 0,
             "ticks": ""
            },
            "colorscale": [
             [
              0,
              "#0d0887"
             ],
             [
              0.1111111111111111,
              "#46039f"
             ],
             [
              0.2222222222222222,
              "#7201a8"
             ],
             [
              0.3333333333333333,
              "#9c179e"
             ],
             [
              0.4444444444444444,
              "#bd3786"
             ],
             [
              0.5555555555555556,
              "#d8576b"
             ],
             [
              0.6666666666666666,
              "#ed7953"
             ],
             [
              0.7777777777777778,
              "#fb9f3a"
             ],
             [
              0.8888888888888888,
              "#fdca26"
             ],
             [
              1,
              "#f0f921"
             ]
            ],
            "type": "surface"
           }
          ],
          "table": [
           {
            "cells": {
             "fill": {
              "color": "#EBF0F8"
             },
             "line": {
              "color": "white"
             }
            },
            "header": {
             "fill": {
              "color": "#C8D4E3"
             },
             "line": {
              "color": "white"
             }
            },
            "type": "table"
           }
          ]
         },
         "layout": {
          "annotationdefaults": {
           "arrowcolor": "#2a3f5f",
           "arrowhead": 0,
           "arrowwidth": 1
          },
          "autotypenumbers": "strict",
          "coloraxis": {
           "colorbar": {
            "outlinewidth": 0,
            "ticks": ""
           }
          },
          "colorscale": {
           "diverging": [
            [
             0,
             "#8e0152"
            ],
            [
             0.1,
             "#c51b7d"
            ],
            [
             0.2,
             "#de77ae"
            ],
            [
             0.3,
             "#f1b6da"
            ],
            [
             0.4,
             "#fde0ef"
            ],
            [
             0.5,
             "#f7f7f7"
            ],
            [
             0.6,
             "#e6f5d0"
            ],
            [
             0.7,
             "#b8e186"
            ],
            [
             0.8,
             "#7fbc41"
            ],
            [
             0.9,
             "#4d9221"
            ],
            [
             1,
             "#276419"
            ]
           ],
           "sequential": [
            [
             0,
             "#0d0887"
            ],
            [
             0.1111111111111111,
             "#46039f"
            ],
            [
             0.2222222222222222,
             "#7201a8"
            ],
            [
             0.3333333333333333,
             "#9c179e"
            ],
            [
             0.4444444444444444,
             "#bd3786"
            ],
            [
             0.5555555555555556,
             "#d8576b"
            ],
            [
             0.6666666666666666,
             "#ed7953"
            ],
            [
             0.7777777777777778,
             "#fb9f3a"
            ],
            [
             0.8888888888888888,
             "#fdca26"
            ],
            [
             1,
             "#f0f921"
            ]
           ],
           "sequentialminus": [
            [
             0,
             "#0d0887"
            ],
            [
             0.1111111111111111,
             "#46039f"
            ],
            [
             0.2222222222222222,
             "#7201a8"
            ],
            [
             0.3333333333333333,
             "#9c179e"
            ],
            [
             0.4444444444444444,
             "#bd3786"
            ],
            [
             0.5555555555555556,
             "#d8576b"
            ],
            [
             0.6666666666666666,
             "#ed7953"
            ],
            [
             0.7777777777777778,
             "#fb9f3a"
            ],
            [
             0.8888888888888888,
             "#fdca26"
            ],
            [
             1,
             "#f0f921"
            ]
           ]
          },
          "colorway": [
           "#636efa",
           "#EF553B",
           "#00cc96",
           "#ab63fa",
           "#FFA15A",
           "#19d3f3",
           "#FF6692",
           "#B6E880",
           "#FF97FF",
           "#FECB52"
          ],
          "font": {
           "color": "#2a3f5f"
          },
          "geo": {
           "bgcolor": "white",
           "lakecolor": "white",
           "landcolor": "#E5ECF6",
           "showlakes": true,
           "showland": true,
           "subunitcolor": "white"
          },
          "hoverlabel": {
           "align": "left"
          },
          "hovermode": "closest",
          "mapbox": {
           "style": "light"
          },
          "paper_bgcolor": "white",
          "plot_bgcolor": "#E5ECF6",
          "polar": {
           "angularaxis": {
            "gridcolor": "white",
            "linecolor": "white",
            "ticks": ""
           },
           "bgcolor": "#E5ECF6",
           "radialaxis": {
            "gridcolor": "white",
            "linecolor": "white",
            "ticks": ""
           }
          },
          "scene": {
           "xaxis": {
            "backgroundcolor": "#E5ECF6",
            "gridcolor": "white",
            "gridwidth": 2,
            "linecolor": "white",
            "showbackground": true,
            "ticks": "",
            "zerolinecolor": "white"
           },
           "yaxis": {
            "backgroundcolor": "#E5ECF6",
            "gridcolor": "white",
            "gridwidth": 2,
            "linecolor": "white",
            "showbackground": true,
            "ticks": "",
            "zerolinecolor": "white"
           },
           "zaxis": {
            "backgroundcolor": "#E5ECF6",
            "gridcolor": "white",
            "gridwidth": 2,
            "linecolor": "white",
            "showbackground": true,
            "ticks": "",
            "zerolinecolor": "white"
           }
          },
          "shapedefaults": {
           "line": {
            "color": "#2a3f5f"
           }
          },
          "ternary": {
           "aaxis": {
            "gridcolor": "white",
            "linecolor": "white",
            "ticks": ""
           },
           "baxis": {
            "gridcolor": "white",
            "linecolor": "white",
            "ticks": ""
           },
           "bgcolor": "#E5ECF6",
           "caxis": {
            "gridcolor": "white",
            "linecolor": "white",
            "ticks": ""
           }
          },
          "title": {
           "x": 0.05
          },
          "xaxis": {
           "automargin": true,
           "gridcolor": "white",
           "linecolor": "white",
           "ticks": "",
           "title": {
            "standoff": 15
           },
           "zerolinecolor": "white",
           "zerolinewidth": 2
          },
          "yaxis": {
           "automargin": true,
           "gridcolor": "white",
           "linecolor": "white",
           "ticks": "",
           "title": {
            "standoff": 15
           },
           "zerolinecolor": "white",
           "zerolinewidth": 2
          }
         }
        },
        "title": {
         "text": "term frequency >= 5"
        },
        "xaxis": {
         "anchor": "y",
         "domain": [
          0,
          1
         ],
         "title": {
          "text": "term"
         }
        },
        "yaxis": {
         "anchor": "x",
         "domain": [
          0,
          1
         ],
         "title": {
          "text": "frequency"
         }
        }
       }
      }
     },
     "metadata": {},
     "output_type": "display_data"
    }
   ],
   "source": [
    "# EX13 選擇一定出現頻率以上的顯示\n",
    "df_index = np.where(term_freq >= 5)[0] # 5只是個範例，可以根據需求調整\n",
    "term_freq_df = pd.DataFrame({'term': count_vect.get_feature_names_out()[df_index], 'frequency': term_freq[df_index]})\n",
    "fig = px.bar(term_freq_df, x='term', y='frequency', title='term frequency >= 5')\n",
    "fig.show()"
   ]
  },
  {
   "cell_type": "code",
   "execution_count": null,
   "metadata": {},
   "outputs": [
    {
     "data": {
      "application/vnd.plotly.v1+json": {
       "config": {
        "plotlyServerURL": "https://plot.ly"
       },
       "data": [
        {
         "fill": "tozeroy",
         "fillcolor": "lightgreen",
         "marker": {
          "color": "blue",
          "size": 8
         },
         "mode": "lines",
         "name": "Head (Top 10%)",
         "type": "scatter",
         "x": [
          "the",
          "to",
          "and",
          "is",
          "it",
          "of",
          "in",
          "that",
          "for",
          "this",
          "you",
          "on",
          "are",
          "they",
          "be",
          "he",
          "will",
          "with",
          "if",
          "as",
          "market",
          "but",
          "not",
          "so",
          "all",
          "have",
          "us",
          "just",
          "was",
          "trump",
          "at"
         ],
         "y": {
          "bdata": "mAM2AugBkgFeATcBHgHuANYA1QDDAKsAmwCWAIYAhAB/AH4AdwBzAG8AbABrAGcAYQBhAGAAXwBeAFwAXAA=",
          "dtype": "i2"
         }
        },
        {
         "fill": "tozeroy",
         "fillcolor": "yellow",
         "marker": {
          "color": "orange",
          "opacity": 0.5,
          "size": 6
         },
         "mode": "lines",
         "name": "Tail (Bottom 90%)",
         "type": "scatter",
         "x": [
          "at",
          "my",
          "what",
          "can",
          "like",
          "or",
          "we",
          "has",
          "china",
          "about",
          "their",
          "more",
          "from",
          "now",
          "there",
          "no",
          "by",
          "re",
          "up",
          "how",
          "one",
          "do",
          "even",
          "some",
          "them",
          "think",
          "people",
          "stock",
          "his",
          "going",
          "your",
          "an",
          "good",
          "money",
          "would",
          "out",
          "any",
          "see",
          "when",
          "who",
          "than",
          "tariffs",
          "only",
          "why",
          "get",
          "been",
          "time",
          "make",
          "him",
          "other",
          "price",
          "want",
          "me",
          "into",
          "don",
          "then",
          "doing",
          "down",
          "over",
          "could",
          "futures",
          "because",
          "silver",
          "company",
          "right",
          "still",
          "x200b",
          "day",
          "after",
          "our",
          "years",
          "should",
          "go",
          "here",
          "world",
          "also",
          "today",
          "economy",
          "did",
          "stocks",
          "first",
          "much",
          "doesn",
          "dollar",
          "really",
          "last",
          "buy",
          "way",
          "off",
          "most",
          "know",
          "long",
          "were",
          "companies",
          "too",
          "well",
          "stockbuyvest",
          "these",
          "its",
          "does",
          "com",
          "week",
          "new",
          "sell",
          "back",
          "everyone",
          "10",
          "trade",
          "year",
          "since",
          "bad",
          "ve",
          "better",
          "ll",
          "which",
          "same",
          "american",
          "xi",
          "look",
          "looking",
          "every",
          "call",
          "emote",
          "wants",
          "t5_2th52",
          "never",
          "say",
          "own",
          "already",
          "need",
          "someone",
          "high",
          "things",
          "term",
          "fuck",
          "img",
          "let",
          "many",
          "anything",
          "trading",
          "take",
          "may",
          "isn",
          "thing",
          "point",
          "president",
          "selling",
          "bonds",
          "before",
          "where",
          "news",
          "seems",
          "investors",
          "bond",
          "big",
          "literally",
          "am",
          "america",
          "got",
          "shit",
          "had",
          "war",
          "daily",
          "country",
          "end",
          "usa",
          "higher",
          "feel",
          "hold",
          "invest",
          "reason",
          "always",
          "again",
          "next",
          "put",
          "portfolio",
          "nothing",
          "made",
          "future",
          "few",
          "technology",
          "gold",
          "sure",
          "something",
          "calls",
          "didn",
          "everything",
          "countries",
          "data",
          "updated",
          "come",
          "deal",
          "she",
          "might",
          "least",
          "reddit",
          "pretty",
          "worse",
          "anyone",
          "chinese",
          "buying",
          "tariff",
          "without",
          "another",
          "real",
          "ago",
          "lose",
          "puts",
          "lower",
          "said",
          "lot",
          "plan",
          "power",
          "please",
          "won",
          "work",
          "spy",
          "happening",
          "done",
          "currently",
          "50",
          "else",
          "usd",
          "industry",
          "target",
          "went",
          "great",
          "far",
          "lithium",
          "cash",
          "seen",
          "risk",
          "while",
          "actually",
          "100",
          "very",
          "believe",
          "ever",
          "called",
          "free",
          "growth",
          "moving",
          "rates",
          "probably",
          "making",
          "rest",
          "life",
          "gonna",
          "happen",
          "star",
          "lol",
          "investment",
          "fed",
          "getting",
          "markets",
          "paper",
          "administration",
          "maybe",
          "love",
          "short",
          "place",
          "note",
          "analysis",
          "government",
          "thanks",
          "group",
          "haven",
          "help",
          "idea",
          "little",
          "support",
          "earnings",
          "days",
          "those",
          "though",
          "until",
          "both",
          "use",
          "around",
          "being"
         ],
         "y": {
          "bdata": "XFlYVVNRUUxISEhDPz4+PTo5Nzc2NTQ0NDQzMzMyMC8uLi0tLSsqKSknJyYlJSQkJCQkIyIiIiEgICAfHh4eHR0cHBsbGxsbGxoaGhoaGRkZGRgYGBgYGBcXFxcXFxcXFhYWFhYWFhUVFRUVFRUUFBQUFBMTExMTExMSEhISEhISEhISEhISEhERERERERERERAQEBAQEBAQEBAQEBAQEBAPDw8PDw8PDw8PDw4ODg4ODg4ODg4ODg4ODQ0NDQ0NDQ0NDQ0NDQ0NDQ0NDAwMDAwMDAwMDAwMDAwMDAwMDAwMDAwMCwsLCwsLCwsLCwsLCwsLCwsLCwsLCwsLCwsKCgoKCgoKCgoKCgoKCgoKCgoKCgoKCgoKCg==",
          "dtype": "i1"
         }
        }
       ],
       "layout": {
        "template": {
         "data": {
          "bar": [
           {
            "error_x": {
             "color": "#2a3f5f"
            },
            "error_y": {
             "color": "#2a3f5f"
            },
            "marker": {
             "line": {
              "color": "#E5ECF6",
              "width": 0.5
             },
             "pattern": {
              "fillmode": "overlay",
              "size": 10,
              "solidity": 0.2
             }
            },
            "type": "bar"
           }
          ],
          "barpolar": [
           {
            "marker": {
             "line": {
              "color": "#E5ECF6",
              "width": 0.5
             },
             "pattern": {
              "fillmode": "overlay",
              "size": 10,
              "solidity": 0.2
             }
            },
            "type": "barpolar"
           }
          ],
          "carpet": [
           {
            "aaxis": {
             "endlinecolor": "#2a3f5f",
             "gridcolor": "white",
             "linecolor": "white",
             "minorgridcolor": "white",
             "startlinecolor": "#2a3f5f"
            },
            "baxis": {
             "endlinecolor": "#2a3f5f",
             "gridcolor": "white",
             "linecolor": "white",
             "minorgridcolor": "white",
             "startlinecolor": "#2a3f5f"
            },
            "type": "carpet"
           }
          ],
          "choropleth": [
           {
            "colorbar": {
             "outlinewidth": 0,
             "ticks": ""
            },
            "type": "choropleth"
           }
          ],
          "contour": [
           {
            "colorbar": {
             "outlinewidth": 0,
             "ticks": ""
            },
            "colorscale": [
             [
              0,
              "#0d0887"
             ],
             [
              0.1111111111111111,
              "#46039f"
             ],
             [
              0.2222222222222222,
              "#7201a8"
             ],
             [
              0.3333333333333333,
              "#9c179e"
             ],
             [
              0.4444444444444444,
              "#bd3786"
             ],
             [
              0.5555555555555556,
              "#d8576b"
             ],
             [
              0.6666666666666666,
              "#ed7953"
             ],
             [
              0.7777777777777778,
              "#fb9f3a"
             ],
             [
              0.8888888888888888,
              "#fdca26"
             ],
             [
              1,
              "#f0f921"
             ]
            ],
            "type": "contour"
           }
          ],
          "contourcarpet": [
           {
            "colorbar": {
             "outlinewidth": 0,
             "ticks": ""
            },
            "type": "contourcarpet"
           }
          ],
          "heatmap": [
           {
            "colorbar": {
             "outlinewidth": 0,
             "ticks": ""
            },
            "colorscale": [
             [
              0,
              "#0d0887"
             ],
             [
              0.1111111111111111,
              "#46039f"
             ],
             [
              0.2222222222222222,
              "#7201a8"
             ],
             [
              0.3333333333333333,
              "#9c179e"
             ],
             [
              0.4444444444444444,
              "#bd3786"
             ],
             [
              0.5555555555555556,
              "#d8576b"
             ],
             [
              0.6666666666666666,
              "#ed7953"
             ],
             [
              0.7777777777777778,
              "#fb9f3a"
             ],
             [
              0.8888888888888888,
              "#fdca26"
             ],
             [
              1,
              "#f0f921"
             ]
            ],
            "type": "heatmap"
           }
          ],
          "histogram": [
           {
            "marker": {
             "pattern": {
              "fillmode": "overlay",
              "size": 10,
              "solidity": 0.2
             }
            },
            "type": "histogram"
           }
          ],
          "histogram2d": [
           {
            "colorbar": {
             "outlinewidth": 0,
             "ticks": ""
            },
            "colorscale": [
             [
              0,
              "#0d0887"
             ],
             [
              0.1111111111111111,
              "#46039f"
             ],
             [
              0.2222222222222222,
              "#7201a8"
             ],
             [
              0.3333333333333333,
              "#9c179e"
             ],
             [
              0.4444444444444444,
              "#bd3786"
             ],
             [
              0.5555555555555556,
              "#d8576b"
             ],
             [
              0.6666666666666666,
              "#ed7953"
             ],
             [
              0.7777777777777778,
              "#fb9f3a"
             ],
             [
              0.8888888888888888,
              "#fdca26"
             ],
             [
              1,
              "#f0f921"
             ]
            ],
            "type": "histogram2d"
           }
          ],
          "histogram2dcontour": [
           {
            "colorbar": {
             "outlinewidth": 0,
             "ticks": ""
            },
            "colorscale": [
             [
              0,
              "#0d0887"
             ],
             [
              0.1111111111111111,
              "#46039f"
             ],
             [
              0.2222222222222222,
              "#7201a8"
             ],
             [
              0.3333333333333333,
              "#9c179e"
             ],
             [
              0.4444444444444444,
              "#bd3786"
             ],
             [
              0.5555555555555556,
              "#d8576b"
             ],
             [
              0.6666666666666666,
              "#ed7953"
             ],
             [
              0.7777777777777778,
              "#fb9f3a"
             ],
             [
              0.8888888888888888,
              "#fdca26"
             ],
             [
              1,
              "#f0f921"
             ]
            ],
            "type": "histogram2dcontour"
           }
          ],
          "mesh3d": [
           {
            "colorbar": {
             "outlinewidth": 0,
             "ticks": ""
            },
            "type": "mesh3d"
           }
          ],
          "parcoords": [
           {
            "line": {
             "colorbar": {
              "outlinewidth": 0,
              "ticks": ""
             }
            },
            "type": "parcoords"
           }
          ],
          "pie": [
           {
            "automargin": true,
            "type": "pie"
           }
          ],
          "scatter": [
           {
            "fillpattern": {
             "fillmode": "overlay",
             "size": 10,
             "solidity": 0.2
            },
            "type": "scatter"
           }
          ],
          "scatter3d": [
           {
            "line": {
             "colorbar": {
              "outlinewidth": 0,
              "ticks": ""
             }
            },
            "marker": {
             "colorbar": {
              "outlinewidth": 0,
              "ticks": ""
             }
            },
            "type": "scatter3d"
           }
          ],
          "scattercarpet": [
           {
            "marker": {
             "colorbar": {
              "outlinewidth": 0,
              "ticks": ""
             }
            },
            "type": "scattercarpet"
           }
          ],
          "scattergeo": [
           {
            "marker": {
             "colorbar": {
              "outlinewidth": 0,
              "ticks": ""
             }
            },
            "type": "scattergeo"
           }
          ],
          "scattergl": [
           {
            "marker": {
             "colorbar": {
              "outlinewidth": 0,
              "ticks": ""
             }
            },
            "type": "scattergl"
           }
          ],
          "scattermap": [
           {
            "marker": {
             "colorbar": {
              "outlinewidth": 0,
              "ticks": ""
             }
            },
            "type": "scattermap"
           }
          ],
          "scattermapbox": [
           {
            "marker": {
             "colorbar": {
              "outlinewidth": 0,
              "ticks": ""
             }
            },
            "type": "scattermapbox"
           }
          ],
          "scatterpolar": [
           {
            "marker": {
             "colorbar": {
              "outlinewidth": 0,
              "ticks": ""
             }
            },
            "type": "scatterpolar"
           }
          ],
          "scatterpolargl": [
           {
            "marker": {
             "colorbar": {
              "outlinewidth": 0,
              "ticks": ""
             }
            },
            "type": "scatterpolargl"
           }
          ],
          "scatterternary": [
           {
            "marker": {
             "colorbar": {
              "outlinewidth": 0,
              "ticks": ""
             }
            },
            "type": "scatterternary"
           }
          ],
          "surface": [
           {
            "colorbar": {
             "outlinewidth": 0,
             "ticks": ""
            },
            "colorscale": [
             [
              0,
              "#0d0887"
             ],
             [
              0.1111111111111111,
              "#46039f"
             ],
             [
              0.2222222222222222,
              "#7201a8"
             ],
             [
              0.3333333333333333,
              "#9c179e"
             ],
             [
              0.4444444444444444,
              "#bd3786"
             ],
             [
              0.5555555555555556,
              "#d8576b"
             ],
             [
              0.6666666666666666,
              "#ed7953"
             ],
             [
              0.7777777777777778,
              "#fb9f3a"
             ],
             [
              0.8888888888888888,
              "#fdca26"
             ],
             [
              1,
              "#f0f921"
             ]
            ],
            "type": "surface"
           }
          ],
          "table": [
           {
            "cells": {
             "fill": {
              "color": "#EBF0F8"
             },
             "line": {
              "color": "white"
             }
            },
            "header": {
             "fill": {
              "color": "#C8D4E3"
             },
             "line": {
              "color": "white"
             }
            },
            "type": "table"
           }
          ]
         },
         "layout": {
          "annotationdefaults": {
           "arrowcolor": "#2a3f5f",
           "arrowhead": 0,
           "arrowwidth": 1
          },
          "autotypenumbers": "strict",
          "coloraxis": {
           "colorbar": {
            "outlinewidth": 0,
            "ticks": ""
           }
          },
          "colorscale": {
           "diverging": [
            [
             0,
             "#8e0152"
            ],
            [
             0.1,
             "#c51b7d"
            ],
            [
             0.2,
             "#de77ae"
            ],
            [
             0.3,
             "#f1b6da"
            ],
            [
             0.4,
             "#fde0ef"
            ],
            [
             0.5,
             "#f7f7f7"
            ],
            [
             0.6,
             "#e6f5d0"
            ],
            [
             0.7,
             "#b8e186"
            ],
            [
             0.8,
             "#7fbc41"
            ],
            [
             0.9,
             "#4d9221"
            ],
            [
             1,
             "#276419"
            ]
           ],
           "sequential": [
            [
             0,
             "#0d0887"
            ],
            [
             0.1111111111111111,
             "#46039f"
            ],
            [
             0.2222222222222222,
             "#7201a8"
            ],
            [
             0.3333333333333333,
             "#9c179e"
            ],
            [
             0.4444444444444444,
             "#bd3786"
            ],
            [
             0.5555555555555556,
             "#d8576b"
            ],
            [
             0.6666666666666666,
             "#ed7953"
            ],
            [
             0.7777777777777778,
             "#fb9f3a"
            ],
            [
             0.8888888888888888,
             "#fdca26"
            ],
            [
             1,
             "#f0f921"
            ]
           ],
           "sequentialminus": [
            [
             0,
             "#0d0887"
            ],
            [
             0.1111111111111111,
             "#46039f"
            ],
            [
             0.2222222222222222,
             "#7201a8"
            ],
            [
             0.3333333333333333,
             "#9c179e"
            ],
            [
             0.4444444444444444,
             "#bd3786"
            ],
            [
             0.5555555555555556,
             "#d8576b"
            ],
            [
             0.6666666666666666,
             "#ed7953"
            ],
            [
             0.7777777777777778,
             "#fb9f3a"
            ],
            [
             0.8888888888888888,
             "#fdca26"
            ],
            [
             1,
             "#f0f921"
            ]
           ]
          },
          "colorway": [
           "#636efa",
           "#EF553B",
           "#00cc96",
           "#ab63fa",
           "#FFA15A",
           "#19d3f3",
           "#FF6692",
           "#B6E880",
           "#FF97FF",
           "#FECB52"
          ],
          "font": {
           "color": "#2a3f5f"
          },
          "geo": {
           "bgcolor": "white",
           "lakecolor": "white",
           "landcolor": "#E5ECF6",
           "showlakes": true,
           "showland": true,
           "subunitcolor": "white"
          },
          "hoverlabel": {
           "align": "left"
          },
          "hovermode": "closest",
          "mapbox": {
           "style": "light"
          },
          "paper_bgcolor": "white",
          "plot_bgcolor": "#E5ECF6",
          "polar": {
           "angularaxis": {
            "gridcolor": "white",
            "linecolor": "white",
            "ticks": ""
           },
           "bgcolor": "#E5ECF6",
           "radialaxis": {
            "gridcolor": "white",
            "linecolor": "white",
            "ticks": ""
           }
          },
          "scene": {
           "xaxis": {
            "backgroundcolor": "#E5ECF6",
            "gridcolor": "white",
            "gridwidth": 2,
            "linecolor": "white",
            "showbackground": true,
            "ticks": "",
            "zerolinecolor": "white"
           },
           "yaxis": {
            "backgroundcolor": "#E5ECF6",
            "gridcolor": "white",
            "gridwidth": 2,
            "linecolor": "white",
            "showbackground": true,
            "ticks": "",
            "zerolinecolor": "white"
           },
           "zaxis": {
            "backgroundcolor": "#E5ECF6",
            "gridcolor": "white",
            "gridwidth": 2,
            "linecolor": "white",
            "showbackground": true,
            "ticks": "",
            "zerolinecolor": "white"
           }
          },
          "shapedefaults": {
           "line": {
            "color": "#2a3f5f"
           }
          },
          "ternary": {
           "aaxis": {
            "gridcolor": "white",
            "linecolor": "white",
            "ticks": ""
           },
           "baxis": {
            "gridcolor": "white",
            "linecolor": "white",
            "ticks": ""
           },
           "bgcolor": "#E5ECF6",
           "caxis": {
            "gridcolor": "white",
            "linecolor": "white",
            "ticks": ""
           }
          },
          "title": {
           "x": 0.05
          },
          "xaxis": {
           "automargin": true,
           "gridcolor": "white",
           "linecolor": "white",
           "ticks": "",
           "title": {
            "standoff": 15
           },
           "zerolinecolor": "white",
           "zerolinewidth": 2
          },
          "yaxis": {
           "automargin": true,
           "gridcolor": "white",
           "linecolor": "white",
           "ticks": "",
           "title": {
            "standoff": 15
           },
           "zerolinecolor": "white",
           "zerolinewidth": 2
          }
         }
        },
        "title": {
         "text": "Term Frequencies for Terms Appearing at least 5 times"
        },
        "xaxis": {
         "tickangle": -90,
         "title": {
          "text": "Terms"
         }
        },
        "yaxis": {
         "title": {
          "text": "Frequencies"
         }
        }
       }
      }
     },
     "metadata": {},
     "output_type": "display_data"
    }
   ],
   "source": [
    "# EX14 按大小排列並做長尾曲線圖\n",
    "df_index = np.where(term_freq >= 10)[0] # 10只是個範例，可以根據需求調整\n",
    "term_freq_df = pd.DataFrame({'term': count_vect.get_feature_names_out()[df_index], 'frequency': term_freq[df_index]})\n",
    "term_freq_df = term_freq_df.sort_values(by='frequency', ascending=False).reset_index(drop=True)\n",
    "# 定義分界點\n",
    "head_tail_point = int(len(term_freq_df) * 0.1)  # 例如前10%為head\n",
    "fig = go.Figure()\n",
    "# draw head and tail with different colors\n",
    "# head: lightgreen, blue line\n",
    "fig.add_trace(go.Scatter(x=term_freq_df['term'][:head_tail_point], \n",
    "                         y=term_freq_df['frequency'][:head_tail_point],\n",
    "                         mode='lines',\n",
    "                         fill='tozeroy',\n",
    "                         fillcolor='lightgreen',\n",
    "                         name='Head (Top 10%)',\n",
    "                         marker=dict(color='blue', size=8)))\n",
    "# tail: yellow, orange line\n",
    "fig.add_trace(go.Scatter(x=term_freq_df['term'][head_tail_point-1:],\n",
    "                         y=term_freq_df['frequency'][head_tail_point-1:],\n",
    "                         mode='lines',\n",
    "                         fill='tozeroy',\n",
    "                         fillcolor='yellow',\n",
    "                         name='Tail (Bottom 90%)',\n",
    "                         marker=dict(color='orange', size=6, opacity=0.5)))\n",
    "fig.update_layout(title='Term Frequencies for Terms Appearing at least 5 times',\n",
    "                  xaxis_title='Terms', yaxis_title='Frequencies', xaxis_tickangle=-90)\n",
    "fig.show()"
   ]
  },
  {
   "cell_type": "code",
   "execution_count": 121,
   "metadata": {},
   "outputs": [
    {
     "data": {
      "application/vnd.plotly.v1+json": {
       "config": {
        "plotlyServerURL": "https://plot.ly"
       },
       "data": [
        {
         "fill": "tozeroy",
         "fillcolor": "lightgreen",
         "marker": {
          "color": "blue",
          "size": 8
         },
         "mode": "lines",
         "name": "Head (Top 10%)",
         "type": "scatter",
         "x": [
          "the",
          "to",
          "and",
          "is",
          "it",
          "of",
          "in",
          "that",
          "for",
          "this",
          "you",
          "on",
          "are",
          "they",
          "be",
          "he",
          "will",
          "with",
          "if",
          "as",
          "market",
          "but",
          "not",
          "so",
          "all",
          "have",
          "us",
          "just",
          "was",
          "trump",
          "at"
         ],
         "y": {
          "bdata": "/xKCnChMG0D8AfJnuFoZQMdBsAriwhhALpmy7138F0BtpGIHhm4XQFl97kWM9RZADKk3UbyfFkCRHWnsmuMVQJmOnmrCdhVAjBfQkvZxFUA4aj8yjRcVQBzbWEAQkRRA+vhDoncsFECaToH64woUQGtYB1FjlxNA5GopOv2HE0BCLmCUcmATQFlfwkhaWBNAU9aJjNIdE0BFPeR8z/oSQKGkyBWP1hJAxFDAm4C6EkBbR78K+rASQOwTWWX2iRJA+EvlCIFMEkD4S+UIgUwSQPikB37kQRJA47z9gCs3EkCZv6d3VSwSQHRop75PFhJAdGinvk8WEkA=",
          "dtype": "f8"
         }
        },
        {
         "fill": "tozeroy",
         "fillcolor": "yellow",
         "marker": {
          "color": "orange",
          "opacity": 0.5,
          "size": 6
         },
         "mode": "lines",
         "name": "Tail (Bottom 90%)",
         "type": "scatter",
         "x": [
          "at",
          "my",
          "what",
          "can",
          "like",
          "or",
          "we",
          "has",
          "china",
          "about",
          "their",
          "more",
          "from",
          "now",
          "there",
          "no",
          "by",
          "re",
          "up",
          "how",
          "one",
          "do",
          "even",
          "some",
          "them",
          "think",
          "people",
          "stock",
          "his",
          "going",
          "your",
          "an",
          "good",
          "money",
          "would",
          "out",
          "any",
          "see",
          "when",
          "who",
          "than",
          "tariffs",
          "only",
          "why",
          "get",
          "been",
          "time",
          "make",
          "him",
          "other",
          "price",
          "want",
          "me",
          "into",
          "don",
          "then",
          "doing",
          "down",
          "over",
          "could",
          "futures",
          "because",
          "silver",
          "company",
          "right",
          "still",
          "x200b",
          "day",
          "after",
          "our",
          "years",
          "should",
          "go",
          "here",
          "world",
          "also",
          "today",
          "economy",
          "did",
          "stocks",
          "first",
          "much",
          "doesn",
          "dollar",
          "really",
          "last",
          "buy",
          "way",
          "off",
          "most",
          "know",
          "long",
          "were",
          "companies",
          "too",
          "well",
          "stockbuyvest",
          "these",
          "its",
          "does",
          "com",
          "week",
          "new",
          "sell",
          "back",
          "everyone",
          "10",
          "trade",
          "year",
          "since",
          "bad",
          "ve",
          "better",
          "ll",
          "which",
          "same",
          "american",
          "xi",
          "look",
          "looking",
          "every",
          "call",
          "emote",
          "wants",
          "t5_2th52",
          "never",
          "say",
          "own",
          "already",
          "need",
          "someone",
          "high",
          "things",
          "term",
          "fuck",
          "img",
          "let",
          "many",
          "anything",
          "trading",
          "take",
          "may",
          "isn",
          "thing",
          "point",
          "president",
          "selling",
          "bonds",
          "before",
          "where",
          "news",
          "seems",
          "investors",
          "bond",
          "big",
          "literally",
          "am",
          "america",
          "got",
          "shit",
          "had",
          "war",
          "daily",
          "country",
          "end",
          "usa",
          "higher",
          "feel",
          "hold",
          "invest",
          "reason",
          "always",
          "again",
          "next",
          "put",
          "portfolio",
          "nothing",
          "made",
          "future",
          "few",
          "technology",
          "gold",
          "sure",
          "something",
          "calls",
          "didn",
          "everything",
          "countries",
          "data",
          "updated",
          "come",
          "deal",
          "she",
          "might",
          "least",
          "reddit",
          "pretty",
          "worse",
          "anyone",
          "chinese",
          "buying",
          "tariff",
          "without",
          "another",
          "real",
          "ago",
          "lose",
          "puts",
          "lower",
          "said",
          "lot",
          "plan",
          "power",
          "please",
          "won",
          "work",
          "spy",
          "happening",
          "done",
          "currently",
          "50",
          "else",
          "usd",
          "industry",
          "target",
          "went",
          "great",
          "far",
          "lithium",
          "cash",
          "seen",
          "risk",
          "while",
          "actually",
          "100",
          "very",
          "believe",
          "ever",
          "called",
          "free",
          "growth",
          "moving",
          "rates",
          "probably",
          "making",
          "rest",
          "life",
          "gonna",
          "happen",
          "star",
          "lol",
          "investment",
          "fed",
          "getting",
          "markets",
          "paper",
          "administration",
          "maybe",
          "love",
          "short",
          "place",
          "note",
          "analysis",
          "government",
          "thanks",
          "group",
          "haven",
          "help",
          "idea",
          "little",
          "support",
          "earnings",
          "days",
          "those",
          "though",
          "until",
          "both",
          "use",
          "around",
          "being"
         ],
         "y": {
          "bdata": "dGinvk8WEkD2iq4XXfQRQGBxXfvK6BFACqP4XkbFEUCC5GKN5KwRQAsDrXrqkxFACwOteuqTEUAS6MDCq1IRQD9X9FxOGxFAP1f0XE4bEUA/V/RcThsRQC0RKPGa0RBAGxjj6JGSEEDr3CeEL4IQQOvcJ4QvghBADWwS64hxEEBNRsbF5D0QQFmaraEVLBBA8/66WYIHEEDz/rpZggcQQAwTwndw6Q9AqzwiaCjDD0BJqa6qJZwPQEmprqolnA9ASamuqiWcD0BJqa6qJZwPQP8AUf9gdA9A/wBR/2B0D0D/AFH/YHQPQK8brLfSSw9AdbtQPDj4DkC28JAvGs0OQGxCkL0OoQ5AbEKQvQ6hDkCkyaN2C3QOQKTJo3YLdA5ApMmjdgt0DkAR7BQW8BYOQC09LlS/5g1ATqyORWW1DUBOrI5FZbUNQNYNiGj5Tg1A1g2IaPlODUCoQcPFxhkNQL3HOu4o4wxAvcc67ijjDEACICr6C6sMQAIgKvoLqwxAAiAq+gurDEACICr6C6sMQAIgKvoLqwxAxfMPU1pxDED2DbmB/DUMQPYNuYH8NQxA9g25gfw1DEDRuNX02PgLQGvIuL7TuQtAa8i4vtO5C0BryLi+07kLQForkUjOeAtAm9YL+aY1C0Cb1gv5pjULQJvWC/mmNQtAH/7NyzjwCkAf/s3LOPAKQCNKltZaqApAI0qW1lqoCkCQhAO4310KQJCEA7jfXQpAkIQDuN9dCkCQhAO4310KQJCEA7jfXQpAkIQDuN9dCkDNGvDqlBAKQM0a8OqUEApAzRrw6pQQCkDNGvDqlBAKQM0a8OqUEApAM43t90HACUAzje33QcAJQDON7fdBwAlAM43t90HACUD5LJJ8p2wJQPksknynbAlA+SySfKdsCUD5LJJ8p2wJQPksknynbAlA+SySfKdsCUDws9H9fRUJQPCz0f19FQlA8LPR/X0VCUDws9H9fRUJQPCz0f19FQlA8LPR/X0VCUDws9H9fRUJQPCz0f19FQlAyMU9d3S6CEDIxT13dLoIQMjFPXd0ughAyMU9d3S6CEDIxT13dLoIQMjFPXd0ughAyMU9d3S6CECxrm+ULlsIQLGub5QuWwhAsa5vlC5bCECxrm+ULlsIQLGub5QuWwhAsa5vlC5bCECxrm+ULlsIQJHjc3tC9wdAkeNze0L3B0CR43N7QvcHQJHjc3tC9wdAkeNze0L3B0AsswQGNo4HQCyzBAY2jgdALLMEBjaOB0AsswQGNo4HQCyzBAY2jgdALLMEBjaOB0AsswQGNo4HQIaRazp7HwdAhpFrOnsfB0CGkWs6ex8HQIaRazp7HwdAhpFrOnsfB0CGkWs6ex8HQIaRazp7HwdAhpFrOnsfB0CGkWs6ex8HQIaRazp7HwdAhpFrOnsfB0CGkWs6ex8HQIaRazp7HwdAhpFrOnsfB0B6f/rBa6oGQHp/+sFrqgZAen/6wWuqBkB6f/rBa6oGQHp/+sFrqgZAen/6wWuqBkB6f/rBa6oGQHp/+sFrqgZAen/6wWuqBkDvOfr+Qi4GQO85+v5CLgZA7zn6/kIuBkDvOfr+Qi4GQO85+v5CLgZA7zn6/kIuBkDvOfr+Qi4GQO85+v5CLgZA7zn6/kIuBkDvOfr+Qi4GQO85+v5CLgZA7zn6/kIuBkDvOfr+Qi4GQO85+v5CLgZA7zn6/kIuBkDvOfr+Qi4GQB9ITTkWqgVAH0hNORaqBUAfSE05FqoFQB9ITTkWqgVAH0hNORaqBUAfSE05FqoFQB9ITTkWqgVAH0hNORaqBUAfSE05FqoFQB9ITTkWqgVAH0hNORaqBUCnu9cWyhwFQKe71xbKHAVAp7vXFsocBUCnu9cWyhwFQKe71xbKHAVAp7vXFsocBUCnu9cWyhwFQKe71xbKHAVAp7vXFsocBUCnu9cWyhwFQKe71xbKHAVAp7vXFsocBUCnu9cWyhwFQKe71xbKHAVAUYwxKwSFBEBRjDErBIUEQFGMMSsEhQRAUYwxKwSFBEBRjDErBIUEQFGMMSsEhQRAUYwxKwSFBEBRjDErBIUEQFGMMSsEhQRAUYwxKwSFBEBRjDErBIUEQFGMMSsEhQRAUYwxKwSFBEBRjDErBIUEQFGMMSsEhQRAUYwxKwSFBEBRjDErBIUEQFGMMSsEhQRAfZ7TvBbhA0B9ntO8FuEDQH2e07wW4QNAfZ7TvBbhA0B9ntO8FuEDQH2e07wW4QNAfZ7TvBbhA0B9ntO8FuEDQH2e07wW4QNAfZ7TvBbhA0B9ntO8FuEDQH2e07wW4QNAfZ7TvBbhA0B9ntO8FuEDQH2e07wW4QNAfZ7TvBbhA0B9ntO8FuEDQH2e07wW4QNAfZ7TvBbhA0B9ntO8FuEDQH2e07wW4QNAfZ7TvBbhA0B9ntO8FuEDQH2e07wW4QNATDd/t+MuA0BMN3+34y4DQEw3f7fjLgNATDd/t+MuA0BMN3+34y4DQEw3f7fjLgNATDd/t+MuA0BMN3+34y4DQEw3f7fjLgNATDd/t+MuA0BMN3+34y4DQEw3f7fjLgNATDd/t+MuA0BMN3+34y4DQEw3f7fjLgNATDd/t+MuA0BMN3+34y4DQEw3f7fjLgNATDd/t+MuA0BMN3+34y4DQEw3f7fjLgNATDd/t+MuA0BMN3+34y4DQEw3f7fjLgNATDd/t+MuA0BMN3+34y4DQBZVtbuxawJAFlW1u7FrAkAWVbW7sWsCQBZVtbuxawJAFlW1u7FrAkAWVbW7sWsCQBZVtbuxawJAFlW1u7FrAkAWVbW7sWsCQBZVtbuxawJAFlW1u7FrAkAWVbW7sWsCQBZVtbuxawJAFlW1u7FrAkAWVbW7sWsCQBZVtbuxawJAFlW1u7FrAkAWVbW7sWsCQBZVtbuxawJAFlW1u7FrAkAWVbW7sWsCQBZVtbuxawJAFlW1u7FrAkAWVbW7sWsCQBZVtbuxawJAFlW1u7FrAkA=",
          "dtype": "f8"
         }
        }
       ],
       "layout": {
        "template": {
         "data": {
          "bar": [
           {
            "error_x": {
             "color": "#2a3f5f"
            },
            "error_y": {
             "color": "#2a3f5f"
            },
            "marker": {
             "line": {
              "color": "#E5ECF6",
              "width": 0.5
             },
             "pattern": {
              "fillmode": "overlay",
              "size": 10,
              "solidity": 0.2
             }
            },
            "type": "bar"
           }
          ],
          "barpolar": [
           {
            "marker": {
             "line": {
              "color": "#E5ECF6",
              "width": 0.5
             },
             "pattern": {
              "fillmode": "overlay",
              "size": 10,
              "solidity": 0.2
             }
            },
            "type": "barpolar"
           }
          ],
          "carpet": [
           {
            "aaxis": {
             "endlinecolor": "#2a3f5f",
             "gridcolor": "white",
             "linecolor": "white",
             "minorgridcolor": "white",
             "startlinecolor": "#2a3f5f"
            },
            "baxis": {
             "endlinecolor": "#2a3f5f",
             "gridcolor": "white",
             "linecolor": "white",
             "minorgridcolor": "white",
             "startlinecolor": "#2a3f5f"
            },
            "type": "carpet"
           }
          ],
          "choropleth": [
           {
            "colorbar": {
             "outlinewidth": 0,
             "ticks": ""
            },
            "type": "choropleth"
           }
          ],
          "contour": [
           {
            "colorbar": {
             "outlinewidth": 0,
             "ticks": ""
            },
            "colorscale": [
             [
              0,
              "#0d0887"
             ],
             [
              0.1111111111111111,
              "#46039f"
             ],
             [
              0.2222222222222222,
              "#7201a8"
             ],
             [
              0.3333333333333333,
              "#9c179e"
             ],
             [
              0.4444444444444444,
              "#bd3786"
             ],
             [
              0.5555555555555556,
              "#d8576b"
             ],
             [
              0.6666666666666666,
              "#ed7953"
             ],
             [
              0.7777777777777778,
              "#fb9f3a"
             ],
             [
              0.8888888888888888,
              "#fdca26"
             ],
             [
              1,
              "#f0f921"
             ]
            ],
            "type": "contour"
           }
          ],
          "contourcarpet": [
           {
            "colorbar": {
             "outlinewidth": 0,
             "ticks": ""
            },
            "type": "contourcarpet"
           }
          ],
          "heatmap": [
           {
            "colorbar": {
             "outlinewidth": 0,
             "ticks": ""
            },
            "colorscale": [
             [
              0,
              "#0d0887"
             ],
             [
              0.1111111111111111,
              "#46039f"
             ],
             [
              0.2222222222222222,
              "#7201a8"
             ],
             [
              0.3333333333333333,
              "#9c179e"
             ],
             [
              0.4444444444444444,
              "#bd3786"
             ],
             [
              0.5555555555555556,
              "#d8576b"
             ],
             [
              0.6666666666666666,
              "#ed7953"
             ],
             [
              0.7777777777777778,
              "#fb9f3a"
             ],
             [
              0.8888888888888888,
              "#fdca26"
             ],
             [
              1,
              "#f0f921"
             ]
            ],
            "type": "heatmap"
           }
          ],
          "histogram": [
           {
            "marker": {
             "pattern": {
              "fillmode": "overlay",
              "size": 10,
              "solidity": 0.2
             }
            },
            "type": "histogram"
           }
          ],
          "histogram2d": [
           {
            "colorbar": {
             "outlinewidth": 0,
             "ticks": ""
            },
            "colorscale": [
             [
              0,
              "#0d0887"
             ],
             [
              0.1111111111111111,
              "#46039f"
             ],
             [
              0.2222222222222222,
              "#7201a8"
             ],
             [
              0.3333333333333333,
              "#9c179e"
             ],
             [
              0.4444444444444444,
              "#bd3786"
             ],
             [
              0.5555555555555556,
              "#d8576b"
             ],
             [
              0.6666666666666666,
              "#ed7953"
             ],
             [
              0.7777777777777778,
              "#fb9f3a"
             ],
             [
              0.8888888888888888,
              "#fdca26"
             ],
             [
              1,
              "#f0f921"
             ]
            ],
            "type": "histogram2d"
           }
          ],
          "histogram2dcontour": [
           {
            "colorbar": {
             "outlinewidth": 0,
             "ticks": ""
            },
            "colorscale": [
             [
              0,
              "#0d0887"
             ],
             [
              0.1111111111111111,
              "#46039f"
             ],
             [
              0.2222222222222222,
              "#7201a8"
             ],
             [
              0.3333333333333333,
              "#9c179e"
             ],
             [
              0.4444444444444444,
              "#bd3786"
             ],
             [
              0.5555555555555556,
              "#d8576b"
             ],
             [
              0.6666666666666666,
              "#ed7953"
             ],
             [
              0.7777777777777778,
              "#fb9f3a"
             ],
             [
              0.8888888888888888,
              "#fdca26"
             ],
             [
              1,
              "#f0f921"
             ]
            ],
            "type": "histogram2dcontour"
           }
          ],
          "mesh3d": [
           {
            "colorbar": {
             "outlinewidth": 0,
             "ticks": ""
            },
            "type": "mesh3d"
           }
          ],
          "parcoords": [
           {
            "line": {
             "colorbar": {
              "outlinewidth": 0,
              "ticks": ""
             }
            },
            "type": "parcoords"
           }
          ],
          "pie": [
           {
            "automargin": true,
            "type": "pie"
           }
          ],
          "scatter": [
           {
            "fillpattern": {
             "fillmode": "overlay",
             "size": 10,
             "solidity": 0.2
            },
            "type": "scatter"
           }
          ],
          "scatter3d": [
           {
            "line": {
             "colorbar": {
              "outlinewidth": 0,
              "ticks": ""
             }
            },
            "marker": {
             "colorbar": {
              "outlinewidth": 0,
              "ticks": ""
             }
            },
            "type": "scatter3d"
           }
          ],
          "scattercarpet": [
           {
            "marker": {
             "colorbar": {
              "outlinewidth": 0,
              "ticks": ""
             }
            },
            "type": "scattercarpet"
           }
          ],
          "scattergeo": [
           {
            "marker": {
             "colorbar": {
              "outlinewidth": 0,
              "ticks": ""
             }
            },
            "type": "scattergeo"
           }
          ],
          "scattergl": [
           {
            "marker": {
             "colorbar": {
              "outlinewidth": 0,
              "ticks": ""
             }
            },
            "type": "scattergl"
           }
          ],
          "scattermap": [
           {
            "marker": {
             "colorbar": {
              "outlinewidth": 0,
              "ticks": ""
             }
            },
            "type": "scattermap"
           }
          ],
          "scattermapbox": [
           {
            "marker": {
             "colorbar": {
              "outlinewidth": 0,
              "ticks": ""
             }
            },
            "type": "scattermapbox"
           }
          ],
          "scatterpolar": [
           {
            "marker": {
             "colorbar": {
              "outlinewidth": 0,
              "ticks": ""
             }
            },
            "type": "scatterpolar"
           }
          ],
          "scatterpolargl": [
           {
            "marker": {
             "colorbar": {
              "outlinewidth": 0,
              "ticks": ""
             }
            },
            "type": "scatterpolargl"
           }
          ],
          "scatterternary": [
           {
            "marker": {
             "colorbar": {
              "outlinewidth": 0,
              "ticks": ""
             }
            },
            "type": "scatterternary"
           }
          ],
          "surface": [
           {
            "colorbar": {
             "outlinewidth": 0,
             "ticks": ""
            },
            "colorscale": [
             [
              0,
              "#0d0887"
             ],
             [
              0.1111111111111111,
              "#46039f"
             ],
             [
              0.2222222222222222,
              "#7201a8"
             ],
             [
              0.3333333333333333,
              "#9c179e"
             ],
             [
              0.4444444444444444,
              "#bd3786"
             ],
             [
              0.5555555555555556,
              "#d8576b"
             ],
             [
              0.6666666666666666,
              "#ed7953"
             ],
             [
              0.7777777777777778,
              "#fb9f3a"
             ],
             [
              0.8888888888888888,
              "#fdca26"
             ],
             [
              1,
              "#f0f921"
             ]
            ],
            "type": "surface"
           }
          ],
          "table": [
           {
            "cells": {
             "fill": {
              "color": "#EBF0F8"
             },
             "line": {
              "color": "white"
             }
            },
            "header": {
             "fill": {
              "color": "#C8D4E3"
             },
             "line": {
              "color": "white"
             }
            },
            "type": "table"
           }
          ]
         },
         "layout": {
          "annotationdefaults": {
           "arrowcolor": "#2a3f5f",
           "arrowhead": 0,
           "arrowwidth": 1
          },
          "autotypenumbers": "strict",
          "coloraxis": {
           "colorbar": {
            "outlinewidth": 0,
            "ticks": ""
           }
          },
          "colorscale": {
           "diverging": [
            [
             0,
             "#8e0152"
            ],
            [
             0.1,
             "#c51b7d"
            ],
            [
             0.2,
             "#de77ae"
            ],
            [
             0.3,
             "#f1b6da"
            ],
            [
             0.4,
             "#fde0ef"
            ],
            [
             0.5,
             "#f7f7f7"
            ],
            [
             0.6,
             "#e6f5d0"
            ],
            [
             0.7,
             "#b8e186"
            ],
            [
             0.8,
             "#7fbc41"
            ],
            [
             0.9,
             "#4d9221"
            ],
            [
             1,
             "#276419"
            ]
           ],
           "sequential": [
            [
             0,
             "#0d0887"
            ],
            [
             0.1111111111111111,
             "#46039f"
            ],
            [
             0.2222222222222222,
             "#7201a8"
            ],
            [
             0.3333333333333333,
             "#9c179e"
            ],
            [
             0.4444444444444444,
             "#bd3786"
            ],
            [
             0.5555555555555556,
             "#d8576b"
            ],
            [
             0.6666666666666666,
             "#ed7953"
            ],
            [
             0.7777777777777778,
             "#fb9f3a"
            ],
            [
             0.8888888888888888,
             "#fdca26"
            ],
            [
             1,
             "#f0f921"
            ]
           ],
           "sequentialminus": [
            [
             0,
             "#0d0887"
            ],
            [
             0.1111111111111111,
             "#46039f"
            ],
            [
             0.2222222222222222,
             "#7201a8"
            ],
            [
             0.3333333333333333,
             "#9c179e"
            ],
            [
             0.4444444444444444,
             "#bd3786"
            ],
            [
             0.5555555555555556,
             "#d8576b"
            ],
            [
             0.6666666666666666,
             "#ed7953"
            ],
            [
             0.7777777777777778,
             "#fb9f3a"
            ],
            [
             0.8888888888888888,
             "#fdca26"
            ],
            [
             1,
             "#f0f921"
            ]
           ]
          },
          "colorway": [
           "#636efa",
           "#EF553B",
           "#00cc96",
           "#ab63fa",
           "#FFA15A",
           "#19d3f3",
           "#FF6692",
           "#B6E880",
           "#FF97FF",
           "#FECB52"
          ],
          "font": {
           "color": "#2a3f5f"
          },
          "geo": {
           "bgcolor": "white",
           "lakecolor": "white",
           "landcolor": "#E5ECF6",
           "showlakes": true,
           "showland": true,
           "subunitcolor": "white"
          },
          "hoverlabel": {
           "align": "left"
          },
          "hovermode": "closest",
          "mapbox": {
           "style": "light"
          },
          "paper_bgcolor": "white",
          "plot_bgcolor": "#E5ECF6",
          "polar": {
           "angularaxis": {
            "gridcolor": "white",
            "linecolor": "white",
            "ticks": ""
           },
           "bgcolor": "#E5ECF6",
           "radialaxis": {
            "gridcolor": "white",
            "linecolor": "white",
            "ticks": ""
           }
          },
          "scene": {
           "xaxis": {
            "backgroundcolor": "#E5ECF6",
            "gridcolor": "white",
            "gridwidth": 2,
            "linecolor": "white",
            "showbackground": true,
            "ticks": "",
            "zerolinecolor": "white"
           },
           "yaxis": {
            "backgroundcolor": "#E5ECF6",
            "gridcolor": "white",
            "gridwidth": 2,
            "linecolor": "white",
            "showbackground": true,
            "ticks": "",
            "zerolinecolor": "white"
           },
           "zaxis": {
            "backgroundcolor": "#E5ECF6",
            "gridcolor": "white",
            "gridwidth": 2,
            "linecolor": "white",
            "showbackground": true,
            "ticks": "",
            "zerolinecolor": "white"
           }
          },
          "shapedefaults": {
           "line": {
            "color": "#2a3f5f"
           }
          },
          "ternary": {
           "aaxis": {
            "gridcolor": "white",
            "linecolor": "white",
            "ticks": ""
           },
           "baxis": {
            "gridcolor": "white",
            "linecolor": "white",
            "ticks": ""
           },
           "bgcolor": "#E5ECF6",
           "caxis": {
            "gridcolor": "white",
            "linecolor": "white",
            "ticks": ""
           }
          },
          "title": {
           "x": 0.05
          },
          "xaxis": {
           "automargin": true,
           "gridcolor": "white",
           "linecolor": "white",
           "ticks": "",
           "title": {
            "standoff": 15
           },
           "zerolinecolor": "white",
           "zerolinewidth": 2
          },
          "yaxis": {
           "automargin": true,
           "gridcolor": "white",
           "linecolor": "white",
           "ticks": "",
           "title": {
            "standoff": 15
           },
           "zerolinecolor": "white",
           "zerolinewidth": 2
          }
         }
        },
        "title": {
         "text": "Term Frequencies for Terms Appearing at least 5 times"
        },
        "xaxis": {
         "tickangle": -90,
         "title": {
          "text": "Terms"
         }
        },
        "yaxis": {
         "title": {
          "text": "Frequencies"
         }
        }
       }
      }
     },
     "metadata": {},
     "output_type": "display_data"
    }
   ],
   "source": [
    "# ex15\n",
    "term_freq_log =np.array([math.log(freq) if freq > 0 else 0 for freq in term_freq])\n",
    "df_index = np.where(term_freq >= 10)[0] # 1000只是個範例，可以根據需求調整\n",
    "term_freq_df = pd.DataFrame({'term': count_vect.get_feature_names_out()[df_index], 'frequency': term_freq_log[df_index]})\n",
    "term_freq_df = term_freq_df.sort_values(by='frequency', ascending=False).reset_index(drop=True)\n",
    "# 定義分界點\n",
    "head_tail_point = int(len(term_freq_df) * 0.1)  # 例如前10%為head\n",
    "fig = go.Figure()\n",
    "fig.add_trace(go.Scatter(x=term_freq_df['term'][:head_tail_point], \n",
    "                         y=term_freq_df['frequency'][:head_tail_point],\n",
    "                         mode='lines',\n",
    "                         fill='tozeroy',\n",
    "                         fillcolor='lightgreen',\n",
    "                         name='Head (Top 10%)',\n",
    "                         marker=dict(color='blue', size=8)))\n",
    "fig.add_trace(go.Scatter(x=term_freq_df['term'][head_tail_point-1:],\n",
    "                         y=term_freq_df['frequency'][head_tail_point-1:],\n",
    "                         mode='lines',\n",
    "                         fill='tozeroy',\n",
    "                         fillcolor='yellow',\n",
    "                         name='Tail (Bottom 90%)',\n",
    "                         marker=dict(color='orange', size=6, opacity=0.5)))\n",
    "fig.update_layout(title='Term Frequencies for Terms Appearing at least 5 times',\n",
    "                  xaxis_title='Terms', yaxis_title='Frequencies', xaxis_tickangle=-90)\n",
    "fig.show()\n"
   ]
  },
  {
   "cell_type": "markdown",
   "metadata": {},
   "source": [
    "## Third"
   ]
  },
  {
   "cell_type": "markdown",
   "metadata": {},
   "source": [
    "### Pie Chart"
   ]
  },
  {
   "cell_type": "code",
   "execution_count": null,
   "metadata": {},
   "outputs": [
    {
     "data": {
      "application/vnd.plotly.v1+json": {
       "config": {
        "plotlyServerURL": "https://plot.ly"
       },
       "data": [
        {
         "hole": 0.4,
         "labels": [
          "Neutral",
          "Negative",
          "Positive"
         ],
         "textinfo": "percent+label",
         "textposition": "inside",
         "type": "pie",
         "values": {
          "bdata": "pwE7AW0A",
          "dtype": "i2"
         }
        }
       ],
       "layout": {
        "template": {
         "data": {
          "bar": [
           {
            "error_x": {
             "color": "#2a3f5f"
            },
            "error_y": {
             "color": "#2a3f5f"
            },
            "marker": {
             "line": {
              "color": "#E5ECF6",
              "width": 0.5
             },
             "pattern": {
              "fillmode": "overlay",
              "size": 10,
              "solidity": 0.2
             }
            },
            "type": "bar"
           }
          ],
          "barpolar": [
           {
            "marker": {
             "line": {
              "color": "#E5ECF6",
              "width": 0.5
             },
             "pattern": {
              "fillmode": "overlay",
              "size": 10,
              "solidity": 0.2
             }
            },
            "type": "barpolar"
           }
          ],
          "carpet": [
           {
            "aaxis": {
             "endlinecolor": "#2a3f5f",
             "gridcolor": "white",
             "linecolor": "white",
             "minorgridcolor": "white",
             "startlinecolor": "#2a3f5f"
            },
            "baxis": {
             "endlinecolor": "#2a3f5f",
             "gridcolor": "white",
             "linecolor": "white",
             "minorgridcolor": "white",
             "startlinecolor": "#2a3f5f"
            },
            "type": "carpet"
           }
          ],
          "choropleth": [
           {
            "colorbar": {
             "outlinewidth": 0,
             "ticks": ""
            },
            "type": "choropleth"
           }
          ],
          "contour": [
           {
            "colorbar": {
             "outlinewidth": 0,
             "ticks": ""
            },
            "colorscale": [
             [
              0,
              "#0d0887"
             ],
             [
              0.1111111111111111,
              "#46039f"
             ],
             [
              0.2222222222222222,
              "#7201a8"
             ],
             [
              0.3333333333333333,
              "#9c179e"
             ],
             [
              0.4444444444444444,
              "#bd3786"
             ],
             [
              0.5555555555555556,
              "#d8576b"
             ],
             [
              0.6666666666666666,
              "#ed7953"
             ],
             [
              0.7777777777777778,
              "#fb9f3a"
             ],
             [
              0.8888888888888888,
              "#fdca26"
             ],
             [
              1,
              "#f0f921"
             ]
            ],
            "type": "contour"
           }
          ],
          "contourcarpet": [
           {
            "colorbar": {
             "outlinewidth": 0,
             "ticks": ""
            },
            "type": "contourcarpet"
           }
          ],
          "heatmap": [
           {
            "colorbar": {
             "outlinewidth": 0,
             "ticks": ""
            },
            "colorscale": [
             [
              0,
              "#0d0887"
             ],
             [
              0.1111111111111111,
              "#46039f"
             ],
             [
              0.2222222222222222,
              "#7201a8"
             ],
             [
              0.3333333333333333,
              "#9c179e"
             ],
             [
              0.4444444444444444,
              "#bd3786"
             ],
             [
              0.5555555555555556,
              "#d8576b"
             ],
             [
              0.6666666666666666,
              "#ed7953"
             ],
             [
              0.7777777777777778,
              "#fb9f3a"
             ],
             [
              0.8888888888888888,
              "#fdca26"
             ],
             [
              1,
              "#f0f921"
             ]
            ],
            "type": "heatmap"
           }
          ],
          "histogram": [
           {
            "marker": {
             "pattern": {
              "fillmode": "overlay",
              "size": 10,
              "solidity": 0.2
             }
            },
            "type": "histogram"
           }
          ],
          "histogram2d": [
           {
            "colorbar": {
             "outlinewidth": 0,
             "ticks": ""
            },
            "colorscale": [
             [
              0,
              "#0d0887"
             ],
             [
              0.1111111111111111,
              "#46039f"
             ],
             [
              0.2222222222222222,
              "#7201a8"
             ],
             [
              0.3333333333333333,
              "#9c179e"
             ],
             [
              0.4444444444444444,
              "#bd3786"
             ],
             [
              0.5555555555555556,
              "#d8576b"
             ],
             [
              0.6666666666666666,
              "#ed7953"
             ],
             [
              0.7777777777777778,
              "#fb9f3a"
             ],
             [
              0.8888888888888888,
              "#fdca26"
             ],
             [
              1,
              "#f0f921"
             ]
            ],
            "type": "histogram2d"
           }
          ],
          "histogram2dcontour": [
           {
            "colorbar": {
             "outlinewidth": 0,
             "ticks": ""
            },
            "colorscale": [
             [
              0,
              "#0d0887"
             ],
             [
              0.1111111111111111,
              "#46039f"
             ],
             [
              0.2222222222222222,
              "#7201a8"
             ],
             [
              0.3333333333333333,
              "#9c179e"
             ],
             [
              0.4444444444444444,
              "#bd3786"
             ],
             [
              0.5555555555555556,
              "#d8576b"
             ],
             [
              0.6666666666666666,
              "#ed7953"
             ],
             [
              0.7777777777777778,
              "#fb9f3a"
             ],
             [
              0.8888888888888888,
              "#fdca26"
             ],
             [
              1,
              "#f0f921"
             ]
            ],
            "type": "histogram2dcontour"
           }
          ],
          "mesh3d": [
           {
            "colorbar": {
             "outlinewidth": 0,
             "ticks": ""
            },
            "type": "mesh3d"
           }
          ],
          "parcoords": [
           {
            "line": {
             "colorbar": {
              "outlinewidth": 0,
              "ticks": ""
             }
            },
            "type": "parcoords"
           }
          ],
          "pie": [
           {
            "automargin": true,
            "type": "pie"
           }
          ],
          "scatter": [
           {
            "fillpattern": {
             "fillmode": "overlay",
             "size": 10,
             "solidity": 0.2
            },
            "type": "scatter"
           }
          ],
          "scatter3d": [
           {
            "line": {
             "colorbar": {
              "outlinewidth": 0,
              "ticks": ""
             }
            },
            "marker": {
             "colorbar": {
              "outlinewidth": 0,
              "ticks": ""
             }
            },
            "type": "scatter3d"
           }
          ],
          "scattercarpet": [
           {
            "marker": {
             "colorbar": {
              "outlinewidth": 0,
              "ticks": ""
             }
            },
            "type": "scattercarpet"
           }
          ],
          "scattergeo": [
           {
            "marker": {
             "colorbar": {
              "outlinewidth": 0,
              "ticks": ""
             }
            },
            "type": "scattergeo"
           }
          ],
          "scattergl": [
           {
            "marker": {
             "colorbar": {
              "outlinewidth": 0,
              "ticks": ""
             }
            },
            "type": "scattergl"
           }
          ],
          "scattermap": [
           {
            "marker": {
             "colorbar": {
              "outlinewidth": 0,
              "ticks": ""
             }
            },
            "type": "scattermap"
           }
          ],
          "scattermapbox": [
           {
            "marker": {
             "colorbar": {
              "outlinewidth": 0,
              "ticks": ""
             }
            },
            "type": "scattermapbox"
           }
          ],
          "scatterpolar": [
           {
            "marker": {
             "colorbar": {
              "outlinewidth": 0,
              "ticks": ""
             }
            },
            "type": "scatterpolar"
           }
          ],
          "scatterpolargl": [
           {
            "marker": {
             "colorbar": {
              "outlinewidth": 0,
              "ticks": ""
             }
            },
            "type": "scatterpolargl"
           }
          ],
          "scatterternary": [
           {
            "marker": {
             "colorbar": {
              "outlinewidth": 0,
              "ticks": ""
             }
            },
            "type": "scatterternary"
           }
          ],
          "surface": [
           {
            "colorbar": {
             "outlinewidth": 0,
             "ticks": ""
            },
            "colorscale": [
             [
              0,
              "#0d0887"
             ],
             [
              0.1111111111111111,
              "#46039f"
             ],
             [
              0.2222222222222222,
              "#7201a8"
             ],
             [
              0.3333333333333333,
              "#9c179e"
             ],
             [
              0.4444444444444444,
              "#bd3786"
             ],
             [
              0.5555555555555556,
              "#d8576b"
             ],
             [
              0.6666666666666666,
              "#ed7953"
             ],
             [
              0.7777777777777778,
              "#fb9f3a"
             ],
             [
              0.8888888888888888,
              "#fdca26"
             ],
             [
              1,
              "#f0f921"
             ]
            ],
            "type": "surface"
           }
          ],
          "table": [
           {
            "cells": {
             "fill": {
              "color": "#EBF0F8"
             },
             "line": {
              "color": "white"
             }
            },
            "header": {
             "fill": {
              "color": "#C8D4E3"
             },
             "line": {
              "color": "white"
             }
            },
            "type": "table"
           }
          ]
         },
         "layout": {
          "annotationdefaults": {
           "arrowcolor": "#2a3f5f",
           "arrowhead": 0,
           "arrowwidth": 1
          },
          "autotypenumbers": "strict",
          "coloraxis": {
           "colorbar": {
            "outlinewidth": 0,
            "ticks": ""
           }
          },
          "colorscale": {
           "diverging": [
            [
             0,
             "#8e0152"
            ],
            [
             0.1,
             "#c51b7d"
            ],
            [
             0.2,
             "#de77ae"
            ],
            [
             0.3,
             "#f1b6da"
            ],
            [
             0.4,
             "#fde0ef"
            ],
            [
             0.5,
             "#f7f7f7"
            ],
            [
             0.6,
             "#e6f5d0"
            ],
            [
             0.7,
             "#b8e186"
            ],
            [
             0.8,
             "#7fbc41"
            ],
            [
             0.9,
             "#4d9221"
            ],
            [
             1,
             "#276419"
            ]
           ],
           "sequential": [
            [
             0,
             "#0d0887"
            ],
            [
             0.1111111111111111,
             "#46039f"
            ],
            [
             0.2222222222222222,
             "#7201a8"
            ],
            [
             0.3333333333333333,
             "#9c179e"
            ],
            [
             0.4444444444444444,
             "#bd3786"
            ],
            [
             0.5555555555555556,
             "#d8576b"
            ],
            [
             0.6666666666666666,
             "#ed7953"
            ],
            [
             0.7777777777777778,
             "#fb9f3a"
            ],
            [
             0.8888888888888888,
             "#fdca26"
            ],
            [
             1,
             "#f0f921"
            ]
           ],
           "sequentialminus": [
            [
             0,
             "#0d0887"
            ],
            [
             0.1111111111111111,
             "#46039f"
            ],
            [
             0.2222222222222222,
             "#7201a8"
            ],
            [
             0.3333333333333333,
             "#9c179e"
            ],
            [
             0.4444444444444444,
             "#bd3786"
            ],
            [
             0.5555555555555556,
             "#d8576b"
            ],
            [
             0.6666666666666666,
             "#ed7953"
            ],
            [
             0.7777777777777778,
             "#fb9f3a"
            ],
            [
             0.8888888888888888,
             "#fdca26"
            ],
            [
             1,
             "#f0f921"
            ]
           ]
          },
          "colorway": [
           "#636efa",
           "#EF553B",
           "#00cc96",
           "#ab63fa",
           "#FFA15A",
           "#19d3f3",
           "#FF6692",
           "#B6E880",
           "#FF97FF",
           "#FECB52"
          ],
          "font": {
           "color": "#2a3f5f"
          },
          "geo": {
           "bgcolor": "white",
           "lakecolor": "white",
           "landcolor": "#E5ECF6",
           "showlakes": true,
           "showland": true,
           "subunitcolor": "white"
          },
          "hoverlabel": {
           "align": "left"
          },
          "hovermode": "closest",
          "mapbox": {
           "style": "light"
          },
          "paper_bgcolor": "white",
          "plot_bgcolor": "#E5ECF6",
          "polar": {
           "angularaxis": {
            "gridcolor": "white",
            "linecolor": "white",
            "ticks": ""
           },
           "bgcolor": "#E5ECF6",
           "radialaxis": {
            "gridcolor": "white",
            "linecolor": "white",
            "ticks": ""
           }
          },
          "scene": {
           "xaxis": {
            "backgroundcolor": "#E5ECF6",
            "gridcolor": "white",
            "gridwidth": 2,
            "linecolor": "white",
            "showbackground": true,
            "ticks": "",
            "zerolinecolor": "white"
           },
           "yaxis": {
            "backgroundcolor": "#E5ECF6",
            "gridcolor": "white",
            "gridwidth": 2,
            "linecolor": "white",
            "showbackground": true,
            "ticks": "",
            "zerolinecolor": "white"
           },
           "zaxis": {
            "backgroundcolor": "#E5ECF6",
            "gridcolor": "white",
            "gridwidth": 2,
            "linecolor": "white",
            "showbackground": true,
            "ticks": "",
            "zerolinecolor": "white"
           }
          },
          "shapedefaults": {
           "line": {
            "color": "#2a3f5f"
           }
          },
          "ternary": {
           "aaxis": {
            "gridcolor": "white",
            "linecolor": "white",
            "ticks": ""
           },
           "baxis": {
            "gridcolor": "white",
            "linecolor": "white",
            "ticks": ""
           },
           "bgcolor": "#E5ECF6",
           "caxis": {
            "gridcolor": "white",
            "linecolor": "white",
            "ticks": ""
           }
          },
          "title": {
           "x": 0.05
          },
          "xaxis": {
           "automargin": true,
           "gridcolor": "white",
           "linecolor": "white",
           "ticks": "",
           "title": {
            "standoff": 15
           },
           "zerolinecolor": "white",
           "zerolinewidth": 2
          },
          "yaxis": {
           "automargin": true,
           "gridcolor": "white",
           "linecolor": "white",
           "ticks": "",
           "title": {
            "standoff": 15
           },
           "zerolinecolor": "white",
           "zerolinewidth": 2
          }
         }
        }
       }
      }
     },
     "metadata": {},
     "output_type": "display_data"
    }
   ],
   "source": [
    "# 圓餅圖 label 的占比\n",
    "label_counts = df['label'].value_counts()\n",
    "label_counts[:]\n",
    "# 資料準備\n",
    "category =['Neutral', 'Negative' , 'Positive']\n",
    "value = label_counts.values\n",
    "# 繪圖\n",
    "fig = go.Figure(data=[go.Pie(labels=category, values=value, hole=.4)])\n",
    "fig.update_traces(textposition='inside', textinfo='percent+label')"
   ]
  },
  {
   "cell_type": "code",
   "execution_count": null,
   "metadata": {},
   "outputs": [
    {
     "name": "stdout",
     "output_type": "stream",
     "text": [
      "type\n",
      "comment    783\n",
      "post        64\n",
      "Name: count, dtype: int64\n"
     ]
    },
    {
     "data": {
      "application/vnd.plotly.v1+json": {
       "config": {
        "plotlyServerURL": "https://plot.ly"
       },
       "data": [
        {
         "hole": 0.4,
         "labels": [
          "comment",
          "post"
         ],
         "textinfo": "percent+label",
         "textposition": "inside",
         "type": "pie",
         "values": {
          "bdata": "DwNAAA==",
          "dtype": "i2"
         }
        }
       ],
       "layout": {
        "template": {
         "data": {
          "bar": [
           {
            "error_x": {
             "color": "#2a3f5f"
            },
            "error_y": {
             "color": "#2a3f5f"
            },
            "marker": {
             "line": {
              "color": "#E5ECF6",
              "width": 0.5
             },
             "pattern": {
              "fillmode": "overlay",
              "size": 10,
              "solidity": 0.2
             }
            },
            "type": "bar"
           }
          ],
          "barpolar": [
           {
            "marker": {
             "line": {
              "color": "#E5ECF6",
              "width": 0.5
             },
             "pattern": {
              "fillmode": "overlay",
              "size": 10,
              "solidity": 0.2
             }
            },
            "type": "barpolar"
           }
          ],
          "carpet": [
           {
            "aaxis": {
             "endlinecolor": "#2a3f5f",
             "gridcolor": "white",
             "linecolor": "white",
             "minorgridcolor": "white",
             "startlinecolor": "#2a3f5f"
            },
            "baxis": {
             "endlinecolor": "#2a3f5f",
             "gridcolor": "white",
             "linecolor": "white",
             "minorgridcolor": "white",
             "startlinecolor": "#2a3f5f"
            },
            "type": "carpet"
           }
          ],
          "choropleth": [
           {
            "colorbar": {
             "outlinewidth": 0,
             "ticks": ""
            },
            "type": "choropleth"
           }
          ],
          "contour": [
           {
            "colorbar": {
             "outlinewidth": 0,
             "ticks": ""
            },
            "colorscale": [
             [
              0,
              "#0d0887"
             ],
             [
              0.1111111111111111,
              "#46039f"
             ],
             [
              0.2222222222222222,
              "#7201a8"
             ],
             [
              0.3333333333333333,
              "#9c179e"
             ],
             [
              0.4444444444444444,
              "#bd3786"
             ],
             [
              0.5555555555555556,
              "#d8576b"
             ],
             [
              0.6666666666666666,
              "#ed7953"
             ],
             [
              0.7777777777777778,
              "#fb9f3a"
             ],
             [
              0.8888888888888888,
              "#fdca26"
             ],
             [
              1,
              "#f0f921"
             ]
            ],
            "type": "contour"
           }
          ],
          "contourcarpet": [
           {
            "colorbar": {
             "outlinewidth": 0,
             "ticks": ""
            },
            "type": "contourcarpet"
           }
          ],
          "heatmap": [
           {
            "colorbar": {
             "outlinewidth": 0,
             "ticks": ""
            },
            "colorscale": [
             [
              0,
              "#0d0887"
             ],
             [
              0.1111111111111111,
              "#46039f"
             ],
             [
              0.2222222222222222,
              "#7201a8"
             ],
             [
              0.3333333333333333,
              "#9c179e"
             ],
             [
              0.4444444444444444,
              "#bd3786"
             ],
             [
              0.5555555555555556,
              "#d8576b"
             ],
             [
              0.6666666666666666,
              "#ed7953"
             ],
             [
              0.7777777777777778,
              "#fb9f3a"
             ],
             [
              0.8888888888888888,
              "#fdca26"
             ],
             [
              1,
              "#f0f921"
             ]
            ],
            "type": "heatmap"
           }
          ],
          "histogram": [
           {
            "marker": {
             "pattern": {
              "fillmode": "overlay",
              "size": 10,
              "solidity": 0.2
             }
            },
            "type": "histogram"
           }
          ],
          "histogram2d": [
           {
            "colorbar": {
             "outlinewidth": 0,
             "ticks": ""
            },
            "colorscale": [
             [
              0,
              "#0d0887"
             ],
             [
              0.1111111111111111,
              "#46039f"
             ],
             [
              0.2222222222222222,
              "#7201a8"
             ],
             [
              0.3333333333333333,
              "#9c179e"
             ],
             [
              0.4444444444444444,
              "#bd3786"
             ],
             [
              0.5555555555555556,
              "#d8576b"
             ],
             [
              0.6666666666666666,
              "#ed7953"
             ],
             [
              0.7777777777777778,
              "#fb9f3a"
             ],
             [
              0.8888888888888888,
              "#fdca26"
             ],
             [
              1,
              "#f0f921"
             ]
            ],
            "type": "histogram2d"
           }
          ],
          "histogram2dcontour": [
           {
            "colorbar": {
             "outlinewidth": 0,
             "ticks": ""
            },
            "colorscale": [
             [
              0,
              "#0d0887"
             ],
             [
              0.1111111111111111,
              "#46039f"
             ],
             [
              0.2222222222222222,
              "#7201a8"
             ],
             [
              0.3333333333333333,
              "#9c179e"
             ],
             [
              0.4444444444444444,
              "#bd3786"
             ],
             [
              0.5555555555555556,
              "#d8576b"
             ],
             [
              0.6666666666666666,
              "#ed7953"
             ],
             [
              0.7777777777777778,
              "#fb9f3a"
             ],
             [
              0.8888888888888888,
              "#fdca26"
             ],
             [
              1,
              "#f0f921"
             ]
            ],
            "type": "histogram2dcontour"
           }
          ],
          "mesh3d": [
           {
            "colorbar": {
             "outlinewidth": 0,
             "ticks": ""
            },
            "type": "mesh3d"
           }
          ],
          "parcoords": [
           {
            "line": {
             "colorbar": {
              "outlinewidth": 0,
              "ticks": ""
             }
            },
            "type": "parcoords"
           }
          ],
          "pie": [
           {
            "automargin": true,
            "type": "pie"
           }
          ],
          "scatter": [
           {
            "fillpattern": {
             "fillmode": "overlay",
             "size": 10,
             "solidity": 0.2
            },
            "type": "scatter"
           }
          ],
          "scatter3d": [
           {
            "line": {
             "colorbar": {
              "outlinewidth": 0,
              "ticks": ""
             }
            },
            "marker": {
             "colorbar": {
              "outlinewidth": 0,
              "ticks": ""
             }
            },
            "type": "scatter3d"
           }
          ],
          "scattercarpet": [
           {
            "marker": {
             "colorbar": {
              "outlinewidth": 0,
              "ticks": ""
             }
            },
            "type": "scattercarpet"
           }
          ],
          "scattergeo": [
           {
            "marker": {
             "colorbar": {
              "outlinewidth": 0,
              "ticks": ""
             }
            },
            "type": "scattergeo"
           }
          ],
          "scattergl": [
           {
            "marker": {
             "colorbar": {
              "outlinewidth": 0,
              "ticks": ""
             }
            },
            "type": "scattergl"
           }
          ],
          "scattermap": [
           {
            "marker": {
             "colorbar": {
              "outlinewidth": 0,
              "ticks": ""
             }
            },
            "type": "scattermap"
           }
          ],
          "scattermapbox": [
           {
            "marker": {
             "colorbar": {
              "outlinewidth": 0,
              "ticks": ""
             }
            },
            "type": "scattermapbox"
           }
          ],
          "scatterpolar": [
           {
            "marker": {
             "colorbar": {
              "outlinewidth": 0,
              "ticks": ""
             }
            },
            "type": "scatterpolar"
           }
          ],
          "scatterpolargl": [
           {
            "marker": {
             "colorbar": {
              "outlinewidth": 0,
              "ticks": ""
             }
            },
            "type": "scatterpolargl"
           }
          ],
          "scatterternary": [
           {
            "marker": {
             "colorbar": {
              "outlinewidth": 0,
              "ticks": ""
             }
            },
            "type": "scatterternary"
           }
          ],
          "surface": [
           {
            "colorbar": {
             "outlinewidth": 0,
             "ticks": ""
            },
            "colorscale": [
             [
              0,
              "#0d0887"
             ],
             [
              0.1111111111111111,
              "#46039f"
             ],
             [
              0.2222222222222222,
              "#7201a8"
             ],
             [
              0.3333333333333333,
              "#9c179e"
             ],
             [
              0.4444444444444444,
              "#bd3786"
             ],
             [
              0.5555555555555556,
              "#d8576b"
             ],
             [
              0.6666666666666666,
              "#ed7953"
             ],
             [
              0.7777777777777778,
              "#fb9f3a"
             ],
             [
              0.8888888888888888,
              "#fdca26"
             ],
             [
              1,
              "#f0f921"
             ]
            ],
            "type": "surface"
           }
          ],
          "table": [
           {
            "cells": {
             "fill": {
              "color": "#EBF0F8"
             },
             "line": {
              "color": "white"
             }
            },
            "header": {
             "fill": {
              "color": "#C8D4E3"
             },
             "line": {
              "color": "white"
             }
            },
            "type": "table"
           }
          ]
         },
         "layout": {
          "annotationdefaults": {
           "arrowcolor": "#2a3f5f",
           "arrowhead": 0,
           "arrowwidth": 1
          },
          "autotypenumbers": "strict",
          "coloraxis": {
           "colorbar": {
            "outlinewidth": 0,
            "ticks": ""
           }
          },
          "colorscale": {
           "diverging": [
            [
             0,
             "#8e0152"
            ],
            [
             0.1,
             "#c51b7d"
            ],
            [
             0.2,
             "#de77ae"
            ],
            [
             0.3,
             "#f1b6da"
            ],
            [
             0.4,
             "#fde0ef"
            ],
            [
             0.5,
             "#f7f7f7"
            ],
            [
             0.6,
             "#e6f5d0"
            ],
            [
             0.7,
             "#b8e186"
            ],
            [
             0.8,
             "#7fbc41"
            ],
            [
             0.9,
             "#4d9221"
            ],
            [
             1,
             "#276419"
            ]
           ],
           "sequential": [
            [
             0,
             "#0d0887"
            ],
            [
             0.1111111111111111,
             "#46039f"
            ],
            [
             0.2222222222222222,
             "#7201a8"
            ],
            [
             0.3333333333333333,
             "#9c179e"
            ],
            [
             0.4444444444444444,
             "#bd3786"
            ],
            [
             0.5555555555555556,
             "#d8576b"
            ],
            [
             0.6666666666666666,
             "#ed7953"
            ],
            [
             0.7777777777777778,
             "#fb9f3a"
            ],
            [
             0.8888888888888888,
             "#fdca26"
            ],
            [
             1,
             "#f0f921"
            ]
           ],
           "sequentialminus": [
            [
             0,
             "#0d0887"
            ],
            [
             0.1111111111111111,
             "#46039f"
            ],
            [
             0.2222222222222222,
             "#7201a8"
            ],
            [
             0.3333333333333333,
             "#9c179e"
            ],
            [
             0.4444444444444444,
             "#bd3786"
            ],
            [
             0.5555555555555556,
             "#d8576b"
            ],
            [
             0.6666666666666666,
             "#ed7953"
            ],
            [
             0.7777777777777778,
             "#fb9f3a"
            ],
            [
             0.8888888888888888,
             "#fdca26"
            ],
            [
             1,
             "#f0f921"
            ]
           ]
          },
          "colorway": [
           "#636efa",
           "#EF553B",
           "#00cc96",
           "#ab63fa",
           "#FFA15A",
           "#19d3f3",
           "#FF6692",
           "#B6E880",
           "#FF97FF",
           "#FECB52"
          ],
          "font": {
           "color": "#2a3f5f"
          },
          "geo": {
           "bgcolor": "white",
           "lakecolor": "white",
           "landcolor": "#E5ECF6",
           "showlakes": true,
           "showland": true,
           "subunitcolor": "white"
          },
          "hoverlabel": {
           "align": "left"
          },
          "hovermode": "closest",
          "mapbox": {
           "style": "light"
          },
          "paper_bgcolor": "white",
          "plot_bgcolor": "#E5ECF6",
          "polar": {
           "angularaxis": {
            "gridcolor": "white",
            "linecolor": "white",
            "ticks": ""
           },
           "bgcolor": "#E5ECF6",
           "radialaxis": {
            "gridcolor": "white",
            "linecolor": "white",
            "ticks": ""
           }
          },
          "scene": {
           "xaxis": {
            "backgroundcolor": "#E5ECF6",
            "gridcolor": "white",
            "gridwidth": 2,
            "linecolor": "white",
            "showbackground": true,
            "ticks": "",
            "zerolinecolor": "white"
           },
           "yaxis": {
            "backgroundcolor": "#E5ECF6",
            "gridcolor": "white",
            "gridwidth": 2,
            "linecolor": "white",
            "showbackground": true,
            "ticks": "",
            "zerolinecolor": "white"
           },
           "zaxis": {
            "backgroundcolor": "#E5ECF6",
            "gridcolor": "white",
            "gridwidth": 2,
            "linecolor": "white",
            "showbackground": true,
            "ticks": "",
            "zerolinecolor": "white"
           }
          },
          "shapedefaults": {
           "line": {
            "color": "#2a3f5f"
           }
          },
          "ternary": {
           "aaxis": {
            "gridcolor": "white",
            "linecolor": "white",
            "ticks": ""
           },
           "baxis": {
            "gridcolor": "white",
            "linecolor": "white",
            "ticks": ""
           },
           "bgcolor": "#E5ECF6",
           "caxis": {
            "gridcolor": "white",
            "linecolor": "white",
            "ticks": ""
           }
          },
          "title": {
           "x": 0.05
          },
          "xaxis": {
           "automargin": true,
           "gridcolor": "white",
           "linecolor": "white",
           "ticks": "",
           "title": {
            "standoff": 15
           },
           "zerolinecolor": "white",
           "zerolinewidth": 2
          },
          "yaxis": {
           "automargin": true,
           "gridcolor": "white",
           "linecolor": "white",
           "ticks": "",
           "title": {
            "standoff": 15
           },
           "zerolinecolor": "white",
           "zerolinewidth": 2
          }
         }
        }
       }
      }
     },
     "metadata": {},
     "output_type": "display_data"
    }
   ],
   "source": [
    "# 圓餅圖 type 的占比\n",
    "type_counts = df['type'].value_counts()\n",
    "print(type_counts[:])\n",
    "# 資料準備\n",
    "category = type_counts.index.tolist()\n",
    "value = type_counts.values\n",
    "# 繪圖\n",
    "fig = go.Figure(data=[go.Pie(labels=category, values=value, hole=.4)])\n",
    "fig.update_traces(textposition='inside', textinfo='percent+label')\n",
    "fig.show()"
   ]
  },
  {
   "cell_type": "markdown",
   "metadata": {},
   "source": [
    "### Time Series distribution of type and label"
   ]
  },
  {
   "cell_type": "code",
   "execution_count": null,
   "metadata": {},
   "outputs": [
    {
     "data": {
      "application/vnd.plotly.v1+json": {
       "config": {
        "plotlyServerURL": "https://plot.ly"
       },
       "data": [
        {
         "hovertemplate": "datetime=%{x}<br>Type=%{y}<br>Label=%{marker.color}<extra></extra>",
         "legendgroup": "",
         "marker": {
          "color": {
           "bdata": "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",
           "dtype": "f8"
          },
          "coloraxis": "coloraxis",
          "symbol": "circle"
         },
         "mode": "markers",
         "name": "",
         "orientation": "v",
         "showlegend": false,
         "type": "scatter",
         "x": [
          "2025-04-12 3:23:21",
          "2025-04-12 3:19:53",
          "2025-04-12 3:19:30",
          "2025-04-12 3:15:02",
          "2025-04-12 3:15:01",
          "2025-04-12 3:11:08",
          "2025-04-12 3:10:54",
          "2025-04-12 3:09:38",
          "2025-04-12 3:09:06",
          "2025-04-12 3:07:26",
          "2025-04-12 3:06:45",
          "2025-04-12 3:06:15",
          "2025-04-12 3:04:05",
          "2025-04-12 3:02:40",
          "2025-04-12 2:57:47",
          "2025-04-12 2:57:47",
          "2025-04-12 2:51:20",
          "2025-04-12 2:48:30",
          "2025-04-12 2:47:37",
          "2025-04-12 2:47:23",
          "2025-04-12 2:46:28",
          "2025-04-12 2:43:41",
          "2025-04-12 2:43:37",
          "2025-04-12 2:39:41",
          "2025-04-12 2:38:39",
          "2025-04-12 2:35:12",
          "2025-04-12 2:34:20",
          "2025-04-12 2:32:18",
          "2025-04-12 2:32:17",
          "2025-04-12 2:28:15",
          "2025-04-12 2:27:29",
          "2025-04-12 2:23:45",
          "2025-04-12 2:19:11",
          "2025-04-12 2:19:03",
          "2025-04-12 2:17:31",
          "2025-04-12 2:14:30",
          "2025-04-12 2:09:13",
          "2025-04-12 2:07:37",
          "2025-04-12 2:05:07",
          "2025-04-12 2:04:05",
          "2025-04-12 2:03:43",
          "2025-04-12 2:03:20",
          "2025-04-12 2:02:10",
          "2025-04-12 2:00:14",
          "2025-04-12 1:58:52",
          "2025-04-12 1:56:29",
          "2025-04-12 1:51:01",
          "2025-04-12 1:50:55",
          "2025-04-12 1:49:44",
          "2025-04-12 1:47:43",
          "2025-04-12 1:45:08",
          "2025-04-12 1:43:51",
          "2025-04-12 1:32:26",
          "2025-04-12 1:31:08",
          "2025-04-12 1:28:53",
          "2025-04-12 1:26:19",
          "2025-04-12 1:21:43",
          "2025-04-12 1:12:19",
          "2025-04-12 1:11:02",
          "2025-04-12 1:09:59",
          "2025-04-12 1:00:05",
          "2025-04-12 0:59:44",
          "2025-04-12 0:41:48",
          "2025-04-12 0:34:24",
          "2025-04-12 0:18:06",
          "2025-04-11 9:52:45",
          "2025-04-11 9:51:25",
          "2025-04-11 9:49:25",
          "2025-04-11 9:47:20",
          "2025-04-11 9:43:22",
          "2025-04-11 9:41:44",
          "2025-04-11 9:38:57",
          "2025-04-11 9:38:38",
          "2025-04-11 9:36:35",
          "2025-04-11 9:34:09",
          "2025-04-11 9:32:41",
          "2025-04-11 9:32:08",
          "2025-04-11 9:31:35",
          "2025-04-11 9:28:03",
          "2025-04-11 9:23:32",
          "2025-04-11 9:15:52",
          "2025-04-11 9:13:17",
          "2025-04-11 9:11:13",
          "2025-04-11 9:10:44",
          "2025-04-11 9:08:14",
          "2025-04-11 9:02:58",
          "2025-04-11 9:02:45",
          "2025-04-11 8:58:42",
          "2025-04-11 8:56:36",
          "2025-04-11 8:53:20",
          "2025-04-11 8:44:31",
          "2025-04-11 8:40:57",
          "2025-04-11 8:39:06",
          "2025-04-11 8:36:53",
          "2025-04-11 8:36:34",
          "2025-04-11 8:34:32",
          "2025-04-11 8:32:21",
          "2025-04-11 8:28:42",
          "2025-04-11 8:27:20",
          "2025-04-11 8:24:52",
          "2025-04-11 8:22:32",
          "2025-04-11 8:04:22",
          "2025-04-11 7:58:56",
          "2025-04-11 7:46:04",
          "2025-04-11 7:42:44",
          "2025-04-11 7:35:29",
          "2025-04-11 7:35:26",
          "2025-04-11 7:23:42",
          "2025-04-11 7:17:58",
          "2025-04-11 7:07:23",
          "2025-04-11 7:03:05",
          "2025-04-11 6:45:14",
          "2025-04-11 6:38:09",
          "2025-04-11 6:28:59",
          "2025-04-11 6:28:38",
          "2025-04-11 6:25:42",
          "2025-04-11 6:11:06",
          "2025-04-11 6:07:47",
          "2025-04-11 5:56:06",
          "2025-04-11 5:55:28",
          "2025-04-11 5:38:37",
          "2025-04-11 5:33:24",
          "2025-04-11 5:30:49",
          "2025-04-11 5:27:39",
          "2025-04-11 5:24:07",
          "2025-04-11 5:18:00",
          "2025-04-11 5:16:10",
          "2025-04-11 5:14:30",
          "2025-04-11 5:13:17",
          "2025-04-11 5:08:53",
          "2025-04-11 5:05:52",
          "2025-04-11 5:04:12",
          "2025-04-11 5:04:01",
          "2025-04-11 5:01:24",
          "2025-04-11 4:58:51",
          "2025-04-11 4:56:30",
          "2025-04-11 4:54:56",
          "2025-04-11 4:52:10",
          "2025-04-11 4:48:44",
          "2025-04-11 4:43:05",
          "2025-04-11 4:38:07",
          "2025-04-11 4:35:38",
          "2025-04-11 4:34:22",
          "2025-04-11 4:32:16",
          "2025-04-11 4:28:30",
          "2025-04-11 4:25:29",
          "2025-04-11 4:19:41",
          "2025-04-11 4:19:32",
          "2025-04-11 4:15:48",
          "2025-04-11 4:09:06",
          "2025-04-11 4:07:10",
          "2025-04-11 4:06:40",
          "2025-04-11 4:05:38",
          "2025-04-11 4:01:37",
          "2025-04-11 3:59:30",
          "2025-04-11 3:56:42",
          "2025-04-11 3:52:52",
          "2025-04-11 3:48:46",
          "2025-04-11 3:45:08",
          "2025-04-11 3:44:29",
          "2025-04-11 3:38:20",
          "2025-04-11 3:37:46",
          "2025-04-11 3:33:11",
          "2025-04-11 3:31:37",
          "2025-04-11 3:28:04",
          "2025-04-11 3:27:23",
          "2025-04-11 3:08:29",
          "2025-04-11 3:04:56",
          "2025-04-11 2:58:02",
          "2025-04-11 23:49:50",
          "2025-04-11 23:44:30",
          "2025-04-11 23:43:33",
          "2025-04-11 23:40:31",
          "2025-04-11 23:37:22",
          "2025-04-11 23:35:16",
          "2025-04-11 23:03:17",
          "2025-04-11 23:03:14",
          "2025-04-11 22:45:45",
          "2025-04-11 22:42:04",
          "2025-04-11 22:30:40",
          "2025-04-11 22:04:52",
          "2025-04-11 22:01:39",
          "2025-04-11 22:00:36",
          "2025-04-11 21:41:29",
          "2025-04-11 21:31:39",
          "2025-04-11 21:22:20",
          "2025-04-11 21:21:59",
          "2025-04-11 21:21:42",
          "2025-04-11 21:20:06",
          "2025-04-11 21:19:58",
          "2025-04-11 21:18:20",
          "2025-04-11 21:10:43",
          "2025-04-11 21:09:55",
          "2025-04-11 21:04:22",
          "2025-04-11 21:02:42",
          "2025-04-11 21:01:42",
          "2025-04-11 21:00:46",
          "2025-04-11 20:55:19",
          "2025-04-11 20:50:55",
          "2025-04-11 20:50:53",
          "2025-04-11 20:50:48",
          "2025-04-11 20:50:05",
          "2025-04-11 20:45:34",
          "2025-04-11 20:40:00",
          "2025-04-11 20:35:34",
          "2025-04-11 20:25:56",
          "2025-04-11 20:25:13",
          "2025-04-11 20:23:23",
          "2025-04-11 20:17:15",
          "2025-04-11 20:15:44",
          "2025-04-11 20:13:26",
          "2025-04-11 20:12:08",
          "2025-04-11 20:00:44",
          "2025-04-11 18:25:25",
          "2025-04-11 17:40:09",
          "2025-04-11 17:39:56",
          "2025-04-11 17:38:05",
          "2025-04-11 17:35:58",
          "2025-04-11 17:35:54",
          "2025-04-11 17:35:08",
          "2025-04-11 17:34:34",
          "2025-04-11 17:34:30",
          "2025-04-11 17:34:29",
          "2025-04-11 17:32:15",
          "2025-04-11 17:31:06",
          "2025-04-11 17:30:23",
          "2025-04-11 17:29:57",
          "2025-04-11 17:29:56",
          "2025-04-11 17:28:51",
          "2025-04-11 17:28:50",
          "2025-04-11 17:26:07",
          "2025-04-11 17:25:29",
          "2025-04-11 17:24:46",
          "2025-04-11 17:23:40",
          "2025-04-11 17:22:08",
          "2025-04-11 17:21:44",
          "2025-04-11 17:19:41",
          "2025-04-11 17:19:32",
          "2025-04-11 17:17:49",
          "2025-04-11 17:14:51",
          "2025-04-11 17:11:07",
          "2025-04-11 16:46:54",
          "2025-04-11 16:39:30",
          "2025-04-11 16:34:48",
          "2025-04-11 16:25:47",
          "2025-04-11 16:23:36",
          "2025-04-11 16:23:03",
          "2025-04-11 16:18:30",
          "2025-04-11 16:12:51",
          "2025-04-11 16:12:44",
          "2025-04-11 16:11:48",
          "2025-04-11 16:10:40",
          "2025-04-11 16:09:15",
          "2025-04-11 16:08:53",
          "2025-04-11 16:08:51",
          "2025-04-11 16:07:43",
          "2025-04-11 16:06:47",
          "2025-04-11 16:06:45",
          "2025-04-11 16:06:26",
          "2025-04-11 16:04:59",
          "2025-04-11 16:04:48",
          "2025-04-11 16:03:24",
          "2025-04-11 16:03:15",
          "2025-04-11 16:03:04",
          "2025-04-11 16:03:04",
          "2025-04-11 16:02:56",
          "2025-04-11 16:02:45",
          "2025-04-11 16:02:44",
          "2025-04-11 16:01:45",
          "2025-04-11 16:01:29",
          "2025-04-11 16:01:14",
          "2025-04-11 16:00:46",
          "2025-04-11 15:59:43",
          "2025-04-11 15:59:04",
          "2025-04-11 15:56:34",
          "2025-04-11 15:56:12",
          "2025-04-11 15:55:01",
          "2025-04-11 15:54:56",
          "2025-04-11 15:54:47",
          "2025-04-11 15:54:40",
          "2025-04-11 15:54:40",
          "2025-04-11 15:54:36",
          "2025-04-11 15:54:11",
          "2025-04-11 15:53:13",
          "2025-04-11 15:52:45",
          "2025-04-11 15:52:44",
          "2025-04-11 15:52:27",
          "2025-04-11 15:52:25",
          "2025-04-11 15:50:54",
          "2025-04-11 15:50:52",
          "2025-04-11 15:48:41",
          "2025-04-11 15:47:01",
          "2025-04-11 15:46:15",
          "2025-04-11 15:45:34",
          "2025-04-11 15:45:09",
          "2025-04-11 15:44:11",
          "2025-04-11 15:43:14",
          "2025-04-11 15:42:58",
          "2025-04-11 15:42:27",
          "2025-04-11 15:42:00",
          "2025-04-11 15:41:05",
          "2025-04-11 15:40:27",
          "2025-04-11 15:38:10",
          "2025-04-11 15:37:29",
          "2025-04-11 15:36:18",
          "2025-04-11 15:35:19",
          "2025-04-11 15:35:08",
          "2025-04-11 15:34:37",
          "2025-04-11 15:34:25",
          "2025-04-11 15:33:55",
          "2025-04-11 15:33:32",
          "2025-04-11 15:33:07",
          "2025-04-11 15:32:47",
          "2025-04-11 15:32:26",
          "2025-04-11 15:32:22",
          "2025-04-11 15:32:07",
          "2025-04-11 15:31:51",
          "2025-04-11 15:31:50",
          "2025-04-11 15:31:37",
          "2025-04-11 15:31:28",
          "2025-04-11 15:28:03",
          "2025-04-11 15:27:48",
          "2025-04-11 15:27:34",
          "2025-04-11 15:27:31",
          "2025-04-11 15:25:58",
          "2025-04-11 15:25:08",
          "2025-04-11 15:23:21",
          "2025-04-11 15:21:48",
          "2025-04-11 15:21:44",
          "2025-04-11 15:21:35",
          "2025-04-11 15:21:22",
          "2025-04-11 15:21:21",
          "2025-04-11 15:20:47",
          "2025-04-11 15:20:15",
          "2025-04-11 15:19:55",
          "2025-04-11 15:19:20",
          "2025-04-11 15:19:19",
          "2025-04-11 15:19:11",
          "2025-04-11 15:18:03",
          "2025-04-11 15:16:54",
          "2025-04-11 15:15:48",
          "2025-04-11 15:15:20",
          "2025-04-11 15:14:13",
          "2025-04-11 15:13:49",
          "2025-04-11 15:13:07",
          "2025-04-11 15:12:13",
          "2025-04-11 15:11:59",
          "2025-04-11 15:09:37",
          "2025-04-11 15:09:11",
          "2025-04-11 15:08:52",
          "2025-04-11 15:08:32",
          "2025-04-11 15:08:30",
          "2025-04-11 15:07:23",
          "2025-04-11 15:06:43",
          "2025-04-11 15:06:16",
          "2025-04-11 15:06:06",
          "2025-04-11 15:05:09",
          "2025-04-11 15:04:54",
          "2025-04-11 15:03:16",
          "2025-04-11 15:01:49",
          "2025-04-11 15:01:48",
          "2025-04-11 15:00:14",
          "2025-04-11 14:59:18",
          "2025-04-11 14:58:21",
          "2025-04-11 14:55:24",
          "2025-04-11 14:53:06",
          "2025-04-11 14:52:24",
          "2025-04-11 14:50:40",
          "2025-04-11 14:50:33",
          "2025-04-11 14:48:05",
          "2025-04-11 14:46:38",
          "2025-04-11 14:46:27",
          "2025-04-11 14:46:24",
          "2025-04-11 14:45:30",
          "2025-04-11 14:44:24",
          "2025-04-11 14:42:51",
          "2025-04-11 14:42:46",
          "2025-04-11 14:42:17",
          "2025-04-11 14:41:26",
          "2025-04-11 14:41:14",
          "2025-04-11 14:40:13",
          "2025-04-11 14:40:11",
          "2025-04-11 14:39:30",
          "2025-04-11 14:37:35",
          "2025-04-11 14:37:18",
          "2025-04-11 14:37:09",
          "2025-04-11 14:37:00",
          "2025-04-11 14:35:38",
          "2025-04-11 14:33:55",
          "2025-04-11 14:32:56",
          "2025-04-11 14:31:30",
          "2025-04-11 14:30:53",
          "2025-04-11 14:30:53",
          "2025-04-11 14:30:36",
          "2025-04-11 14:30:22",
          "2025-04-11 14:29:37",
          "2025-04-11 14:28:37",
          "2025-04-11 14:27:20",
          "2025-04-11 14:27:01",
          "2025-04-11 14:24:32",
          "2025-04-11 14:23:04",
          "2025-04-11 14:22:30",
          "2025-04-11 14:22:07",
          "2025-04-11 14:21:48",
          "2025-04-11 14:21:47",
          "2025-04-11 14:18:38",
          "2025-04-11 14:16:14",
          "2025-04-11 14:15:01",
          "2025-04-11 14:13:24",
          "2025-04-11 14:12:31",
          "2025-04-11 14:11:31",
          "2025-04-11 14:10:46",
          "2025-04-11 14:10:21",
          "2025-04-11 14:10:14",
          "2025-04-11 14:09:53",
          "2025-04-11 14:06:57",
          "2025-04-11 14:06:09",
          "2025-04-11 14:03:38",
          "2025-04-11 14:03:34",
          "2025-04-11 14:02:15",
          "2025-04-11 14:01:58",
          "2025-04-11 14:01:02",
          "2025-04-11 13:59:00",
          "2025-04-11 13:58:46",
          "2025-04-11 13:58:19",
          "2025-04-11 13:57:46",
          "2025-04-11 13:56:30",
          "2025-04-11 13:55:56",
          "2025-04-11 13:55:11",
          "2025-04-11 13:54:31",
          "2025-04-11 13:51:11",
          "2025-04-11 13:46:40",
          "2025-04-11 13:46:32",
          "2025-04-11 13:46:31",
          "2025-04-11 13:45:40",
          "2025-04-11 13:44:48",
          "2025-04-11 13:43:36",
          "2025-04-11 13:42:41",
          "2025-04-11 13:41:04",
          "2025-04-11 13:39:01",
          "2025-04-11 13:38:58",
          "2025-04-11 13:38:57",
          "2025-04-11 13:38:06",
          "2025-04-11 13:35:50",
          "2025-04-11 13:35:04",
          "2025-04-11 13:34:23",
          "2025-04-11 13:33:07",
          "2025-04-11 13:30:21",
          "2025-04-11 13:28:57",
          "2025-04-11 13:24:23",
          "2025-04-11 13:22:49",
          "2025-04-11 13:20:06",
          "2025-04-11 13:19:35",
          "2025-04-11 13:18:48",
          "2025-04-11 13:18:23",
          "2025-04-11 13:17:45",
          "2025-04-11 13:17:19",
          "2025-04-11 13:16:02",
          "2025-04-11 13:15:26",
          "2025-04-11 13:15:15",
          "2025-04-11 13:14:07",
          "2025-04-11 13:12:51",
          "2025-04-11 13:12:18",
          "2025-04-11 13:11:35",
          "2025-04-11 13:11:25",
          "2025-04-11 13:11:13",
          "2025-04-11 13:09:55",
          "2025-04-11 13:09:51",
          "2025-04-11 13:08:42",
          "2025-04-11 13:08:09",
          "2025-04-11 13:05:13",
          "2025-04-11 13:04:21",
          "2025-04-11 13:01:05",
          "2025-04-11 12:59:43",
          "2025-04-11 12:58:20",
          "2025-04-11 12:57:48",
          "2025-04-11 12:53:55",
          "2025-04-11 12:49:48",
          "2025-04-11 12:48:40",
          "2025-04-11 12:42:52",
          "2025-04-11 12:40:14",
          "2025-04-11 12:39:55",
          "2025-04-11 12:38:55",
          "2025-04-11 12:38:14",
          "2025-04-11 12:37:23",
          "2025-04-11 12:37:01",
          "2025-04-11 12:36:26",
          "2025-04-11 12:33:47",
          "2025-04-11 12:30:16",
          "2025-04-11 12:28:42",
          "2025-04-11 12:28:05",
          "2025-04-11 12:27:44",
          "2025-04-11 12:26:43",
          "2025-04-11 12:26:30",
          "2025-04-11 12:26:17",
          "2025-04-11 12:25:24",
          "2025-04-11 12:24:41",
          "2025-04-11 12:23:16",
          "2025-04-11 12:22:58",
          "2025-04-11 12:13:42",
          "2025-04-11 12:04:13",
          "2025-04-11 12:00:47",
          "2025-04-11 12:00:24",
          "2025-04-11 11:58:12",
          "2025-04-11 11:55:28",
          "2025-04-11 11:48:00",
          "2025-04-11 11:44:29",
          "2025-04-11 11:37:41",
          "2025-04-11 11:37:29",
          "2025-04-11 11:28:38",
          "2025-04-11 11:20:38",
          "2025-04-11 11:10:26",
          "2025-04-11 11:08:07",
          "2025-04-11 11:05:48",
          "2025-04-11 11:04:16",
          "2025-04-11 11:02:41",
          "2025-04-11 10:59:08",
          "2025-04-11 10:56:07",
          "2025-04-11 10:55:14",
          "2025-04-11 10:47:32",
          "2025-04-11 10:41:45",
          "2025-04-11 10:36:23",
          "2025-04-11 10:22:46",
          "2025-04-11 10:21:15",
          "2025-04-11 10:18:25",
          "2025-04-11 10:11:21",
          "2025-04-11 10:07:34",
          "2025-04-11 10:04:54",
          "2025-04-11 10:02:32",
          "2025-04-11 0:17:42",
          "2025-04-10 6:19:36",
          "2025-04-10 23:49:46",
          "2025-04-10 23:46:25",
          "2025-04-10 19:53:17",
          "2025-04-10 19:21:59",
          "2025-04-10 19:19:28",
          "2025-04-10 19:14:50",
          "2025-04-10 19:13:51",
          "2025-04-10 18:24:33",
          "2025-04-10 17:09:43",
          "2025-04-10 17:07:53",
          "2025-04-10 17:00:39",
          "2025-04-10 16:57:18",
          "2025-04-10 16:55:58",
          "2025-04-10 16:55:40",
          "2025-04-10 16:52:24",
          "2025-04-10 16:52:19",
          "2025-04-10 16:52:08",
          "2025-04-10 16:50:43",
          "2025-04-10 16:49:08",
          "2025-04-10 16:47:22",
          "2025-04-10 16:44:46",
          "2025-04-10 16:44:14",
          "2025-04-10 16:42:50",
          "2025-04-10 16:38:24",
          "2025-04-10 16:37:51",
          "2025-04-10 16:34:19",
          "2025-04-10 16:33:42",
          "2025-04-10 16:33:09",
          "2025-04-10 16:31:40",
          "2025-04-10 16:30:12",
          "2025-04-10 16:16:37",
          "2025-04-10 16:16:22",
          "2025-04-10 16:07:55",
          "2025-04-10 16:06:40",
          "2025-04-10 15:58:59",
          "2025-04-10 15:57:03",
          "2025-04-10 15:46:46",
          "2025-04-10 15:43:15",
          "2025-04-10 15:41:13",
          "2025-04-10 15:35:38",
          "2025-04-10 15:33:27",
          "2025-04-10 15:32:02",
          "2025-04-10 15:31:57",
          "2025-04-10 15:31:08",
          "2025-04-10 15:29:41",
          "2025-04-10 15:29:29",
          "2025-04-10 15:29:07",
          "2025-04-10 15:26:29",
          "2025-04-10 15:24:48",
          "2025-04-10 15:23:56",
          "2025-04-10 15:21:11",
          "2025-04-10 15:20:34",
          "2025-04-10 15:15:18",
          "2025-04-10 15:14:45",
          "2025-04-10 15:14:14",
          "2025-04-10 15:13:44",
          "2025-04-10 15:12:16",
          "2025-04-10 15:10:47",
          "2025-04-10 15:09:41",
          "2025-04-10 15:08:11",
          "2025-04-10 15:07:16",
          "2025-04-10 15:05:49",
          "2025-04-10 15:04:58",
          "2025-04-10 15:02:58",
          "2025-04-10 15:00:03",
          "2025-04-10 14:58:26",
          "2025-04-10 14:58:22",
          "2025-04-10 14:54:59",
          "2025-04-10 14:54:42",
          "2025-04-10 14:50:17",
          "2025-04-10 14:49:37",
          "2025-04-10 14:46:28",
          "2025-04-10 14:42:39",
          "2025-04-10 14:42:03",
          "2025-04-10 14:40:26",
          "2025-04-10 14:39:25",
          "2025-04-10 14:35:44",
          "2025-04-10 14:34:49",
          "2025-04-10 14:34:18",
          "2025-04-10 14:32:32",
          "2025-04-10 14:31:58",
          "2025-04-10 14:25:35",
          "2025-04-10 14:25:25",
          "2025-04-09 22:21:10",
          "2025-04-09 14:01:01",
          "2025-04-09 13:41:17",
          "2025-04-08 6:25:20",
          "2025-04-08 23:30:50",
          "2025-04-08 12:18:30",
          "2025-04-08 10:15:13",
          "2025-04-07 9:01:48",
          "2025-04-07 6:36:39",
          "2025-04-07 13:05:25",
          "2025-04-06 5:47:35",
          "2025-04-06 3:38:11",
          "2025-04-06 2:00:53",
          "2025-04-06 23:31:33",
          "2025-04-06 16:00:59",
          "2025-04-05 22:00:58",
          "2025-04-05 13:27:46",
          "2025-04-04 9:01:07",
          "2025-04-04 6:25:04",
          "2025-04-04 13:49:13",
          "2025-04-04 12:18:48",
          "2025-04-03 15:20:31",
          "2025-04-03 12:30:39",
          "2025-04-03 12:18:32",
          "2025-04-02 3:33:00",
          "2025-04-02 13:54:36",
          "2025-04-02 13:00:42",
          "2025-04-01 9:01:38",
          "2025-03-31 16:00:55",
          "2025-03-31 15:47:40",
          "2025-03-31 15:20:30",
          "2025-03-31 14:05:30",
          "2025-03-31 13:54:38",
          "2025-03-31 11:36:31",
          "2025-03-29 18:14:28",
          "2025-03-29 16:00:54",
          "2025-03-28 8:36:38",
          "2025-03-28 14:01:16",
          "2025-03-28 12:18:29",
          "2025-03-27 21:15:26",
          "2025-03-27 18:14:09",
          "2025-03-26 20:36:21",
          "2025-03-26 16:01:01",
          "2025-03-26 12:59:31",
          "2025-03-26 12:18:30",
          "2025-03-25 21:15:31",
          "2025-03-25 18:14:13",
          "2025-03-25 15:47:42",
          "2025-03-25 12:30:39",
          "2025-03-24 15:47:30",
          "2025-03-24 12:30:39",
          "2025-03-24 11:28:08",
          "2025-03-22 18:14:30",
          "2025-03-21 21:15:20",
          "2025-03-21 19:35:33",
          "2025-03-21 14:05:32",
          "2025-03-21 14:01:37",
          "2025-03-21 13:01:24",
          "2025-03-19 14:12:11",
          "2025-03-15 14:22:22",
          "2025-03-11 21:38:43",
          "2025-03-11 16:35:20",
          "2025-03-05 22:45:56",
          "2025-03-05 1:30:36",
          "2025-03-05 15:14:16",
          "2025-03-04 8:30:00",
          "2025-03-04 5:11:57",
          "2025-03-04 23:49:37",
          "2025-03-04 23:42:54",
          "2025-03-04 0:43:03",
          "2025-03-02 1:47:17",
          "2025-03-02 13:48:10",
          "2025-03-01 17:05:46",
          "2025-03-01 10:00:42",
          "2025-01-13 21:52:54",
          "2025-01-11 16:15:29",
          "2024-12-28 13:24:27",
          "2024-12-04 20:46:23",
          "2024-10-21 14:31:33",
          "2024-09-12 15:38:39",
          "2024-09-12 13:52:50",
          "2024-08-25 3:12:18",
          "2024-08-22 21:01:51",
          "2024-08-17 5:32:56",
          "2024-05-17 16:36:02",
          "2024-05-10 2:08:35",
          "2024-05-10 19:49:22",
          "2024-05-08 16:28:22",
          "2024-05-08 15:03:40",
          "2024-05-07 14:42:16",
          "2024-05-06 13:53:28",
          "2024-04-11 14:01:06",
          "2024-04-10 12:59:19",
          "2024-02-29 17:54:02",
          "2024-02-10 19:03:36",
          "2024-01-30 17:26:49",
          "2024-01-16 15:32:36",
          "2024-01-08 20:07:06",
          "2023-12-21 15:56:38",
          "2023-12-20 15:15:48",
          "2023-12-19 19:19:55",
          "2023-12-18 15:11:17",
          "2023-12-18 15:10:37",
          "2023-12-07 14:52:08",
          "2023-10-04 13:36:50",
          "2023-10-04 13:36:18",
          "2023-08-30 17:12:55",
          "2023-08-12 2:20:58",
          "2023-05-01 10:49:47",
          "2023-04-27 14:04:06",
          "2023-04-13 15:18:33",
          "2023-02-06 19:46:48",
          "2022-11-29 1:27:37",
          "2022-10-12 1:31:17",
          "2022-10-05 20:22:12",
          "2022-10-05 17:09:33",
          "2022-08-22 13:01:06",
          "2022-05-29 17:57:17",
          "2022-05-26 20:35:06",
          "2022-04-25 20:43:04",
          "2022-04-23 20:11:55",
          "2022-04-23 20:10:13",
          "2022-03-31 3:31:17",
          "2022-03-24 20:59:00",
          "2022-03-08 0:50:55",
          "2022-02-27 14:56:07",
          "2022-01-30 0:23:30",
          "2022-01-26 3:31:27",
          "2022-01-14 17:07:15",
          "2022-01-14 17:06:31",
          "2022-01-13 22:42:29",
          "2022-01-11 11:38:13",
          "2022-01-10 17:13:39",
          "2022-01-03 20:44:34",
          "2021-12-31 16:29:49",
          "2021-12-29 3:04:59",
          "2021-12-26 13:35:33",
          "2021-12-25 0:40:59",
          "2021-12-14 1:52:19",
          "2021-12-10 18:48:52",
          "2021-12-08 19:36:14",
          "2021-11-23 22:45:17",
          "2021-11-19 17:07:39",
          "2021-11-14 14:08:50",
          "2021-11-10 1:46:10",
          "2021-11-06 13:37:29",
          "2021-11-05 9:30:47",
          "2021-11-04 8:34:16",
          "2021-11-04 12:40:28",
          "2021-10-30 22:45:18",
          "2021-10-28 23:17:18",
          "2021-10-27 18:38:43",
          "2021-10-27 18:21:08",
          "2021-10-27 14:25:32",
          "2021-10-24 0:49:18",
          "2021-10-22 5:02:50",
          "2021-10-10 13:19:44",
          "2021-10-04 15:59:48",
          "2021-10-04 15:44:55",
          "2021-09-29 15:00:37",
          "2021-09-17 22:01:15",
          "2021-08-30 12:33:57",
          "2021-08-14 5:45:37",
          "2021-07-29 14:27:50",
          "2021-07-22 5:01:42",
          "2021-07-07 16:38:29",
          "2021-07-02 14:09:56",
          "2021-07-01 2:38:11",
          "2021-06-30 4:06:06",
          "2021-06-30 23:42:50",
          "2021-06-21 23:49:22",
          "2021-05-19 12:54:18",
          "2021-05-13 23:23:13",
          "2021-05-12 17:18:18",
          "2021-05-03 22:17:48",
          "2021-05-02 3:20:38",
          "2021-04-28 15:43:36",
          "2021-04-26 20:17:28",
          "2021-04-18 15:04:10",
          "2021-04-14 16:24:10",
          "2021-03-03 15:53:23",
          "2021-03-02 14:57:33",
          "2021-02-17 20:20:08",
          "2021-02-12 1:28:20",
          "2021-02-11 19:08:52",
          "2021-02-10 22:10:38",
          "2021-02-07 22:29:39",
          "2021-02-07 21:46:23",
          "2021-02-03 0:05:30",
          "2021-02-02 1:09:59",
          "2021-02-01 8:17:04",
          "2021-02-01 23:52:13",
          "2021-02-01 21:05:05",
          "2021-02-01 20:34:29",
          "2021-02-01 20:22:32",
          "2021-02-01 19:17:31",
          "2021-02-01 18:59:22",
          "2021-02-01 18:30:18",
          "2021-02-01 18:06:51",
          "2021-02-01 17:19:02",
          "2021-02-01 17:13:52",
          "2021-02-01 17:13:52",
          "2021-02-01 16:30:46",
          "2021-02-01 16:24:56",
          "2021-02-01 16:08:57",
          "2021-02-01 16:05:51",
          "2021-02-01 16:05:26",
          "2021-02-01 15:55:49",
          "2021-02-01 15:54:18",
          "2021-02-01 15:48:53",
          "2021-02-01 15:48:29",
          "2021-02-01 15:47:36",
          "2021-02-01 15:43:44",
          "2021-02-01 15:42:03",
          "2021-02-01 15:40:37",
          "2021-02-01 15:40:32",
          "2021-02-01 15:39:03",
          "2021-02-01 15:36:32",
          "2021-02-01 15:32:20",
          "2021-02-01 15:26:16",
          "2021-02-01 15:15:17",
          "2021-02-01 14:44:17",
          "2021-02-01 14:32:09",
          "2021-02-01 14:26:09",
          "2021-02-01 14:19:34",
          "2021-02-01 14:11:17",
          "2021-02-01 13:59:43",
          "2021-02-01 13:56:01",
          "2021-02-01 13:45:52",
          "2021-02-01 13:45:17",
          "2021-01-31 2:02:38",
          "2021-01-28 17:59:46",
          "2021-01-28 17:58:52"
         ],
         "xaxis": "x",
         "y": [
          "comment",
          "comment",
          "comment",
          "comment",
          "comment",
          "comment",
          "comment",
          "comment",
          "comment",
          "comment",
          "comment",
          "comment",
          "comment",
          "comment",
          "comment",
          "comment",
          "comment",
          "comment",
          "comment",
          "comment",
          "comment",
          "comment",
          "comment",
          "comment",
          "comment",
          "comment",
          "comment",
          "comment",
          "comment",
          "comment",
          "comment",
          "comment",
          "comment",
          "comment",
          "comment",
          "comment",
          "comment",
          "comment",
          "comment",
          "comment",
          "comment",
          "comment",
          "comment",
          "comment",
          "comment",
          "comment",
          "comment",
          "comment",
          "comment",
          "comment",
          "comment",
          "comment",
          "comment",
          "comment",
          "comment",
          "comment",
          "comment",
          "comment",
          "comment",
          "comment",
          "comment",
          "comment",
          "comment",
          "comment",
          "comment",
          "comment",
          "comment",
          "comment",
          "comment",
          "comment",
          "comment",
          "comment",
          "comment",
          "comment",
          "comment",
          "comment",
          "comment",
          "comment",
          "comment",
          "comment",
          "comment",
          "comment",
          "comment",
          "comment",
          "comment",
          "comment",
          "comment",
          "comment",
          "comment",
          "comment",
          "comment",
          "comment",
          "comment",
          "comment",
          "comment",
          "comment",
          "comment",
          "comment",
          "comment",
          "comment",
          "comment",
          "comment",
          "comment",
          "comment",
          "comment",
          "comment",
          "comment",
          "comment",
          "comment",
          "comment",
          "comment",
          "comment",
          "comment",
          "comment",
          "comment",
          "comment",
          "comment",
          "comment",
          "comment",
          "comment",
          "comment",
          "comment",
          "comment",
          "comment",
          "comment",
          "comment",
          "comment",
          "comment",
          "comment",
          "comment",
          "comment",
          "comment",
          "comment",
          "comment",
          "comment",
          "comment",
          "comment",
          "comment",
          "comment",
          "comment",
          "comment",
          "comment",
          "comment",
          "comment",
          "comment",
          "comment",
          "comment",
          "comment",
          "comment",
          "comment",
          "comment",
          "comment",
          "comment",
          "comment",
          "comment",
          "comment",
          "comment",
          "comment",
          "comment",
          "comment",
          "comment",
          "comment",
          "comment",
          "comment",
          "comment",
          "comment",
          "comment",
          "comment",
          "post",
          "comment",
          "comment",
          "comment",
          "comment",
          "comment",
          "comment",
          "comment",
          "comment",
          "comment",
          "comment",
          "comment",
          "comment",
          "comment",
          "comment",
          "comment",
          "comment",
          "comment",
          "comment",
          "comment",
          "comment",
          "comment",
          "comment",
          "comment",
          "comment",
          "comment",
          "comment",
          "comment",
          "comment",
          "comment",
          "comment",
          "comment",
          "comment",
          "comment",
          "comment",
          "comment",
          "comment",
          "comment",
          "comment",
          "comment",
          "comment",
          "comment",
          "comment",
          "comment",
          "comment",
          "post",
          "comment",
          "comment",
          "comment",
          "comment",
          "comment",
          "comment",
          "comment",
          "comment",
          "comment",
          "comment",
          "comment",
          "comment",
          "comment",
          "comment",
          "comment",
          "comment",
          "comment",
          "comment",
          "comment",
          "comment",
          "comment",
          "comment",
          "comment",
          "comment",
          "comment",
          "comment",
          "comment",
          "comment",
          "comment",
          "comment",
          "comment",
          "comment",
          "comment",
          "comment",
          "comment",
          "comment",
          "comment",
          "comment",
          "comment",
          "comment",
          "comment",
          "comment",
          "comment",
          "comment",
          "comment",
          "comment",
          "comment",
          "comment",
          "comment",
          "comment",
          "comment",
          "comment",
          "comment",
          "comment",
          "comment",
          "comment",
          "post",
          "comment",
          "comment",
          "comment",
          "comment",
          "comment",
          "comment",
          "comment",
          "comment",
          "comment",
          "comment",
          "comment",
          "comment",
          "comment",
          "comment",
          "comment",
          "comment",
          "comment",
          "comment",
          "comment",
          "comment",
          "post",
          "comment",
          "comment",
          "comment",
          "comment",
          "comment",
          "comment",
          "comment",
          "comment",
          "comment",
          "comment",
          "comment",
          "comment",
          "comment",
          "comment",
          "comment",
          "comment",
          "comment",
          "comment",
          "comment",
          "comment",
          "comment",
          "comment",
          "comment",
          "comment",
          "comment",
          "comment",
          "comment",
          "comment",
          "comment",
          "comment",
          "comment",
          "comment",
          "comment",
          "comment",
          "comment",
          "comment",
          "comment",
          "comment",
          "comment",
          "comment",
          "comment",
          "comment",
          "comment",
          "comment",
          "comment",
          "comment",
          "comment",
          "comment",
          "comment",
          "comment",
          "comment",
          "comment",
          "comment",
          "comment",
          "comment",
          "comment",
          "comment",
          "comment",
          "comment",
          "comment",
          "comment",
          "comment",
          "comment",
          "comment",
          "comment",
          "comment",
          "comment",
          "comment",
          "comment",
          "comment",
          "comment",
          "comment",
          "comment",
          "comment",
          "comment",
          "comment",
          "comment",
          "comment",
          "comment",
          "comment",
          "comment",
          "comment",
          "comment",
          "comment",
          "comment",
          "comment",
          "comment",
          "comment",
          "comment",
          "comment",
          "comment",
          "comment",
          "comment",
          "comment",
          "comment",
          "comment",
          "comment",
          "comment",
          "comment",
          "comment",
          "comment",
          "comment",
          "comment",
          "comment",
          "comment",
          "comment",
          "comment",
          "comment",
          "comment",
          "comment",
          "comment",
          "comment",
          "comment",
          "comment",
          "comment",
          "comment",
          "comment",
          "comment",
          "comment",
          "comment",
          "comment",
          "comment",
          "comment",
          "comment",
          "comment",
          "comment",
          "comment",
          "comment",
          "comment",
          "comment",
          "comment",
          "comment",
          "comment",
          "comment",
          "comment",
          "comment",
          "comment",
          "post",
          "comment",
          "comment",
          "comment",
          "comment",
          "comment",
          "comment",
          "comment",
          "comment",
          "comment",
          "comment",
          "comment",
          "comment",
          "comment",
          "comment",
          "comment",
          "comment",
          "comment",
          "comment",
          "comment",
          "comment",
          "comment",
          "comment",
          "comment",
          "comment",
          "comment",
          "comment",
          "comment",
          "comment",
          "comment",
          "comment",
          "comment",
          "comment",
          "comment",
          "comment",
          "comment",
          "comment",
          "comment",
          "comment",
          "comment",
          "comment",
          "comment",
          "comment",
          "comment",
          "comment",
          "comment",
          "comment",
          "comment",
          "comment",
          "comment",
          "comment",
          "comment",
          "comment",
          "comment",
          "comment",
          "comment",
          "comment",
          "comment",
          "comment",
          "comment",
          "comment",
          "comment",
          "comment",
          "comment",
          "comment",
          "comment",
          "comment",
          "comment",
          "comment",
          "comment",
          "comment",
          "comment",
          "comment",
          "comment",
          "comment",
          "comment",
          "comment",
          "comment",
          "comment",
          "comment",
          "comment",
          "comment",
          "comment",
          "comment",
          "comment",
          "comment",
          "comment",
          "comment",
          "comment",
          "comment",
          "comment",
          "comment",
          "comment",
          "comment",
          "comment",
          "comment",
          "comment",
          "comment",
          "comment",
          "comment",
          "comment",
          "post",
          "comment",
          "comment",
          "comment",
          "comment",
          "comment",
          "comment",
          "comment",
          "comment",
          "comment",
          "comment",
          "comment",
          "comment",
          "comment",
          "comment",
          "comment",
          "comment",
          "comment",
          "comment",
          "comment",
          "comment",
          "comment",
          "comment",
          "comment",
          "comment",
          "comment",
          "comment",
          "comment",
          "comment",
          "comment",
          "comment",
          "comment",
          "comment",
          "comment",
          "comment",
          "comment",
          "comment",
          "comment",
          "comment",
          "comment",
          "comment",
          "comment",
          "comment",
          "comment",
          "comment",
          "comment",
          "comment",
          "comment",
          "comment",
          "comment",
          "comment",
          "comment",
          "comment",
          "comment",
          "comment",
          "comment",
          "comment",
          "comment",
          "comment",
          "comment",
          "comment",
          "comment",
          "comment",
          "comment",
          "comment",
          "comment",
          "comment",
          "comment",
          "comment",
          "comment",
          "comment",
          "comment",
          "comment",
          "comment",
          "comment",
          "comment",
          "comment",
          "comment",
          "comment",
          "comment",
          "comment",
          "comment",
          "comment",
          "comment",
          "comment",
          "post",
          "comment",
          "comment",
          "comment",
          "post",
          "comment",
          "post",
          "comment",
          "comment",
          "comment",
          "comment",
          "post",
          "comment",
          "post",
          "post",
          "comment",
          "post",
          "post",
          "comment",
          "comment",
          "post",
          "post",
          "post",
          "comment",
          "post",
          "post",
          "post",
          "post",
          "post",
          "post",
          "post",
          "post",
          "post",
          "post",
          "post",
          "comment",
          "post",
          "post",
          "comment",
          "post",
          "post",
          "post",
          "comment",
          "post",
          "post",
          "post",
          "post",
          "post",
          "post",
          "post",
          "post",
          "post",
          "post",
          "post",
          "post",
          "post",
          "post",
          "comment",
          "comment",
          "comment",
          "comment",
          "comment",
          "comment",
          "comment",
          "comment",
          "comment",
          "comment",
          "comment",
          "comment",
          "comment",
          "comment",
          "comment",
          "post",
          "comment",
          "comment",
          "comment",
          "comment",
          "post",
          "comment",
          "post",
          "comment",
          "comment",
          "comment",
          "comment",
          "comment",
          "comment",
          "comment",
          "comment",
          "post",
          "comment",
          "comment",
          "comment",
          "post",
          "comment",
          "comment",
          "post",
          "comment",
          "comment",
          "comment",
          "comment",
          "comment",
          "comment",
          "comment",
          "comment",
          "post",
          "post",
          "comment",
          "comment",
          "comment",
          "post",
          "comment",
          "comment",
          "comment",
          "comment",
          "comment",
          "comment",
          "post",
          "comment",
          "post",
          "comment",
          "comment",
          "comment",
          "comment",
          "comment",
          "post",
          "comment",
          "comment",
          "comment",
          "comment",
          "comment",
          "comment",
          "comment",
          "comment",
          "comment",
          "comment",
          "comment",
          "post",
          "comment",
          "comment",
          "post",
          "comment",
          "comment",
          "comment",
          "comment",
          "comment",
          "comment",
          "comment",
          "post",
          "comment",
          "comment",
          "comment",
          "comment",
          "comment",
          "comment",
          "comment",
          "comment",
          "comment",
          "comment",
          "comment",
          "comment",
          "comment",
          "comment",
          "comment",
          "comment",
          "comment",
          "comment",
          "comment",
          "comment",
          "post",
          "post",
          "comment",
          "comment",
          "comment",
          "comment",
          "comment",
          "comment",
          "comment",
          "comment",
          "comment",
          "comment",
          "comment",
          "comment",
          "comment",
          "comment",
          "comment",
          "comment",
          "comment",
          "comment",
          "comment",
          "comment",
          "comment",
          "comment",
          "comment",
          "comment",
          "comment",
          "comment",
          "comment",
          "comment",
          "comment",
          "comment",
          "comment",
          "comment",
          "comment",
          "comment",
          "comment",
          "comment",
          "comment",
          "comment",
          "comment",
          "comment",
          "comment",
          "comment",
          "comment",
          "comment",
          "comment",
          "comment",
          "comment",
          "comment",
          "comment",
          "comment",
          "comment",
          "comment",
          "comment",
          "comment",
          "comment",
          "comment",
          "comment",
          "comment",
          "comment",
          "comment",
          "comment",
          "comment"
         ],
         "yaxis": "y"
        }
       ],
       "layout": {
        "coloraxis": {
         "colorbar": {
          "title": {
           "text": "Label"
          }
         },
         "colorscale": [
          [
           0,
           "#0d0887"
          ],
          [
           0.1111111111111111,
           "#46039f"
          ],
          [
           0.2222222222222222,
           "#7201a8"
          ],
          [
           0.3333333333333333,
           "#9c179e"
          ],
          [
           0.4444444444444444,
           "#bd3786"
          ],
          [
           0.5555555555555556,
           "#d8576b"
          ],
          [
           0.6666666666666666,
           "#ed7953"
          ],
          [
           0.7777777777777778,
           "#fb9f3a"
          ],
          [
           0.8888888888888888,
           "#fdca26"
          ],
          [
           1,
           "#f0f921"
          ]
         ]
        },
        "legend": {
         "tracegroupgap": 0
        },
        "template": {
         "data": {
          "bar": [
           {
            "error_x": {
             "color": "#2a3f5f"
            },
            "error_y": {
             "color": "#2a3f5f"
            },
            "marker": {
             "line": {
              "color": "#E5ECF6",
              "width": 0.5
             },
             "pattern": {
              "fillmode": "overlay",
              "size": 10,
              "solidity": 0.2
             }
            },
            "type": "bar"
           }
          ],
          "barpolar": [
           {
            "marker": {
             "line": {
              "color": "#E5ECF6",
              "width": 0.5
             },
             "pattern": {
              "fillmode": "overlay",
              "size": 10,
              "solidity": 0.2
             }
            },
            "type": "barpolar"
           }
          ],
          "carpet": [
           {
            "aaxis": {
             "endlinecolor": "#2a3f5f",
             "gridcolor": "white",
             "linecolor": "white",
             "minorgridcolor": "white",
             "startlinecolor": "#2a3f5f"
            },
            "baxis": {
             "endlinecolor": "#2a3f5f",
             "gridcolor": "white",
             "linecolor": "white",
             "minorgridcolor": "white",
             "startlinecolor": "#2a3f5f"
            },
            "type": "carpet"
           }
          ],
          "choropleth": [
           {
            "colorbar": {
             "outlinewidth": 0,
             "ticks": ""
            },
            "type": "choropleth"
           }
          ],
          "contour": [
           {
            "colorbar": {
             "outlinewidth": 0,
             "ticks": ""
            },
            "colorscale": [
             [
              0,
              "#0d0887"
             ],
             [
              0.1111111111111111,
              "#46039f"
             ],
             [
              0.2222222222222222,
              "#7201a8"
             ],
             [
              0.3333333333333333,
              "#9c179e"
             ],
             [
              0.4444444444444444,
              "#bd3786"
             ],
             [
              0.5555555555555556,
              "#d8576b"
             ],
             [
              0.6666666666666666,
              "#ed7953"
             ],
             [
              0.7777777777777778,
              "#fb9f3a"
             ],
             [
              0.8888888888888888,
              "#fdca26"
             ],
             [
              1,
              "#f0f921"
             ]
            ],
            "type": "contour"
           }
          ],
          "contourcarpet": [
           {
            "colorbar": {
             "outlinewidth": 0,
             "ticks": ""
            },
            "type": "contourcarpet"
           }
          ],
          "heatmap": [
           {
            "colorbar": {
             "outlinewidth": 0,
             "ticks": ""
            },
            "colorscale": [
             [
              0,
              "#0d0887"
             ],
             [
              0.1111111111111111,
              "#46039f"
             ],
             [
              0.2222222222222222,
              "#7201a8"
             ],
             [
              0.3333333333333333,
              "#9c179e"
             ],
             [
              0.4444444444444444,
              "#bd3786"
             ],
             [
              0.5555555555555556,
              "#d8576b"
             ],
             [
              0.6666666666666666,
              "#ed7953"
             ],
             [
              0.7777777777777778,
              "#fb9f3a"
             ],
             [
              0.8888888888888888,
              "#fdca26"
             ],
             [
              1,
              "#f0f921"
             ]
            ],
            "type": "heatmap"
           }
          ],
          "histogram": [
           {
            "marker": {
             "pattern": {
              "fillmode": "overlay",
              "size": 10,
              "solidity": 0.2
             }
            },
            "type": "histogram"
           }
          ],
          "histogram2d": [
           {
            "colorbar": {
             "outlinewidth": 0,
             "ticks": ""
            },
            "colorscale": [
             [
              0,
              "#0d0887"
             ],
             [
              0.1111111111111111,
              "#46039f"
             ],
             [
              0.2222222222222222,
              "#7201a8"
             ],
             [
              0.3333333333333333,
              "#9c179e"
             ],
             [
              0.4444444444444444,
              "#bd3786"
             ],
             [
              0.5555555555555556,
              "#d8576b"
             ],
             [
              0.6666666666666666,
              "#ed7953"
             ],
             [
              0.7777777777777778,
              "#fb9f3a"
             ],
             [
              0.8888888888888888,
              "#fdca26"
             ],
             [
              1,
              "#f0f921"
             ]
            ],
            "type": "histogram2d"
           }
          ],
          "histogram2dcontour": [
           {
            "colorbar": {
             "outlinewidth": 0,
             "ticks": ""
            },
            "colorscale": [
             [
              0,
              "#0d0887"
             ],
             [
              0.1111111111111111,
              "#46039f"
             ],
             [
              0.2222222222222222,
              "#7201a8"
             ],
             [
              0.3333333333333333,
              "#9c179e"
             ],
             [
              0.4444444444444444,
              "#bd3786"
             ],
             [
              0.5555555555555556,
              "#d8576b"
             ],
             [
              0.6666666666666666,
              "#ed7953"
             ],
             [
              0.7777777777777778,
              "#fb9f3a"
             ],
             [
              0.8888888888888888,
              "#fdca26"
             ],
             [
              1,
              "#f0f921"
             ]
            ],
            "type": "histogram2dcontour"
           }
          ],
          "mesh3d": [
           {
            "colorbar": {
             "outlinewidth": 0,
             "ticks": ""
            },
            "type": "mesh3d"
           }
          ],
          "parcoords": [
           {
            "line": {
             "colorbar": {
              "outlinewidth": 0,
              "ticks": ""
             }
            },
            "type": "parcoords"
           }
          ],
          "pie": [
           {
            "automargin": true,
            "type": "pie"
           }
          ],
          "scatter": [
           {
            "fillpattern": {
             "fillmode": "overlay",
             "size": 10,
             "solidity": 0.2
            },
            "type": "scatter"
           }
          ],
          "scatter3d": [
           {
            "line": {
             "colorbar": {
              "outlinewidth": 0,
              "ticks": ""
             }
            },
            "marker": {
             "colorbar": {
              "outlinewidth": 0,
              "ticks": ""
             }
            },
            "type": "scatter3d"
           }
          ],
          "scattercarpet": [
           {
            "marker": {
             "colorbar": {
              "outlinewidth": 0,
              "ticks": ""
             }
            },
            "type": "scattercarpet"
           }
          ],
          "scattergeo": [
           {
            "marker": {
             "colorbar": {
              "outlinewidth": 0,
              "ticks": ""
             }
            },
            "type": "scattergeo"
           }
          ],
          "scattergl": [
           {
            "marker": {
             "colorbar": {
              "outlinewidth": 0,
              "ticks": ""
             }
            },
            "type": "scattergl"
           }
          ],
          "scattermap": [
           {
            "marker": {
             "colorbar": {
              "outlinewidth": 0,
              "ticks": ""
             }
            },
            "type": "scattermap"
           }
          ],
          "scattermapbox": [
           {
            "marker": {
             "colorbar": {
              "outlinewidth": 0,
              "ticks": ""
             }
            },
            "type": "scattermapbox"
           }
          ],
          "scatterpolar": [
           {
            "marker": {
             "colorbar": {
              "outlinewidth": 0,
              "ticks": ""
             }
            },
            "type": "scatterpolar"
           }
          ],
          "scatterpolargl": [
           {
            "marker": {
             "colorbar": {
              "outlinewidth": 0,
              "ticks": ""
             }
            },
            "type": "scatterpolargl"
           }
          ],
          "scatterternary": [
           {
            "marker": {
             "colorbar": {
              "outlinewidth": 0,
              "ticks": ""
             }
            },
            "type": "scatterternary"
           }
          ],
          "surface": [
           {
            "colorbar": {
             "outlinewidth": 0,
             "ticks": ""
            },
            "colorscale": [
             [
              0,
              "#0d0887"
             ],
             [
              0.1111111111111111,
              "#46039f"
             ],
             [
              0.2222222222222222,
              "#7201a8"
             ],
             [
              0.3333333333333333,
              "#9c179e"
             ],
             [
              0.4444444444444444,
              "#bd3786"
             ],
             [
              0.5555555555555556,
              "#d8576b"
             ],
             [
              0.6666666666666666,
              "#ed7953"
             ],
             [
              0.7777777777777778,
              "#fb9f3a"
             ],
             [
              0.8888888888888888,
              "#fdca26"
             ],
             [
              1,
              "#f0f921"
             ]
            ],
            "type": "surface"
           }
          ],
          "table": [
           {
            "cells": {
             "fill": {
              "color": "#EBF0F8"
             },
             "line": {
              "color": "white"
             }
            },
            "header": {
             "fill": {
              "color": "#C8D4E3"
             },
             "line": {
              "color": "white"
             }
            },
            "type": "table"
           }
          ]
         },
         "layout": {
          "annotationdefaults": {
           "arrowcolor": "#2a3f5f",
           "arrowhead": 0,
           "arrowwidth": 1
          },
          "autotypenumbers": "strict",
          "coloraxis": {
           "colorbar": {
            "outlinewidth": 0,
            "ticks": ""
           }
          },
          "colorscale": {
           "diverging": [
            [
             0,
             "#8e0152"
            ],
            [
             0.1,
             "#c51b7d"
            ],
            [
             0.2,
             "#de77ae"
            ],
            [
             0.3,
             "#f1b6da"
            ],
            [
             0.4,
             "#fde0ef"
            ],
            [
             0.5,
             "#f7f7f7"
            ],
            [
             0.6,
             "#e6f5d0"
            ],
            [
             0.7,
             "#b8e186"
            ],
            [
             0.8,
             "#7fbc41"
            ],
            [
             0.9,
             "#4d9221"
            ],
            [
             1,
             "#276419"
            ]
           ],
           "sequential": [
            [
             0,
             "#0d0887"
            ],
            [
             0.1111111111111111,
             "#46039f"
            ],
            [
             0.2222222222222222,
             "#7201a8"
            ],
            [
             0.3333333333333333,
             "#9c179e"
            ],
            [
             0.4444444444444444,
             "#bd3786"
            ],
            [
             0.5555555555555556,
             "#d8576b"
            ],
            [
             0.6666666666666666,
             "#ed7953"
            ],
            [
             0.7777777777777778,
             "#fb9f3a"
            ],
            [
             0.8888888888888888,
             "#fdca26"
            ],
            [
             1,
             "#f0f921"
            ]
           ],
           "sequentialminus": [
            [
             0,
             "#0d0887"
            ],
            [
             0.1111111111111111,
             "#46039f"
            ],
            [
             0.2222222222222222,
             "#7201a8"
            ],
            [
             0.3333333333333333,
             "#9c179e"
            ],
            [
             0.4444444444444444,
             "#bd3786"
            ],
            [
             0.5555555555555556,
             "#d8576b"
            ],
            [
             0.6666666666666666,
             "#ed7953"
            ],
            [
             0.7777777777777778,
             "#fb9f3a"
            ],
            [
             0.8888888888888888,
             "#fdca26"
            ],
            [
             1,
             "#f0f921"
            ]
           ]
          },
          "colorway": [
           "#636efa",
           "#EF553B",
           "#00cc96",
           "#ab63fa",
           "#FFA15A",
           "#19d3f3",
           "#FF6692",
           "#B6E880",
           "#FF97FF",
           "#FECB52"
          ],
          "font": {
           "color": "#2a3f5f"
          },
          "geo": {
           "bgcolor": "white",
           "lakecolor": "white",
           "landcolor": "#E5ECF6",
           "showlakes": true,
           "showland": true,
           "subunitcolor": "white"
          },
          "hoverlabel": {
           "align": "left"
          },
          "hovermode": "closest",
          "mapbox": {
           "style": "light"
          },
          "paper_bgcolor": "white",
          "plot_bgcolor": "#E5ECF6",
          "polar": {
           "angularaxis": {
            "gridcolor": "white",
            "linecolor": "white",
            "ticks": ""
           },
           "bgcolor": "#E5ECF6",
           "radialaxis": {
            "gridcolor": "white",
            "linecolor": "white",
            "ticks": ""
           }
          },
          "scene": {
           "xaxis": {
            "backgroundcolor": "#E5ECF6",
            "gridcolor": "white",
            "gridwidth": 2,
            "linecolor": "white",
            "showbackground": true,
            "ticks": "",
            "zerolinecolor": "white"
           },
           "yaxis": {
            "backgroundcolor": "#E5ECF6",
            "gridcolor": "white",
            "gridwidth": 2,
            "linecolor": "white",
            "showbackground": true,
            "ticks": "",
            "zerolinecolor": "white"
           },
           "zaxis": {
            "backgroundcolor": "#E5ECF6",
            "gridcolor": "white",
            "gridwidth": 2,
            "linecolor": "white",
            "showbackground": true,
            "ticks": "",
            "zerolinecolor": "white"
           }
          },
          "shapedefaults": {
           "line": {
            "color": "#2a3f5f"
           }
          },
          "ternary": {
           "aaxis": {
            "gridcolor": "white",
            "linecolor": "white",
            "ticks": ""
           },
           "baxis": {
            "gridcolor": "white",
            "linecolor": "white",
            "ticks": ""
           },
           "bgcolor": "#E5ECF6",
           "caxis": {
            "gridcolor": "white",
            "linecolor": "white",
            "ticks": ""
           }
          },
          "title": {
           "x": 0.05
          },
          "xaxis": {
           "automargin": true,
           "gridcolor": "white",
           "linecolor": "white",
           "ticks": "",
           "title": {
            "standoff": 15
           },
           "zerolinecolor": "white",
           "zerolinewidth": 2
          },
          "yaxis": {
           "automargin": true,
           "gridcolor": "white",
           "linecolor": "white",
           "ticks": "",
           "title": {
            "standoff": 15
           },
           "zerolinecolor": "white",
           "zerolinewidth": 2
          }
         }
        },
        "title": {
         "text": "Time Series of Type and Label"
        },
        "xaxis": {
         "anchor": "y",
         "domain": [
          0,
          1
         ],
         "title": {
          "text": "datetime"
         }
        },
        "yaxis": {
         "anchor": "x",
         "domain": [
          0,
          1
         ],
         "title": {
          "text": "Type"
         }
        }
       }
      }
     },
     "metadata": {},
     "output_type": "display_data"
    }
   ],
   "source": [
    "# 根據datetime繪製type和label的時間序列分佈圖\n",
    "datetime_df = pd.DataFrame({'datetime' : df.datetime, 'type': df.type, 'label': df.label})\n",
    "datetime_df = datetime_df.sort_values(by='datetime', ascending=False).reset_index(drop=True)\n",
    "fig = px.scatter(datetime_df, x='datetime', y='type', color='label', title='Time Series of Type and Label', labels={'type': 'Type', 'label': 'Label'})\n",
    "fig.show()"
   ]
  },
  {
   "cell_type": "markdown",
   "metadata": {},
   "source": [
    "# Phase 2"
   ]
  },
  {
   "cell_type": "code",
   "execution_count": 125,
   "metadata": {},
   "outputs": [],
   "source": [
    "### Begin Assignment Here"
   ]
  }
 ],
 "metadata": {
  "kernelspec": {
   "display_name": "DM2025-Lab1-Exercise-6CgUjXLp",
   "language": "python",
   "name": "python3"
  },
  "language_info": {
   "codemirror_mode": {
    "name": "ipython",
    "version": 3
   },
   "file_extension": ".py",
   "mimetype": "text/x-python",
   "name": "python",
   "nbconvert_exporter": "python",
   "pygments_lexer": "ipython3",
   "version": "3.11.0"
  }
 },
 "nbformat": 4,
 "nbformat_minor": 4
}
